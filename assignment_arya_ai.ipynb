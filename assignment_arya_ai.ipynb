{
  "metadata": {
    "kernelspec": {
      "language": "python",
      "display_name": "Python 3",
      "name": "python3"
    },
    "language_info": {
      "pygments_lexer": "ipython3",
      "nbconvert_exporter": "python",
      "version": "3.6.4",
      "file_extension": ".py",
      "codemirror_mode": {
        "name": "ipython",
        "version": 3
      },
      "name": "python",
      "mimetype": "text/x-python"
    },
    "colab": {
      "name": "assignment-arya-ai.ipynb",
      "provenance": [],
      "include_colab_link": true
    }
  },
  "nbformat_minor": 0,
  "nbformat": 4,
  "cells": [
    {
      "cell_type": "markdown",
      "metadata": {
        "id": "view-in-github",
        "colab_type": "text"
      },
      "source": [
        "<a href=\"https://colab.research.google.com/github/abhishp021/abhishp021/blob/main/assignment_arya_ai.ipynb\" target=\"_parent\"><img src=\"https://colab.research.google.com/assets/colab-badge.svg\" alt=\"Open In Colab\"/></a>"
      ]
    },
    {
      "cell_type": "markdown",
      "source": [
        "# Importing Libraries"
      ],
      "metadata": {
        "_uuid": "ca4bb319-2b8a-41c6-9213-6b87435f56d8",
        "_cell_guid": "acce569a-ca25-4eb1-98b5-9175e3dfc08e",
        "trusted": true,
        "id": "LU1uoRsLQS57"
      }
    },
    {
      "cell_type": "code",
      "source": [
        "# Import helpful libraries\n",
        "import pandas as pd\n",
        "import numpy as np\n",
        "import scipy.stats as stats\n",
        "import seaborn as sns\n",
        "import matplotlib\n",
        "import matplotlib.pyplot as plt\n",
        "from sklearn.ensemble import RandomForestRegressor\n",
        "from sklearn.metrics import mean_absolute_error\n",
        "from sklearn.model_selection import train_test_split"
      ],
      "metadata": {
        "_uuid": "06455c80-f1df-47a7-a8de-b6d0a752c1b8",
        "_cell_guid": "51641119-fd45-4d2a-b533-c2496cb46f7a",
        "execution": {
          "iopub.status.busy": "2022-06-08T16:27:38.982999Z",
          "iopub.execute_input": "2022-06-08T16:27:38.983954Z",
          "iopub.status.idle": "2022-06-08T16:27:38.990915Z",
          "shell.execute_reply.started": "2022-06-08T16:27:38.983895Z",
          "shell.execute_reply": "2022-06-08T16:27:38.989793Z"
        },
        "jupyter": {
          "outputs_hidden": false
        },
        "trusted": true,
        "id": "p-EtijkKQS5_"
      },
      "execution_count": 1,
      "outputs": []
    },
    {
      "cell_type": "markdown",
      "source": [
        "# Loading dataset"
      ],
      "metadata": {
        "_uuid": "1b7276ab-5c84-4bb2-8171-bff848b7256f",
        "_cell_guid": "f67705c6-76e7-4ac8-ac15-ba5a10442d3a",
        "trusted": true,
        "id": "yojhlJsVQS6A"
      }
    },
    {
      "cell_type": "code",
      "source": [
        "# Loading the Train Data Set\n",
        "data = pd.read_csv('/content/training_set.csv')\n",
        "data"
      ],
      "metadata": {
        "_uuid": "e0d844a0-a731-4921-aec5-fc08fe7b30d1",
        "_cell_guid": "3353aa33-402c-43f1-90a5-a21b472b80da",
        "execution": {
          "iopub.status.busy": "2022-06-08T16:27:39.029247Z",
          "iopub.execute_input": "2022-06-08T16:27:39.029826Z",
          "iopub.status.idle": "2022-06-08T16:27:39.126662Z",
          "shell.execute_reply.started": "2022-06-08T16:27:39.029793Z",
          "shell.execute_reply": "2022-06-08T16:27:39.125487Z"
        },
        "jupyter": {
          "outputs_hidden": false
        },
        "trusted": true,
        "id": "fIso23FXQS6B"
      },
      "execution_count": null,
      "outputs": []
    },
    {
      "cell_type": "code",
      "source": [
        "data.describe"
      ],
      "metadata": {
        "_uuid": "41ea38c5-edc7-4ee0-8c3d-87141439c3d1",
        "_cell_guid": "00aa4b0b-7273-4eb8-b913-88cdeb90b708",
        "execution": {
          "iopub.status.busy": "2022-06-08T16:27:39.129000Z",
          "iopub.execute_input": "2022-06-08T16:27:39.129588Z",
          "iopub.status.idle": "2022-06-08T16:27:39.155297Z",
          "shell.execute_reply.started": "2022-06-08T16:27:39.129540Z",
          "shell.execute_reply": "2022-06-08T16:27:39.154079Z"
        },
        "jupyter": {
          "outputs_hidden": false
        },
        "trusted": true,
        "id": "CmNeBUprQS6C"
      },
      "execution_count": null,
      "outputs": []
    },
    {
      "cell_type": "code",
      "source": [
        "data['Unnamed: 0']"
      ],
      "metadata": {
        "_uuid": "c71c0119-7477-46a1-b64f-21554f562442",
        "_cell_guid": "fd743ba4-11ee-4003-a863-ecc02b0806e7",
        "execution": {
          "iopub.status.busy": "2022-06-08T16:27:39.156680Z",
          "iopub.execute_input": "2022-06-08T16:27:39.157927Z",
          "iopub.status.idle": "2022-06-08T16:27:39.165760Z",
          "shell.execute_reply.started": "2022-06-08T16:27:39.157885Z",
          "shell.execute_reply": "2022-06-08T16:27:39.165072Z"
        },
        "jupyter": {
          "outputs_hidden": false
        },
        "trusted": true,
        "id": "kkcyM2NbQS6D"
      },
      "execution_count": null,
      "outputs": []
    },
    {
      "cell_type": "markdown",
      "source": [
        "### Inference\n",
        "* The column 'Unnamed: 0' is acting like the index.\n",
        "* So we can remove this column from our dataset\n",
        "* Y column is our output column"
      ],
      "metadata": {
        "_uuid": "f24ef45d-9b55-4570-8db4-1ef95abcfa31",
        "_cell_guid": "b45c6db5-6349-43ce-90a8-2be22dfe2dcf",
        "trusted": true,
        "id": "tZZYqjBCQS6E"
      }
    },
    {
      "cell_type": "code",
      "source": [
        "unchanged_data = data.copy()\n",
        "data = data.drop('Unnamed: 0', axis = 1)\n",
        "data.head()"
      ],
      "metadata": {
        "_uuid": "5c73baa7-6d10-42e1-84f0-7544ad5381bf",
        "_cell_guid": "25f3107c-1b1d-43af-b22a-3c003264e34a",
        "execution": {
          "iopub.status.busy": "2022-06-08T16:27:39.167734Z",
          "iopub.execute_input": "2022-06-08T16:27:39.168402Z",
          "iopub.status.idle": "2022-06-08T16:27:39.215980Z",
          "shell.execute_reply.started": "2022-06-08T16:27:39.168368Z",
          "shell.execute_reply": "2022-06-08T16:27:39.214884Z"
        },
        "jupyter": {
          "outputs_hidden": false
        },
        "trusted": true,
        "id": "NvVzy2NBQS6F"
      },
      "execution_count": null,
      "outputs": []
    },
    {
      "cell_type": "markdown",
      "source": [
        "# Exploration"
      ],
      "metadata": {
        "_uuid": "534b1af2-4b99-4836-9bea-b67581fe4eec",
        "_cell_guid": "8de92b9c-ca87-4f7c-81ac-38cd1cfbd407",
        "trusted": true,
        "id": "J5HN8a7DQS6H"
      }
    },
    {
      "cell_type": "code",
      "source": [
        "data.dtypes"
      ],
      "metadata": {
        "_uuid": "08e5a96d-c16f-49f0-9ece-55ac7f72d5f4",
        "_cell_guid": "09ec80d5-28f8-463a-a15a-0a995cedc288",
        "execution": {
          "iopub.status.busy": "2022-06-08T16:27:39.217999Z",
          "iopub.execute_input": "2022-06-08T16:27:39.218501Z",
          "iopub.status.idle": "2022-06-08T16:27:39.228726Z",
          "shell.execute_reply.started": "2022-06-08T16:27:39.218462Z",
          "shell.execute_reply": "2022-06-08T16:27:39.228046Z"
        },
        "jupyter": {
          "outputs_hidden": false
        },
        "trusted": true,
        "id": "_-bK3Rm9QS6I"
      },
      "execution_count": null,
      "outputs": []
    },
    {
      "cell_type": "markdown",
      "source": [
        "> So all of our data is numerical"
      ],
      "metadata": {
        "_uuid": "1136a44c-c8f9-4bfc-a749-dfee11b79fc5",
        "_cell_guid": "909a1add-3c75-481c-b51d-1b4ee82f3f29",
        "trusted": true,
        "id": "9sWO-bTRQS6I"
      }
    },
    {
      "cell_type": "markdown",
      "source": [
        "### Checking Null values"
      ],
      "metadata": {
        "_uuid": "96a04785-7673-44e1-89f0-4b8d9910571d",
        "_cell_guid": "56cab2ae-3868-41ff-b3bb-e39e2585e6fe",
        "trusted": true,
        "id": "6Qw5vMcVQS6J"
      }
    },
    {
      "cell_type": "code",
      "source": [
        "features_with_null_values = []\n",
        "n_rows = len(data.index)\n",
        "for feature in data.columns:\n",
        "    sum_nan = data[feature].isna().sum()\n",
        "    if sum_nan > 0:\n",
        "        percentage_nan = sum_nan*100/n_rows\n",
        "        print(\"{:15s} {:5d} {:10.3f}%\".format(feature, sum_nan, percentage_nan))\n",
        "        features_with_null_values.append(feature)\n",
        "    else:\n",
        "        pass"
      ],
      "metadata": {
        "_uuid": "45cd9e0e-5df3-4954-a737-8f1a568e12ba",
        "_cell_guid": "c38f52fa-eb1f-4409-b62c-3aaab5101052",
        "execution": {
          "iopub.status.busy": "2022-06-08T16:27:39.229939Z",
          "iopub.execute_input": "2022-06-08T16:27:39.230427Z",
          "iopub.status.idle": "2022-06-08T16:27:39.260451Z",
          "shell.execute_reply.started": "2022-06-08T16:27:39.230391Z",
          "shell.execute_reply": "2022-06-08T16:27:39.259362Z"
        },
        "jupyter": {
          "outputs_hidden": false
        },
        "trusted": true,
        "id": "2qq82uQ8QS6K"
      },
      "execution_count": 7,
      "outputs": []
    },
    {
      "cell_type": "code",
      "source": [
        "print(features_with_null_values)"
      ],
      "metadata": {
        "_uuid": "b9b4953d-daa9-4a7d-a50d-b21a8e19f9b6",
        "_cell_guid": "a2e35965-090c-4f92-a44e-61448fbe5704",
        "execution": {
          "iopub.status.busy": "2022-06-08T16:27:39.261889Z",
          "iopub.execute_input": "2022-06-08T16:27:39.262379Z",
          "iopub.status.idle": "2022-06-08T16:27:39.274407Z",
          "shell.execute_reply.started": "2022-06-08T16:27:39.262331Z",
          "shell.execute_reply": "2022-06-08T16:27:39.273350Z"
        },
        "jupyter": {
          "outputs_hidden": false
        },
        "trusted": true,
        "id": "o_jOU9fEQS6L"
      },
      "execution_count": null,
      "outputs": []
    },
    {
      "cell_type": "code",
      "source": [
        "data.info()"
      ],
      "metadata": {
        "_uuid": "51888439-759f-4613-bab2-7d05be466f07",
        "_cell_guid": "48a35d26-c77c-439e-a203-1e92e7dad332",
        "execution": {
          "iopub.status.busy": "2022-06-08T16:27:39.277330Z",
          "iopub.execute_input": "2022-06-08T16:27:39.277998Z",
          "iopub.status.idle": "2022-06-08T16:27:39.298581Z",
          "shell.execute_reply.started": "2022-06-08T16:27:39.277962Z",
          "shell.execute_reply": "2022-06-08T16:27:39.297309Z"
        },
        "jupyter": {
          "outputs_hidden": false
        },
        "trusted": true,
        "id": "8kWNecMbQS6L"
      },
      "execution_count": null,
      "outputs": []
    },
    {
      "cell_type": "markdown",
      "source": [
        "> No null values"
      ],
      "metadata": {
        "_uuid": "02684c95-afad-41c6-b92b-51ba054f0a5b",
        "_cell_guid": "4147a792-e563-4121-bd95-402db0344500",
        "trusted": true,
        "id": "CTkNvt8qQS6M"
      }
    },
    {
      "cell_type": "code",
      "source": [
        "data.describe()"
      ],
      "metadata": {
        "_uuid": "56dee9bc-f5ce-4571-b0c5-359ce7c007d4",
        "_cell_guid": "ebefeea2-4d9f-4dc8-91c4-58aaf33bf6a1",
        "execution": {
          "iopub.status.busy": "2022-06-08T16:27:39.299943Z",
          "iopub.execute_input": "2022-06-08T16:27:39.300630Z",
          "iopub.status.idle": "2022-06-08T16:27:39.470904Z",
          "shell.execute_reply.started": "2022-06-08T16:27:39.300579Z",
          "shell.execute_reply": "2022-06-08T16:27:39.470105Z"
        },
        "jupyter": {
          "outputs_hidden": false
        },
        "trusted": true,
        "id": "is0L3J4uQS6N"
      },
      "execution_count": null,
      "outputs": []
    },
    {
      "cell_type": "markdown",
      "source": [
        "## Inference\n",
        "* No null values in dataset\n",
        "* Scale of values in columns X55, X56, X57. etc. is different than other features in our table"
      ],
      "metadata": {
        "_uuid": "ce6e550e-8988-4ea8-9ed6-d725dce76be7",
        "_cell_guid": "9ec14f75-7a40-47ba-a506-1243b9fee8bb",
        "trusted": true,
        "id": "YTr0l1p-QS6N"
      }
    },
    {
      "cell_type": "code",
      "source": [
        "y = data['Y']\n",
        "y.value_counts()"
      ],
      "metadata": {
        "_uuid": "5b0ddf37-8323-4188-9531-7f510d9d568b",
        "_cell_guid": "a6dafc93-d550-409c-a2e1-911945477bd9",
        "execution": {
          "iopub.status.busy": "2022-06-08T16:27:39.472341Z",
          "iopub.execute_input": "2022-06-08T16:27:39.472697Z",
          "iopub.status.idle": "2022-06-08T16:27:39.481629Z",
          "shell.execute_reply.started": "2022-06-08T16:27:39.472665Z",
          "shell.execute_reply": "2022-06-08T16:27:39.480548Z"
        },
        "jupyter": {
          "outputs_hidden": false
        },
        "trusted": true,
        "id": "msRuDrqRQS6N"
      },
      "execution_count": null,
      "outputs": []
    },
    {
      "cell_type": "markdown",
      "source": [
        "> Traning dataset has more values as 0 than 1"
      ],
      "metadata": {
        "_uuid": "de656f54-0772-4eff-92c3-fe7a7a61dbfb",
        "_cell_guid": "f5c49196-56ab-47bf-a019-de8ee929969b",
        "trusted": true,
        "id": "681cR8qHQS6O"
      }
    },
    {
      "cell_type": "markdown",
      "source": [
        "#### Checking skewness of our model\n",
        "A convenient way of evaluating skewness is with pandas’ “.skew” method. It calculates the ***Fisher–Pearson standardized moment coefficient*** for all columns in a dataframe.\n",
        "* It is applied on numerical variables\n",
        "* Here all our variables are numerical"
      ],
      "metadata": {
        "_uuid": "ebefc942-170e-47fc-b571-52db7f1fa81a",
        "_cell_guid": "3099a9c9-b0ad-4c0d-9ce7-3c864528632c",
        "trusted": true,
        "id": "34GdmsSfQS6P"
      }
    },
    {
      "cell_type": "code",
      "source": [
        "# Skew values of the features \n",
        "skewness = pd.DataFrame((data.drop(['Y'],axis =1)).skew(axis = 0).sort_values(ascending = False)).T\n",
        "skewness"
      ],
      "metadata": {
        "_uuid": "c839b817-d5db-4e56-b996-93f62d042ab2",
        "_cell_guid": "bf65aba1-9345-4f8c-801f-d7218f930b70",
        "execution": {
          "iopub.status.busy": "2022-06-08T16:27:39.483072Z",
          "iopub.execute_input": "2022-06-08T16:27:39.483732Z",
          "iopub.status.idle": "2022-06-08T16:27:39.524503Z",
          "shell.execute_reply.started": "2022-06-08T16:27:39.483686Z",
          "shell.execute_reply": "2022-06-08T16:27:39.523493Z"
        },
        "jupyter": {
          "outputs_hidden": false
        },
        "trusted": true,
        "id": "JKUw_8YRQS6P"
      },
      "execution_count": null,
      "outputs": []
    },
    {
      "cell_type": "markdown",
      "source": [
        "### Inference\n",
        "* The direction of skewness is given by the sign.\n",
        "* The coefficient compares the sample distribution with a normal distribution. The larger the value, the larger the distribution differs from a normal distribution.\n",
        "* A value of zero means no skewness at all.\n",
        "* A large negative value means the distribution is negatively skewed. A large positive value means the distribution is positively skewed.\n",
        "* Some models like Decision trees, Random Forest are fairly robust to skewness."
      ],
      "metadata": {
        "_uuid": "bbc7605b-dfaa-4d12-9cf2-7740bc35c59b",
        "_cell_guid": "c807f36e-c533-4455-8a46-f208e4756111",
        "trusted": true,
        "id": "RNNCZPsPQS6Q"
      }
    },
    {
      "cell_type": "code",
      "source": [
        "skew_y = data['Y'].skew()\n",
        "skew_y"
      ],
      "metadata": {
        "_uuid": "774c10f8-1ecb-40be-9522-4c7a709e3a05",
        "_cell_guid": "4cf74c22-321d-4e0b-9853-9d5a09975a1c",
        "execution": {
          "iopub.status.busy": "2022-06-08T16:27:39.525824Z",
          "iopub.execute_input": "2022-06-08T16:27:39.526496Z",
          "iopub.status.idle": "2022-06-08T16:27:39.533763Z",
          "shell.execute_reply.started": "2022-06-08T16:27:39.526460Z",
          "shell.execute_reply": "2022-06-08T16:27:39.532828Z"
        },
        "jupyter": {
          "outputs_hidden": false
        },
        "trusted": true,
        "colab": {
          "base_uri": "https://localhost:8080/"
        },
        "id": "Ws2eTMkiQS6R",
        "outputId": "ed86ea3e-fac4-4166-bed3-768ca5d69fce"
      },
      "execution_count": 13,
      "outputs": [
        {
          "output_type": "execute_result",
          "data": {
            "text/plain": [
              "0.4412074655482515"
            ]
          },
          "metadata": {},
          "execution_count": 13
        }
      ]
    },
    {
      "cell_type": "code",
      "source": [
        "# plot showing the Skew values for every feature\n",
        "\n",
        "plt.figure(figsize=(25,10))\n",
        "plt.xlabel('Feature')\n",
        "plt.ylabel('Skew Values')\n",
        "plt.plot(data.skew(axis = 0), marker='o')\n",
        "plt.show()"
      ],
      "metadata": {
        "_uuid": "5034ab84-b044-47f6-8331-76199930ab11",
        "_cell_guid": "995c8536-c0b8-44bb-bb3c-bcf95f7b1a64",
        "execution": {
          "iopub.status.busy": "2022-06-08T16:27:39.534955Z",
          "iopub.execute_input": "2022-06-08T16:27:39.535356Z",
          "iopub.status.idle": "2022-06-08T16:27:40.226813Z",
          "shell.execute_reply.started": "2022-06-08T16:27:39.535306Z",
          "shell.execute_reply": "2022-06-08T16:27:40.226002Z"
        },
        "jupyter": {
          "outputs_hidden": false
        },
        "trusted": true,
        "id": "KB9ai6UEQS6R"
      },
      "execution_count": null,
      "outputs": []
    },
    {
      "cell_type": "markdown",
      "source": [
        "### Analysis of features"
      ],
      "metadata": {
        "_uuid": "461c471c-a9b0-41cb-89b9-afe6e105df36",
        "_cell_guid": "4f2c5b6f-e138-400d-b624-420c6ca44259",
        "trusted": true,
        "id": "Qpw6vrZ4QS6R"
      }
    },
    {
      "cell_type": "code",
      "source": [
        "from matplotlib import rcParams\n",
        "for col in data.columns:\n",
        "    if col !='Y':\n",
        "        rcParams['figure.figsize'] = 9,5\n",
        "        sns.displot(data[col], kde=True)\n",
        "        plt.xlabel(col)\n",
        "        plt.ylabel(\"Count\")\n",
        "        plt.show()"
      ],
      "metadata": {
        "_uuid": "eca96a2e-84a4-489e-ab65-a5258ca830e3",
        "_cell_guid": "cd47cb6f-5baa-4119-a0b6-2f457110ddca",
        "execution": {
          "iopub.status.busy": "2022-06-08T16:27:40.227989Z",
          "iopub.execute_input": "2022-06-08T16:27:40.228450Z",
          "iopub.status.idle": "2022-06-08T16:28:25.093831Z",
          "shell.execute_reply.started": "2022-06-08T16:27:40.228418Z",
          "shell.execute_reply": "2022-06-08T16:28:25.092903Z"
        },
        "jupyter": {
          "outputs_hidden": false
        },
        "trusted": true,
        "id": "rMm3sjpZQS6S"
      },
      "execution_count": null,
      "outputs": []
    },
    {
      "cell_type": "markdown",
      "source": [
        "### Inference\n",
        "* We can see almost all of data is left skewed.\n",
        "* We can address skewed variables by transforming them. \n",
        "* Common transformations include square root (sqrt(x)), logarithmic (log(x)), and reciprocal (1/x)."
      ],
      "metadata": {
        "_uuid": "73c00e5f-014b-4645-8b62-f7eb59f9d9ba",
        "_cell_guid": "328f213c-b5ce-4f76-8560-8aa7b66f6f88",
        "trusted": true,
        "id": "ZGtZQ8AgQS6S"
      }
    },
    {
      "cell_type": "markdown",
      "source": [
        "# Correlation\n",
        "* Correlation tells us whether one of multiple features depend on another feature.\n",
        "* We can say that two variables are highly correlated if they have correlations above 0.5 or 0.7 depeneding on our threshold.\n",
        "* Multicollinearity - Happens when one feature can be predicted by other or combination of other features with high accuracy.\n",
        "\n",
        "* Decision Trees and Boosted Trees algorithm are not affected by correlation as their algorithm doesn't make any assumptions about it.\n",
        "* Logistic Regression and Linear Regression are affected by this problem.\n",
        "* There are two methods to detect correlation\n",
        "* Pearson Correlation Coefficient - Used when there is roughly linear relationship between features.\n",
        "* Spearman Correlation Coefficient - Used when there is non-linear relationship between features."
      ],
      "metadata": {
        "_uuid": "ce90a77c-76eb-4683-a8b9-6c6db0b10999",
        "_cell_guid": "799e37d0-f4ee-40a5-b219-d893a3630bdc",
        "trusted": true,
        "id": "PkIhMNdpQS6T"
      }
    },
    {
      "cell_type": "code",
      "source": [
        "plt.figure(figsize = (20,10))\n",
        "sns.heatmap(data.corr(), cmap=\"YlGnBu\")\n",
        "plt.title(\"Correlation map\")\n",
        "plt.show()"
      ],
      "metadata": {
        "_uuid": "3b535a08-e7a5-4843-9c20-bd647bec4cce",
        "_cell_guid": "2481dc5a-7a00-42e2-a915-0dddc5a954da",
        "execution": {
          "iopub.status.busy": "2022-06-08T16:28:25.096996Z",
          "iopub.execute_input": "2022-06-08T16:28:25.097380Z",
          "iopub.status.idle": "2022-06-08T16:28:26.132071Z",
          "shell.execute_reply.started": "2022-06-08T16:28:25.097347Z",
          "shell.execute_reply": "2022-06-08T16:28:26.131035Z"
        },
        "jupyter": {
          "outputs_hidden": false
        },
        "trusted": true,
        "id": "Lsonll9AQS6T"
      },
      "execution_count": null,
      "outputs": []
    },
    {
      "cell_type": "markdown",
      "source": [
        "Mapping a 57 x 57 matrix via heatmap is a tough task"
      ],
      "metadata": {
        "_uuid": "208a9aab-d303-4e9b-a408-4da30127f33d",
        "_cell_guid": "f7d0ccb9-14da-4917-b7b9-9a5c28344f13",
        "trusted": true,
        "id": "Jw6pdoDaQS6U"
      }
    },
    {
      "cell_type": "code",
      "source": [
        "data.drop('Y',axis =1).corr()"
      ],
      "metadata": {
        "_uuid": "de820d9a-c548-49b3-be63-0034de1c4651",
        "_cell_guid": "c5ede59e-90ff-4189-8d38-e3a630a86649",
        "execution": {
          "iopub.status.busy": "2022-06-08T16:28:26.133180Z",
          "iopub.execute_input": "2022-06-08T16:28:26.133487Z",
          "iopub.status.idle": "2022-06-08T16:28:26.239153Z",
          "shell.execute_reply.started": "2022-06-08T16:28:26.133458Z",
          "shell.execute_reply": "2022-06-08T16:28:26.238133Z"
        },
        "jupyter": {
          "outputs_hidden": false
        },
        "trusted": true,
        "id": "EKikNBbAQS6U"
      },
      "execution_count": null,
      "outputs": []
    },
    {
      "cell_type": "markdown",
      "source": [
        "Correlataion is difficult to perceive here"
      ],
      "metadata": {
        "_uuid": "b94ce5ae-eae0-4843-9d46-ce7d67bc9ff3",
        "_cell_guid": "83070cfb-5a06-4684-81df-82b0004d9951",
        "trusted": true,
        "id": "W7CqVbgdQS6V"
      }
    },
    {
      "cell_type": "markdown",
      "source": [
        "## Log Transformation\n",
        "* This is a part of feature engineering but still we are performing it here to get bettern insights about outliers.\n",
        "* Log gives a measurement of how \"big\" a number is in comparision to another number (base of log).\n",
        "* Further, the larger values tend to bias the model and influence them to a great extent.\n",
        "* Logarithm scales the data, reduces the range of data, brings linearity to the data and removes skewness to a certain extent while preserving the distribution."
      ],
      "metadata": {
        "_uuid": "cf36fa2f-e05c-479c-b7c8-35e4cb31088e",
        "_cell_guid": "fb1adf59-4b98-4e0b-81c3-5cd60d0bb61b",
        "trusted": true,
        "id": "zgFZH4PCQS6V"
      }
    },
    {
      "cell_type": "code",
      "source": [
        "# Log transform the data\n",
        "log_data = data.copy() # Will not affect the real dataset\n",
        "for col in log_data.columns:\n",
        "    if col != \"Y\":\n",
        "        log_data[col] = np.log1p(log_data[col])"
      ],
      "metadata": {
        "_uuid": "3e15cd29-5a79-4875-a667-5739a69e9573",
        "_cell_guid": "493ba593-9eb7-464b-95c2-e3c7a7f2ff76",
        "execution": {
          "iopub.status.busy": "2022-06-08T16:28:26.240506Z",
          "iopub.execute_input": "2022-06-08T16:28:26.240831Z",
          "iopub.status.idle": "2022-06-08T16:28:26.265306Z",
          "shell.execute_reply.started": "2022-06-08T16:28:26.240800Z",
          "shell.execute_reply": "2022-06-08T16:28:26.264380Z"
        },
        "jupyter": {
          "outputs_hidden": false
        },
        "trusted": true,
        "id": "TiZ4gP_PQS6W"
      },
      "execution_count": 17,
      "outputs": []
    },
    {
      "cell_type": "code",
      "source": [
        "# pd.pandas.set_option('display.max_columns', None)\n",
        "log_data.head()"
      ],
      "metadata": {
        "_uuid": "2e2795bb-462b-46c5-935b-a249e50e0bc7",
        "_cell_guid": "3393e185-bda2-4601-a107-36f3cb94c6ea",
        "execution": {
          "iopub.status.busy": "2022-06-08T16:28:26.266271Z",
          "iopub.execute_input": "2022-06-08T16:28:26.266737Z",
          "iopub.status.idle": "2022-06-08T16:28:26.297640Z",
          "shell.execute_reply.started": "2022-06-08T16:28:26.266702Z",
          "shell.execute_reply": "2022-06-08T16:28:26.296112Z"
        },
        "jupyter": {
          "outputs_hidden": false
        },
        "trusted": true,
        "colab": {
          "base_uri": "https://localhost:8080/",
          "height": 300
        },
        "id": "XS_Ir3kTQS6W",
        "outputId": "299a83cc-3b04-4ab4-dc6b-4e235099e760"
      },
      "execution_count": 18,
      "outputs": [
        {
          "output_type": "execute_result",
          "data": {
            "text/plain": [
              "         X1        X2        X3        X4        X5        X6        X7  \\\n",
              "0  0.000000  0.000000  1.675226  0.000000  0.000000  0.000000  0.000000   \n",
              "1  0.000000  0.444686  0.444686  0.000000  0.751416  0.444686  1.178655   \n",
              "2  0.000000  0.000000  0.000000  0.000000  0.000000  0.000000  0.000000   \n",
              "3  0.494696  0.000000  0.494696  0.000000  1.075002  0.000000  0.000000   \n",
              "4  0.457425  0.000000  0.000000  3.596216  0.457425  0.000000  0.457425   \n",
              "\n",
              "         X8   X9       X10  ...  X49       X50  X51       X52       X53  \\\n",
              "0  0.000000  0.0  0.000000  ...  0.0  0.000000  0.0  0.851005  0.000000   \n",
              "1  0.000000  0.0  0.444686  ...  0.0  0.079735  0.0  0.407463  0.000000   \n",
              "2  0.000000  0.0  0.000000  ...  0.0  0.000000  0.0  0.000000  0.000000   \n",
              "3  0.000000  0.0  0.000000  ...  0.0  0.000000  0.0  0.379805  0.314811   \n",
              "4  0.457425  0.0  0.000000  ...  0.0  0.000000  0.0  0.214305  0.214305   \n",
              "\n",
              "        X54       X55       X56       X57  Y  \n",
              "0  0.000000  0.788457  1.098612  2.564949  0  \n",
              "1  0.079735  2.850938  5.003946  5.929589  1  \n",
              "2  0.000000  0.693147  0.693147  1.791759  0  \n",
              "3  0.000000  1.235471  3.135494  4.812184  1  \n",
              "4  0.000000  1.467413  4.820282  5.337538  1  \n",
              "\n",
              "[5 rows x 58 columns]"
            ],
            "text/html": [
              "\n",
              "  <div id=\"df-7160d9c7-0de3-4c3a-a063-55eff02189da\">\n",
              "    <div class=\"colab-df-container\">\n",
              "      <div>\n",
              "<style scoped>\n",
              "    .dataframe tbody tr th:only-of-type {\n",
              "        vertical-align: middle;\n",
              "    }\n",
              "\n",
              "    .dataframe tbody tr th {\n",
              "        vertical-align: top;\n",
              "    }\n",
              "\n",
              "    .dataframe thead th {\n",
              "        text-align: right;\n",
              "    }\n",
              "</style>\n",
              "<table border=\"1\" class=\"dataframe\">\n",
              "  <thead>\n",
              "    <tr style=\"text-align: right;\">\n",
              "      <th></th>\n",
              "      <th>X1</th>\n",
              "      <th>X2</th>\n",
              "      <th>X3</th>\n",
              "      <th>X4</th>\n",
              "      <th>X5</th>\n",
              "      <th>X6</th>\n",
              "      <th>X7</th>\n",
              "      <th>X8</th>\n",
              "      <th>X9</th>\n",
              "      <th>X10</th>\n",
              "      <th>...</th>\n",
              "      <th>X49</th>\n",
              "      <th>X50</th>\n",
              "      <th>X51</th>\n",
              "      <th>X52</th>\n",
              "      <th>X53</th>\n",
              "      <th>X54</th>\n",
              "      <th>X55</th>\n",
              "      <th>X56</th>\n",
              "      <th>X57</th>\n",
              "      <th>Y</th>\n",
              "    </tr>\n",
              "  </thead>\n",
              "  <tbody>\n",
              "    <tr>\n",
              "      <th>0</th>\n",
              "      <td>0.000000</td>\n",
              "      <td>0.000000</td>\n",
              "      <td>1.675226</td>\n",
              "      <td>0.000000</td>\n",
              "      <td>0.000000</td>\n",
              "      <td>0.000000</td>\n",
              "      <td>0.000000</td>\n",
              "      <td>0.000000</td>\n",
              "      <td>0.0</td>\n",
              "      <td>0.000000</td>\n",
              "      <td>...</td>\n",
              "      <td>0.0</td>\n",
              "      <td>0.000000</td>\n",
              "      <td>0.0</td>\n",
              "      <td>0.851005</td>\n",
              "      <td>0.000000</td>\n",
              "      <td>0.000000</td>\n",
              "      <td>0.788457</td>\n",
              "      <td>1.098612</td>\n",
              "      <td>2.564949</td>\n",
              "      <td>0</td>\n",
              "    </tr>\n",
              "    <tr>\n",
              "      <th>1</th>\n",
              "      <td>0.000000</td>\n",
              "      <td>0.444686</td>\n",
              "      <td>0.444686</td>\n",
              "      <td>0.000000</td>\n",
              "      <td>0.751416</td>\n",
              "      <td>0.444686</td>\n",
              "      <td>1.178655</td>\n",
              "      <td>0.000000</td>\n",
              "      <td>0.0</td>\n",
              "      <td>0.444686</td>\n",
              "      <td>...</td>\n",
              "      <td>0.0</td>\n",
              "      <td>0.079735</td>\n",
              "      <td>0.0</td>\n",
              "      <td>0.407463</td>\n",
              "      <td>0.000000</td>\n",
              "      <td>0.079735</td>\n",
              "      <td>2.850938</td>\n",
              "      <td>5.003946</td>\n",
              "      <td>5.929589</td>\n",
              "      <td>1</td>\n",
              "    </tr>\n",
              "    <tr>\n",
              "      <th>2</th>\n",
              "      <td>0.000000</td>\n",
              "      <td>0.000000</td>\n",
              "      <td>0.000000</td>\n",
              "      <td>0.000000</td>\n",
              "      <td>0.000000</td>\n",
              "      <td>0.000000</td>\n",
              "      <td>0.000000</td>\n",
              "      <td>0.000000</td>\n",
              "      <td>0.0</td>\n",
              "      <td>0.000000</td>\n",
              "      <td>...</td>\n",
              "      <td>0.0</td>\n",
              "      <td>0.000000</td>\n",
              "      <td>0.0</td>\n",
              "      <td>0.000000</td>\n",
              "      <td>0.000000</td>\n",
              "      <td>0.000000</td>\n",
              "      <td>0.693147</td>\n",
              "      <td>0.693147</td>\n",
              "      <td>1.791759</td>\n",
              "      <td>0</td>\n",
              "    </tr>\n",
              "    <tr>\n",
              "      <th>3</th>\n",
              "      <td>0.494696</td>\n",
              "      <td>0.000000</td>\n",
              "      <td>0.494696</td>\n",
              "      <td>0.000000</td>\n",
              "      <td>1.075002</td>\n",
              "      <td>0.000000</td>\n",
              "      <td>0.000000</td>\n",
              "      <td>0.000000</td>\n",
              "      <td>0.0</td>\n",
              "      <td>0.000000</td>\n",
              "      <td>...</td>\n",
              "      <td>0.0</td>\n",
              "      <td>0.000000</td>\n",
              "      <td>0.0</td>\n",
              "      <td>0.379805</td>\n",
              "      <td>0.314811</td>\n",
              "      <td>0.000000</td>\n",
              "      <td>1.235471</td>\n",
              "      <td>3.135494</td>\n",
              "      <td>4.812184</td>\n",
              "      <td>1</td>\n",
              "    </tr>\n",
              "    <tr>\n",
              "      <th>4</th>\n",
              "      <td>0.457425</td>\n",
              "      <td>0.000000</td>\n",
              "      <td>0.000000</td>\n",
              "      <td>3.596216</td>\n",
              "      <td>0.457425</td>\n",
              "      <td>0.000000</td>\n",
              "      <td>0.457425</td>\n",
              "      <td>0.457425</td>\n",
              "      <td>0.0</td>\n",
              "      <td>0.000000</td>\n",
              "      <td>...</td>\n",
              "      <td>0.0</td>\n",
              "      <td>0.000000</td>\n",
              "      <td>0.0</td>\n",
              "      <td>0.214305</td>\n",
              "      <td>0.214305</td>\n",
              "      <td>0.000000</td>\n",
              "      <td>1.467413</td>\n",
              "      <td>4.820282</td>\n",
              "      <td>5.337538</td>\n",
              "      <td>1</td>\n",
              "    </tr>\n",
              "  </tbody>\n",
              "</table>\n",
              "<p>5 rows × 58 columns</p>\n",
              "</div>\n",
              "      <button class=\"colab-df-convert\" onclick=\"convertToInteractive('df-7160d9c7-0de3-4c3a-a063-55eff02189da')\"\n",
              "              title=\"Convert this dataframe to an interactive table.\"\n",
              "              style=\"display:none;\">\n",
              "        \n",
              "  <svg xmlns=\"http://www.w3.org/2000/svg\" height=\"24px\"viewBox=\"0 0 24 24\"\n",
              "       width=\"24px\">\n",
              "    <path d=\"M0 0h24v24H0V0z\" fill=\"none\"/>\n",
              "    <path d=\"M18.56 5.44l.94 2.06.94-2.06 2.06-.94-2.06-.94-.94-2.06-.94 2.06-2.06.94zm-11 1L8.5 8.5l.94-2.06 2.06-.94-2.06-.94L8.5 2.5l-.94 2.06-2.06.94zm10 10l.94 2.06.94-2.06 2.06-.94-2.06-.94-.94-2.06-.94 2.06-2.06.94z\"/><path d=\"M17.41 7.96l-1.37-1.37c-.4-.4-.92-.59-1.43-.59-.52 0-1.04.2-1.43.59L10.3 9.45l-7.72 7.72c-.78.78-.78 2.05 0 2.83L4 21.41c.39.39.9.59 1.41.59.51 0 1.02-.2 1.41-.59l7.78-7.78 2.81-2.81c.8-.78.8-2.07 0-2.86zM5.41 20L4 18.59l7.72-7.72 1.47 1.35L5.41 20z\"/>\n",
              "  </svg>\n",
              "      </button>\n",
              "      \n",
              "  <style>\n",
              "    .colab-df-container {\n",
              "      display:flex;\n",
              "      flex-wrap:wrap;\n",
              "      gap: 12px;\n",
              "    }\n",
              "\n",
              "    .colab-df-convert {\n",
              "      background-color: #E8F0FE;\n",
              "      border: none;\n",
              "      border-radius: 50%;\n",
              "      cursor: pointer;\n",
              "      display: none;\n",
              "      fill: #1967D2;\n",
              "      height: 32px;\n",
              "      padding: 0 0 0 0;\n",
              "      width: 32px;\n",
              "    }\n",
              "\n",
              "    .colab-df-convert:hover {\n",
              "      background-color: #E2EBFA;\n",
              "      box-shadow: 0px 1px 2px rgba(60, 64, 67, 0.3), 0px 1px 3px 1px rgba(60, 64, 67, 0.15);\n",
              "      fill: #174EA6;\n",
              "    }\n",
              "\n",
              "    [theme=dark] .colab-df-convert {\n",
              "      background-color: #3B4455;\n",
              "      fill: #D2E3FC;\n",
              "    }\n",
              "\n",
              "    [theme=dark] .colab-df-convert:hover {\n",
              "      background-color: #434B5C;\n",
              "      box-shadow: 0px 1px 3px 1px rgba(0, 0, 0, 0.15);\n",
              "      filter: drop-shadow(0px 1px 2px rgba(0, 0, 0, 0.3));\n",
              "      fill: #FFFFFF;\n",
              "    }\n",
              "  </style>\n",
              "\n",
              "      <script>\n",
              "        const buttonEl =\n",
              "          document.querySelector('#df-7160d9c7-0de3-4c3a-a063-55eff02189da button.colab-df-convert');\n",
              "        buttonEl.style.display =\n",
              "          google.colab.kernel.accessAllowed ? 'block' : 'none';\n",
              "\n",
              "        async function convertToInteractive(key) {\n",
              "          const element = document.querySelector('#df-7160d9c7-0de3-4c3a-a063-55eff02189da');\n",
              "          const dataTable =\n",
              "            await google.colab.kernel.invokeFunction('convertToInteractive',\n",
              "                                                     [key], {});\n",
              "          if (!dataTable) return;\n",
              "\n",
              "          const docLinkHtml = 'Like what you see? Visit the ' +\n",
              "            '<a target=\"_blank\" href=https://colab.research.google.com/notebooks/data_table.ipynb>data table notebook</a>'\n",
              "            + ' to learn more about interactive tables.';\n",
              "          element.innerHTML = '';\n",
              "          dataTable['output_type'] = 'display_data';\n",
              "          await google.colab.output.renderOutput(dataTable, element);\n",
              "          const docLink = document.createElement('div');\n",
              "          docLink.innerHTML = docLinkHtml;\n",
              "          element.appendChild(docLink);\n",
              "        }\n",
              "      </script>\n",
              "    </div>\n",
              "  </div>\n",
              "  "
            ]
          },
          "metadata": {},
          "execution_count": 18
        }
      ]
    },
    {
      "cell_type": "code",
      "source": [
        "for col in log_data.columns:\n",
        "    if col !='Y':\n",
        "        sns.displot(log_data[col], kde=True)\n",
        "        plt.xlabel(col)\n",
        "        plt.ylabel(\"Count\")\n",
        "        plt.show()"
      ],
      "metadata": {
        "_uuid": "b258b097-0ddc-45d0-9bd8-39f00610d435",
        "_cell_guid": "e8f08e9a-cdb2-4848-b4fe-9eced71078ce",
        "execution": {
          "iopub.status.busy": "2022-06-08T16:28:26.299218Z",
          "iopub.execute_input": "2022-06-08T16:28:26.299704Z",
          "iopub.status.idle": "2022-06-08T16:28:47.298657Z",
          "shell.execute_reply.started": "2022-06-08T16:28:26.299655Z",
          "shell.execute_reply": "2022-06-08T16:28:47.296741Z"
        },
        "jupyter": {
          "outputs_hidden": false
        },
        "trusted": true,
        "id": "wcP2gKG6QS6X"
      },
      "execution_count": null,
      "outputs": []
    },
    {
      "cell_type": "code",
      "source": [
        "# Checking for outliers now.\n",
        "for col in data.columns:    \n",
        "    if col == 'Y':\n",
        "        continue\n",
        "    figure, axes = plt.subplots(1,2, figsize=(14,4))\n",
        "    sns.boxplot(ax = axes[0],y=data[col])\n",
        "    sns.boxplot(ax = axes[1],y=log_data[col])\n",
        "    plt.ylabel(col)\n",
        "    plt.show()"
      ],
      "metadata": {
        "_uuid": "8c3049ca-a3e1-4c80-9b57-e3b5b5b842f6",
        "_cell_guid": "1503e2ec-fc9b-43f5-aa80-7e747c03ba13",
        "execution": {
          "iopub.status.busy": "2022-06-08T16:28:47.300871Z",
          "iopub.execute_input": "2022-06-08T16:28:47.301502Z",
          "iopub.status.idle": "2022-06-08T16:29:02.277500Z",
          "shell.execute_reply.started": "2022-06-08T16:28:47.301461Z",
          "shell.execute_reply": "2022-06-08T16:29:02.275937Z"
        },
        "jupyter": {
          "outputs_hidden": false
        },
        "trusted": true,
        "id": "uR2uzNHnQS6X"
      },
      "execution_count": null,
      "outputs": []
    },
    {
      "cell_type": "markdown",
      "source": [
        "### Inference\n",
        "* Still presence of lot of outliers\n",
        "* Data is still skewed after log transformations.\n",
        "* We will try to use algorithms based on trees since they are not much affected by skewness of data"
      ],
      "metadata": {
        "_uuid": "4b6d487b-ff42-42d9-a23c-e40abfea5a96",
        "_cell_guid": "4f641351-45d0-4683-834f-e99d8a29be32",
        "trusted": true,
        "id": "fRms9z4fQS6Y"
      }
    },
    {
      "cell_type": "markdown",
      "source": [
        "## Feature Selection using statistical tests\n",
        "Feature selection techniques that can be used for numerical input data and a categorical (class) target variable.\n",
        "1. ANOVA-f Statistic.\n",
        "2. Mutual Information Statistics.\n",
        "\n",
        "#### ANOVA-f test\n",
        "ANOVA means Analysis of Variance and is used to determine whether the means from two or more samples of data come from the same distribution or not.\n",
        "F-test, is a class of statistical tests that calculate the ratio between variances values, such as the variance from two different samples or the explained and unexplained variance by a statistical test, like ANOVA.\n",
        "\n",
        "#### Mutual Information Statistics\n",
        "Mutual information is the application of information gain (typically used with decision trees) to feature selection.\n",
        "Mutual information is calculated between two variables and measures the reduction in uncertainty for one variable given a known value of the other variable."
      ],
      "metadata": {
        "_uuid": "da28cfd7-9110-47c1-8afa-a59fe86fce5c",
        "_cell_guid": "3dc81ac7-c474-4d9f-a01b-fe30bb3c0354",
        "trusted": true,
        "id": "LEDSDdXBQS6Y"
      }
    },
    {
      "cell_type": "markdown",
      "source": [
        "### Feature Selection with ANOVA F-test"
      ],
      "metadata": {
        "_uuid": "3954c043-a110-49b4-b9a2-edd63ce41aa8",
        "_cell_guid": "fdee91d5-509b-44cc-999d-961a4d568532",
        "trusted": true,
        "id": "kMFS1jPHQS6Y"
      }
    },
    {
      "cell_type": "code",
      "source": [
        "from sklearn.model_selection import train_test_split\n",
        "from sklearn.feature_selection import SelectKBest\n",
        "from sklearn.feature_selection import f_classif\n",
        " \n",
        "# load the dataset\n",
        "def create_XY(data_received):\n",
        "    dataset = data.values\n",
        "    X = dataset[:, :-1]\n",
        "    y = dataset[:,-1]\n",
        "    return X, y\n",
        " \n",
        "# feature selection\n",
        "def select_features(X_train, y_train, X_test):\n",
        "    # configure to select all features\n",
        "    fs = SelectKBest(score_func=f_classif, k='all')\n",
        "    # learn relationship from training data\n",
        "    fs.fit(X_train, y_train)\n",
        "    # transform train input data\n",
        "    X_train_fs = fs.transform(X_train)\n",
        "    # transform test input data\n",
        "    X_test_fs = fs.transform(X_test)\n",
        "    return X_train_fs, X_test_fs, fs\n",
        " \n",
        "# load the dataset\n",
        "X, y = create_XY(data)\n",
        "# split into train and test sets\n",
        "X_train, X_test, y_train, y_test = train_test_split(X, y, test_size=0.2, random_state=1)\n",
        "# feature selection\n",
        "X_train_fs_anova, X_test_fs_anova, fs_anova = select_features(X_train, y_train, X_test)\n",
        "# what are scores for the features\n",
        "for i in range(len(fs_anova.scores_)):\n",
        "    print('Feature X%d: %f' % (i+1, fs_anova.scores_[i]))\n",
        "\n",
        "    \n",
        "# plot the scores\n",
        "plt.figure(figsize = (20,7))\n",
        "plt.bar([i for i in range(len(fs_anova.scores_))], fs_anova.scores_)\n",
        "plt.ylabel('Feature Importance Score')\n",
        "plt.show()"
      ],
      "metadata": {
        "_uuid": "00e5430b-ada8-481d-840e-993a9602fc1a",
        "_cell_guid": "b72a75f9-743f-48f4-bc98-1460bab48c79",
        "execution": {
          "iopub.status.busy": "2022-06-08T16:29:02.278979Z",
          "iopub.execute_input": "2022-06-08T16:29:02.279393Z",
          "iopub.status.idle": "2022-06-08T16:29:02.592461Z",
          "shell.execute_reply.started": "2022-06-08T16:29:02.279360Z",
          "shell.execute_reply": "2022-06-08T16:29:02.591721Z"
        },
        "jupyter": {
          "outputs_hidden": false
        },
        "trusted": true,
        "id": "pw_2AUmYQS6Z"
      },
      "execution_count": null,
      "outputs": []
    },
    {
      "cell_type": "markdown",
      "source": [
        "### Feature Selection with Mutual Information"
      ],
      "metadata": {
        "_uuid": "8d33034b-596e-473a-85fc-ebc9c9d385d9",
        "_cell_guid": "2358c6a8-75f7-4484-9db2-9d3f26068278",
        "trusted": true,
        "id": "CWIRJWDZQS6Z"
      }
    },
    {
      "cell_type": "code",
      "source": [
        "from sklearn.feature_selection import mutual_info_classif\n",
        "\n",
        "def select_features(X_train, y_train, X_test):\n",
        "    # configure to select all features\n",
        "    fs = SelectKBest(score_func=mutual_info_classif, k='all')    # Mutual info classif\n",
        "    # learn relationship from training data\n",
        "    fs.fit(X_train, y_train)\n",
        "    # transform train input data\n",
        "    X_train_fs = fs.transform(X_train)\n",
        "    # transform test input data\n",
        "    X_test_fs = fs.transform(X_test)\n",
        "    return X_train_fs, X_test_fs, fs\n",
        " \n",
        "# feature selection\n",
        "X_train_fs_mi, X_test_fs_mi, fs_mi = select_features(X_train, y_train, X_test)\n",
        "# what are scores for the features\n",
        "for i in range(len(fs_mi.scores_)):\n",
        "    print('Feature X%d: %f' % (i+1, fs_mi.scores_[i]))\n",
        "# plot the scores\n",
        "plt.figure(figsize = (20,7))\n",
        "plt.bar([i for i in range(len(fs_mi.scores_))], fs_mi.scores_)\n",
        "plt.ylabel('Feature Importance Score')\n",
        "plt.show()"
      ],
      "metadata": {
        "_uuid": "c38e615a-5d29-4026-a023-541fca260b62",
        "_cell_guid": "d75480b0-382c-4e26-9fb7-14109ff57bb9",
        "execution": {
          "iopub.status.busy": "2022-06-08T16:29:02.593615Z",
          "iopub.execute_input": "2022-06-08T16:29:02.594478Z",
          "iopub.status.idle": "2022-06-08T16:29:03.707980Z",
          "shell.execute_reply.started": "2022-06-08T16:29:02.594418Z",
          "shell.execute_reply": "2022-06-08T16:29:03.707015Z"
        },
        "jupyter": {
          "outputs_hidden": false
        },
        "trusted": true,
        "id": "bPMvjzYUQS6Z"
      },
      "execution_count": null,
      "outputs": []
    },
    {
      "cell_type": "code",
      "source": [
        "fs_anova_scores = fs_anova.scores_\n",
        "fs_mi_scores = fs_mi.scores_\n",
        "fs_mi_scores"
      ],
      "metadata": {
        "_uuid": "ac0344f2-205c-42f5-99dc-f7263e7cb91b",
        "_cell_guid": "020d4d00-60a1-4026-8ef7-b705d2bb477f",
        "execution": {
          "iopub.status.busy": "2022-06-08T16:29:03.709560Z",
          "iopub.execute_input": "2022-06-08T16:29:03.709899Z",
          "iopub.status.idle": "2022-06-08T16:29:03.717464Z",
          "shell.execute_reply.started": "2022-06-08T16:29:03.709869Z",
          "shell.execute_reply": "2022-06-08T16:29:03.716518Z"
        },
        "jupyter": {
          "outputs_hidden": false
        },
        "trusted": true,
        "colab": {
          "base_uri": "https://localhost:8080/"
        },
        "id": "SKIkejweQS6a",
        "outputId": "e43e6278-bb06-459a-e605-1c7b3d6d7883"
      },
      "execution_count": 23,
      "outputs": [
        {
          "output_type": "execute_result",
          "data": {
            "text/plain": [
              "array([0.04256935, 0.05171943, 0.07810089, 0.        , 0.09520776,\n",
              "       0.06369378, 0.16076559, 0.07551882, 0.06328713, 0.07354378,\n",
              "       0.07814693, 0.05186841, 0.03659592, 0.03657682, 0.05133995,\n",
              "       0.12954428, 0.07611666, 0.05141433, 0.11466316, 0.05792389,\n",
              "       0.17289785, 0.00791697, 0.10437491, 0.14481555, 0.08944672,\n",
              "       0.07737545, 0.09634975, 0.03922726, 0.04196048, 0.04730328,\n",
              "       0.03434308, 0.0280432 , 0.00921653, 0.02114825, 0.04363587,\n",
              "       0.02410208, 0.03995463, 0.02328355, 0.03115889, 0.00155022,\n",
              "       0.02396374, 0.0368889 , 0.02315165, 0.02674762, 0.03757657,\n",
              "       0.03806966, 0.        , 0.00608458, 0.01409466, 0.04959484,\n",
              "       0.00299467, 0.20624006, 0.19337855, 0.03763456, 0.17836587,\n",
              "       0.20422499, 0.12411249])"
            ]
          },
          "metadata": {},
          "execution_count": 23
        }
      ]
    },
    {
      "cell_type": "markdown",
      "source": [
        "# Feature Scaling"
      ],
      "metadata": {
        "_uuid": "c28c6ede-3cdd-4e13-8995-e113231a7074",
        "_cell_guid": "633528c2-58c4-49ac-835f-57c381e7e934",
        "trusted": true,
        "id": "I8kfglXKQS6b"
      }
    },
    {
      "cell_type": "code",
      "source": [
        "from sklearn.preprocessing import StandardScaler\n",
        "std = StandardScaler()\n",
        "data_scaled = pd.DataFrame(std.fit_transform(data.drop(['Y'],axis =1)))\n",
        "data_scaled"
      ],
      "metadata": {
        "_uuid": "15c9b0b6-1f1d-4f57-af87-14034dc63547",
        "_cell_guid": "6f58fad6-a784-498d-8bae-8fd17e241f14",
        "execution": {
          "iopub.status.busy": "2022-06-08T16:29:03.718957Z",
          "iopub.execute_input": "2022-06-08T16:29:03.719357Z",
          "iopub.status.idle": "2022-06-08T16:29:03.769070Z",
          "shell.execute_reply.started": "2022-06-08T16:29:03.719324Z",
          "shell.execute_reply": "2022-06-08T16:29:03.767991Z"
        },
        "jupyter": {
          "outputs_hidden": false
        },
        "trusted": true,
        "id": "TYL6ArrPQS6c"
      },
      "execution_count": null,
      "outputs": []
    },
    {
      "cell_type": "markdown",
      "source": [
        "> All values between -3 and 3"
      ],
      "metadata": {
        "_uuid": "88d76470-6d3f-4be9-91c8-3fbb47068545",
        "_cell_guid": "64889df7-0c70-4379-b58b-ea5730c8b5c3",
        "trusted": true,
        "id": "03by2mRSQS6c"
      }
    },
    {
      "cell_type": "markdown",
      "source": [
        "# Model Fitting"
      ],
      "metadata": {
        "_uuid": "3c22725d-2a62-478c-ba34-d84dd741fb17",
        "_cell_guid": "1938c83c-0d09-4f43-a6fd-4795daaa6cda",
        "trusted": true,
        "id": "JGbV4kxMQS6d"
      }
    },
    {
      "cell_type": "code",
      "source": [
        "from sklearn.metrics import accuracy_score,confusion_matrix,classification_report\n",
        "from sklearn.ensemble import RandomForestClassifier\n",
        "\n",
        "from sklearn.model_selection import cross_val_score\n",
        "from sklearn.model_selection import KFold\n",
        "\n",
        "from sklearn.pipeline import Pipeline\n",
        "from sklearn.model_selection import GridSearchCV\n",
        "from sklearn.preprocessing import PowerTransformer"
      ],
      "metadata": {
        "_uuid": "04d4c46c-b12e-4328-838d-28b5d6abce37",
        "_cell_guid": "ebc5180d-7c39-4961-8fe0-71b395505d9e",
        "execution": {
          "iopub.status.busy": "2022-06-08T16:29:03.770406Z",
          "iopub.execute_input": "2022-06-08T16:29:03.770849Z",
          "iopub.status.idle": "2022-06-08T16:29:03.776830Z",
          "shell.execute_reply.started": "2022-06-08T16:29:03.770811Z",
          "shell.execute_reply": "2022-06-08T16:29:03.775745Z"
        },
        "jupyter": {
          "outputs_hidden": false
        },
        "trusted": true,
        "id": "5Yl5s9lGQS6d"
      },
      "execution_count": 25,
      "outputs": []
    },
    {
      "cell_type": "code",
      "source": [
        "bin_clf = RandomForestClassifier(n_estimators=30, class_weight='balanced_subsample')\n",
        "bin_clf.fit(data_scaled,y)\n",
        "bin_clf.score(data_scaled,y)"
      ],
      "metadata": {
        "_uuid": "9b9f0959-b447-4ccc-923a-3db209376bfd",
        "_cell_guid": "fe7c993a-4cce-40ea-a682-be4681461086",
        "execution": {
          "iopub.status.busy": "2022-06-08T16:29:03.778436Z",
          "iopub.execute_input": "2022-06-08T16:29:03.778915Z",
          "iopub.status.idle": "2022-06-08T16:29:04.100328Z",
          "shell.execute_reply.started": "2022-06-08T16:29:03.778868Z",
          "shell.execute_reply": "2022-06-08T16:29:04.099181Z"
        },
        "jupyter": {
          "outputs_hidden": false
        },
        "trusted": true,
        "colab": {
          "base_uri": "https://localhost:8080/"
        },
        "id": "0_L3qSi4QS6d",
        "outputId": "9da27854-c554-47a8-9c6e-1ebc706a4828"
      },
      "execution_count": 26,
      "outputs": [
        {
          "output_type": "execute_result",
          "data": {
            "text/plain": [
              "0.9989769820971867"
            ]
          },
          "metadata": {},
          "execution_count": 26
        }
      ]
    },
    {
      "cell_type": "markdown",
      "source": [
        "#### k-fold cross validation"
      ],
      "metadata": {
        "_uuid": "c790eb07-e3ba-41a6-90d7-50a440f7214b",
        "_cell_guid": "da45f252-b3fe-4e56-87e6-eb26c261a65d",
        "trusted": true,
        "id": "aNtMuR9aQS6e"
      }
    },
    {
      "cell_type": "code",
      "source": [
        "bin_clf_cv = KFold(n_splits=50, shuffle=True, random_state=1)\n",
        "\n",
        "bin_clf_scores = cross_val_score(bin_clf, data_scaled, y , scoring='f1', cv=bin_clf_cv, n_jobs=-1)\n",
        "# summarize performance\n",
        "\n",
        "bin_clf_scores"
      ],
      "metadata": {
        "_uuid": "0278c306-a77d-4d53-aca3-e50be33e0298",
        "_cell_guid": "e0745294-a1bc-4c11-a024-b695215b9458",
        "execution": {
          "iopub.status.busy": "2022-06-08T16:43:26.171535Z",
          "iopub.execute_input": "2022-06-08T16:43:26.172075Z",
          "iopub.status.idle": "2022-06-08T16:43:27.177728Z",
          "shell.execute_reply.started": "2022-06-08T16:43:26.172020Z",
          "shell.execute_reply": "2022-06-08T16:43:27.174700Z"
        },
        "jupyter": {
          "outputs_hidden": false
        },
        "trusted": true,
        "id": "mwYXgi_6QS6e"
      },
      "execution_count": null,
      "outputs": []
    },
    {
      "cell_type": "code",
      "source": [
        "np.mean(bin_clf_scores)"
      ],
      "metadata": {
        "_uuid": "ef449a56-2c2b-49d9-8a4f-6f8754cec3a3",
        "_cell_guid": "3660fff3-6f55-404c-bcbc-80c48ca334e9",
        "execution": {
          "iopub.status.busy": "2022-06-08T16:29:05.048567Z",
          "iopub.status.idle": "2022-06-08T16:29:05.048972Z",
          "shell.execute_reply.started": "2022-06-08T16:29:05.048778Z",
          "shell.execute_reply": "2022-06-08T16:29:05.048799Z"
        },
        "jupyter": {
          "outputs_hidden": false
        },
        "trusted": true,
        "colab": {
          "base_uri": "https://localhost:8080/"
        },
        "id": "rHpnxc00QS6f",
        "outputId": "bdd6847b-9d7f-4520-ee25-b9fe9bc4e0da"
      },
      "execution_count": 28,
      "outputs": [
        {
          "output_type": "execute_result",
          "data": {
            "text/plain": [
              "0.9424030264484808"
            ]
          },
          "metadata": {},
          "execution_count": 28
        }
      ]
    },
    {
      "cell_type": "markdown",
      "source": [
        "> Mean f1-score after cross validation is 0.93792. Changes due to random seed"
      ],
      "metadata": {
        "_uuid": "08396f2c-17d5-421d-b36f-9942bd4d0587",
        "_cell_guid": "93d68cfa-a931-4eac-9d49-fcde0786c01d",
        "trusted": true,
        "id": "qzNS-8McQS6f"
      }
    },
    {
      "cell_type": "markdown",
      "source": [
        "#### Checking feature importance"
      ],
      "metadata": {
        "_uuid": "5f395cf4-9cef-4155-bfe6-15dd8ae7d852",
        "_cell_guid": "fb44e4e6-6fc8-462f-bc7b-171342a338fb",
        "trusted": true,
        "id": "PqersHL9QS6g"
      }
    },
    {
      "cell_type": "code",
      "source": [
        "# feature Importence check after fiting the try model \n",
        "imp = bin_clf.feature_importances_\n",
        "imp_fea = pd.DataFrame([imp,fs_anova_scores, fs_mi_scores])\n",
        "imp_fea.columns = data.columns[0:-1]\n",
        "imp_fea"
      ],
      "metadata": {
        "_uuid": "58a4bbe5-ff8b-4c93-8069-9e01fc608706",
        "_cell_guid": "305dcea9-f77b-4af6-b067-e45779f37f4e",
        "execution": {
          "iopub.status.busy": "2022-06-08T16:29:05.050282Z",
          "iopub.status.idle": "2022-06-08T16:29:05.050659Z",
          "shell.execute_reply.started": "2022-06-08T16:29:05.050485Z",
          "shell.execute_reply": "2022-06-08T16:29:05.050504Z"
        },
        "jupyter": {
          "outputs_hidden": false
        },
        "trusted": true,
        "colab": {
          "base_uri": "https://localhost:8080/",
          "height": 237
        },
        "id": "fE2i8fxTQS6g",
        "outputId": "0ba800ce-224b-4680-8599-6c90246a163e"
      },
      "execution_count": 29,
      "outputs": [
        {
          "output_type": "execute_result",
          "data": {
            "text/plain": [
              "          X1        X2          X3        X4          X5          X6  \\\n",
              "0   0.002845  0.005205    0.012091  0.000737    0.041677    0.007304   \n",
              "1  60.229467  2.372980  129.475185  8.917299  185.161138  197.971396   \n",
              "2   0.042569  0.051719    0.078101  0.000000    0.095208    0.063694   \n",
              "\n",
              "           X7          X8          X9        X10  ...        X48        X49  \\\n",
              "0    0.067615    0.010138    0.003731   0.007987  ...   0.001951   0.005287   \n",
              "1  360.826096  162.100066  212.731073  65.572703  ...  20.280537  10.424331   \n",
              "2    0.160766    0.075519    0.063287   0.073544  ...   0.006085   0.014095   \n",
              "\n",
              "         X50        X51         X52         X53       X54        X55  \\\n",
              "0   0.010612   0.003420    0.114969    0.072742  0.002990   0.070830   \n",
              "1  18.797943  22.232579  141.756579  345.962969  7.702838  39.049978   \n",
              "2   0.049595   0.002995    0.206240    0.193379  0.037635   0.178366   \n",
              "\n",
              "          X56         X57  \n",
              "0    0.037658    0.061687  \n",
              "1  122.704577  239.005282  \n",
              "2    0.204225    0.124112  \n",
              "\n",
              "[3 rows x 57 columns]"
            ],
            "text/html": [
              "\n",
              "  <div id=\"df-0af06a20-3846-45a5-bf86-ae3e27b1b957\">\n",
              "    <div class=\"colab-df-container\">\n",
              "      <div>\n",
              "<style scoped>\n",
              "    .dataframe tbody tr th:only-of-type {\n",
              "        vertical-align: middle;\n",
              "    }\n",
              "\n",
              "    .dataframe tbody tr th {\n",
              "        vertical-align: top;\n",
              "    }\n",
              "\n",
              "    .dataframe thead th {\n",
              "        text-align: right;\n",
              "    }\n",
              "</style>\n",
              "<table border=\"1\" class=\"dataframe\">\n",
              "  <thead>\n",
              "    <tr style=\"text-align: right;\">\n",
              "      <th></th>\n",
              "      <th>X1</th>\n",
              "      <th>X2</th>\n",
              "      <th>X3</th>\n",
              "      <th>X4</th>\n",
              "      <th>X5</th>\n",
              "      <th>X6</th>\n",
              "      <th>X7</th>\n",
              "      <th>X8</th>\n",
              "      <th>X9</th>\n",
              "      <th>X10</th>\n",
              "      <th>...</th>\n",
              "      <th>X48</th>\n",
              "      <th>X49</th>\n",
              "      <th>X50</th>\n",
              "      <th>X51</th>\n",
              "      <th>X52</th>\n",
              "      <th>X53</th>\n",
              "      <th>X54</th>\n",
              "      <th>X55</th>\n",
              "      <th>X56</th>\n",
              "      <th>X57</th>\n",
              "    </tr>\n",
              "  </thead>\n",
              "  <tbody>\n",
              "    <tr>\n",
              "      <th>0</th>\n",
              "      <td>0.002845</td>\n",
              "      <td>0.005205</td>\n",
              "      <td>0.012091</td>\n",
              "      <td>0.000737</td>\n",
              "      <td>0.041677</td>\n",
              "      <td>0.007304</td>\n",
              "      <td>0.067615</td>\n",
              "      <td>0.010138</td>\n",
              "      <td>0.003731</td>\n",
              "      <td>0.007987</td>\n",
              "      <td>...</td>\n",
              "      <td>0.001951</td>\n",
              "      <td>0.005287</td>\n",
              "      <td>0.010612</td>\n",
              "      <td>0.003420</td>\n",
              "      <td>0.114969</td>\n",
              "      <td>0.072742</td>\n",
              "      <td>0.002990</td>\n",
              "      <td>0.070830</td>\n",
              "      <td>0.037658</td>\n",
              "      <td>0.061687</td>\n",
              "    </tr>\n",
              "    <tr>\n",
              "      <th>1</th>\n",
              "      <td>60.229467</td>\n",
              "      <td>2.372980</td>\n",
              "      <td>129.475185</td>\n",
              "      <td>8.917299</td>\n",
              "      <td>185.161138</td>\n",
              "      <td>197.971396</td>\n",
              "      <td>360.826096</td>\n",
              "      <td>162.100066</td>\n",
              "      <td>212.731073</td>\n",
              "      <td>65.572703</td>\n",
              "      <td>...</td>\n",
              "      <td>20.280537</td>\n",
              "      <td>10.424331</td>\n",
              "      <td>18.797943</td>\n",
              "      <td>22.232579</td>\n",
              "      <td>141.756579</td>\n",
              "      <td>345.962969</td>\n",
              "      <td>7.702838</td>\n",
              "      <td>39.049978</td>\n",
              "      <td>122.704577</td>\n",
              "      <td>239.005282</td>\n",
              "    </tr>\n",
              "    <tr>\n",
              "      <th>2</th>\n",
              "      <td>0.042569</td>\n",
              "      <td>0.051719</td>\n",
              "      <td>0.078101</td>\n",
              "      <td>0.000000</td>\n",
              "      <td>0.095208</td>\n",
              "      <td>0.063694</td>\n",
              "      <td>0.160766</td>\n",
              "      <td>0.075519</td>\n",
              "      <td>0.063287</td>\n",
              "      <td>0.073544</td>\n",
              "      <td>...</td>\n",
              "      <td>0.006085</td>\n",
              "      <td>0.014095</td>\n",
              "      <td>0.049595</td>\n",
              "      <td>0.002995</td>\n",
              "      <td>0.206240</td>\n",
              "      <td>0.193379</td>\n",
              "      <td>0.037635</td>\n",
              "      <td>0.178366</td>\n",
              "      <td>0.204225</td>\n",
              "      <td>0.124112</td>\n",
              "    </tr>\n",
              "  </tbody>\n",
              "</table>\n",
              "<p>3 rows × 57 columns</p>\n",
              "</div>\n",
              "      <button class=\"colab-df-convert\" onclick=\"convertToInteractive('df-0af06a20-3846-45a5-bf86-ae3e27b1b957')\"\n",
              "              title=\"Convert this dataframe to an interactive table.\"\n",
              "              style=\"display:none;\">\n",
              "        \n",
              "  <svg xmlns=\"http://www.w3.org/2000/svg\" height=\"24px\"viewBox=\"0 0 24 24\"\n",
              "       width=\"24px\">\n",
              "    <path d=\"M0 0h24v24H0V0z\" fill=\"none\"/>\n",
              "    <path d=\"M18.56 5.44l.94 2.06.94-2.06 2.06-.94-2.06-.94-.94-2.06-.94 2.06-2.06.94zm-11 1L8.5 8.5l.94-2.06 2.06-.94-2.06-.94L8.5 2.5l-.94 2.06-2.06.94zm10 10l.94 2.06.94-2.06 2.06-.94-2.06-.94-.94-2.06-.94 2.06-2.06.94z\"/><path d=\"M17.41 7.96l-1.37-1.37c-.4-.4-.92-.59-1.43-.59-.52 0-1.04.2-1.43.59L10.3 9.45l-7.72 7.72c-.78.78-.78 2.05 0 2.83L4 21.41c.39.39.9.59 1.41.59.51 0 1.02-.2 1.41-.59l7.78-7.78 2.81-2.81c.8-.78.8-2.07 0-2.86zM5.41 20L4 18.59l7.72-7.72 1.47 1.35L5.41 20z\"/>\n",
              "  </svg>\n",
              "      </button>\n",
              "      \n",
              "  <style>\n",
              "    .colab-df-container {\n",
              "      display:flex;\n",
              "      flex-wrap:wrap;\n",
              "      gap: 12px;\n",
              "    }\n",
              "\n",
              "    .colab-df-convert {\n",
              "      background-color: #E8F0FE;\n",
              "      border: none;\n",
              "      border-radius: 50%;\n",
              "      cursor: pointer;\n",
              "      display: none;\n",
              "      fill: #1967D2;\n",
              "      height: 32px;\n",
              "      padding: 0 0 0 0;\n",
              "      width: 32px;\n",
              "    }\n",
              "\n",
              "    .colab-df-convert:hover {\n",
              "      background-color: #E2EBFA;\n",
              "      box-shadow: 0px 1px 2px rgba(60, 64, 67, 0.3), 0px 1px 3px 1px rgba(60, 64, 67, 0.15);\n",
              "      fill: #174EA6;\n",
              "    }\n",
              "\n",
              "    [theme=dark] .colab-df-convert {\n",
              "      background-color: #3B4455;\n",
              "      fill: #D2E3FC;\n",
              "    }\n",
              "\n",
              "    [theme=dark] .colab-df-convert:hover {\n",
              "      background-color: #434B5C;\n",
              "      box-shadow: 0px 1px 3px 1px rgba(0, 0, 0, 0.15);\n",
              "      filter: drop-shadow(0px 1px 2px rgba(0, 0, 0, 0.3));\n",
              "      fill: #FFFFFF;\n",
              "    }\n",
              "  </style>\n",
              "\n",
              "      <script>\n",
              "        const buttonEl =\n",
              "          document.querySelector('#df-0af06a20-3846-45a5-bf86-ae3e27b1b957 button.colab-df-convert');\n",
              "        buttonEl.style.display =\n",
              "          google.colab.kernel.accessAllowed ? 'block' : 'none';\n",
              "\n",
              "        async function convertToInteractive(key) {\n",
              "          const element = document.querySelector('#df-0af06a20-3846-45a5-bf86-ae3e27b1b957');\n",
              "          const dataTable =\n",
              "            await google.colab.kernel.invokeFunction('convertToInteractive',\n",
              "                                                     [key], {});\n",
              "          if (!dataTable) return;\n",
              "\n",
              "          const docLinkHtml = 'Like what you see? Visit the ' +\n",
              "            '<a target=\"_blank\" href=https://colab.research.google.com/notebooks/data_table.ipynb>data table notebook</a>'\n",
              "            + ' to learn more about interactive tables.';\n",
              "          element.innerHTML = '';\n",
              "          dataTable['output_type'] = 'display_data';\n",
              "          await google.colab.output.renderOutput(dataTable, element);\n",
              "          const docLink = document.createElement('div');\n",
              "          docLink.innerHTML = docLinkHtml;\n",
              "          element.appendChild(docLink);\n",
              "        }\n",
              "      </script>\n",
              "    </div>\n",
              "  </div>\n",
              "  "
            ]
          },
          "metadata": {},
          "execution_count": 29
        }
      ]
    },
    {
      "cell_type": "code",
      "source": [
        "#x = np.arange(len(imp_fea.columns))  # the label locations\n",
        "#width = 0.4  # the width of the bars\n",
        "#fig, ax = plt.subplots(figsize=(20,7))\n",
        "#fig1 = ax.bar(x - width/3, imp, width, label='Model')\n",
        "#fig2 = ax.bar(x , fs_anova_scores, width, label='Anova')\n",
        "#fig3 = ax.bar(x + width/3, fs_mi_scores, width, label='MI')\n",
        "\n",
        "# Add some text for labels, title and custom x-axis tick labels, etc.\n",
        "#ax.set_ylabel('Scores')\n",
        "#ax.set_xticks(x, imp_fea.columns, rotation=45)\n",
        "#ax.legend()"
      ],
      "metadata": {
        "_uuid": "8f8c0afe-01f1-4de8-8ce3-b2725bd1fe00",
        "_cell_guid": "59584597-0550-47a6-a21f-58c72a57dca6",
        "execution": {
          "iopub.status.busy": "2022-06-08T16:29:05.052546Z",
          "iopub.status.idle": "2022-06-08T16:29:05.053136Z",
          "shell.execute_reply.started": "2022-06-08T16:29:05.052903Z",
          "shell.execute_reply": "2022-06-08T16:29:05.052935Z"
        },
        "jupyter": {
          "outputs_hidden": false
        },
        "trusted": true,
        "id": "rUA8dd9cQS6g"
      },
      "execution_count": null,
      "outputs": []
    },
    {
      "cell_type": "code",
      "source": [
        "x = np.arange(len(imp_fea.columns))  # the label locations\n",
        "\n",
        "plt.rcParams[\"figure.figsize\"] = (20,6)\n",
        "plt.bar(x, imp)\n",
        "plt.xticks(x, imp_fea.columns, rotation=45)\n",
        "plt.ylabel('Importance from model')\n",
        "plt.show()\n",
        "\n",
        "plt.rcParams[\"figure.figsize\"] = (20,6)\n",
        "plt.bar(x, fs_anova_scores)\n",
        "plt.xticks(x, imp_fea.columns, rotation=45)\n",
        "plt.ylabel('Importance from ANOVA f-test')\n",
        "plt.show()\n",
        "\n",
        "plt.rcParams[\"figure.figsize\"] = (20,6)\n",
        "plt.bar(x, fs_mi_scores)\n",
        "plt.ylabel('Importance from MI scores')\n",
        "plt.xticks(x, imp_fea.columns, rotation=45)\n",
        "plt.show()"
      ],
      "metadata": {
        "_uuid": "3382b861-9ddd-4e18-8c1f-7c3ed88468a6",
        "_cell_guid": "0296d008-5eb6-4732-bbdb-0a7a45baf57c",
        "execution": {
          "iopub.status.busy": "2022-06-08T16:29:05.054201Z",
          "iopub.status.idle": "2022-06-08T16:29:05.054746Z",
          "shell.execute_reply.started": "2022-06-08T16:29:05.054558Z",
          "shell.execute_reply": "2022-06-08T16:29:05.054578Z"
        },
        "jupyter": {
          "outputs_hidden": false
        },
        "trusted": true,
        "colab": {
          "base_uri": "https://localhost:8080/",
          "height": 905
        },
        "id": "5rTAIIwsQS6h",
        "outputId": "7d8a76de-a87c-4d24-9bc7-acaac7174432"
      },
      "execution_count": 30,
      "outputs": [
        {
          "output_type": "display_data",
          "data": {
            "text/plain": [
              "<Figure size 1440x432 with 1 Axes>"
            ],
            "image/png": "[encoded data removed]"
          },
          "metadata": {
            "needs_background": "light"
          }
        },
        {
          "output_type": "display_data",
          "data": {
            "text/plain": [
              "<Figure size 1440x432 with 1 Axes>"
            ],
            "image/png": "[encoded data removed]"
          },
          "metadata": {
            "needs_background": "light"
          }
        },
        {
          "output_type": "display_data",
          "data": {
            "text/plain": [
              "<Figure size 1440x432 with 1 Axes>"
            ],
            "image/png": "[encoded data removed]"
          },
          "metadata": {
            "needs_background": "light"
          }
        }
      ]
    },
    {
      "cell_type": "markdown",
      "source": [
        "# Random Forest Model"
      ],
      "metadata": {
        "_uuid": "bff193cd-5c16-4cbe-aaec-75d7cfc60622",
        "_cell_guid": "7aca6161-df44-4150-8934-ece31702cb13",
        "trusted": true,
        "id": "LZWeK9U0QS6h"
      }
    },
    {
      "cell_type": "markdown",
      "source": [
        "### Hyper Parameter tuning"
      ],
      "metadata": {
        "_uuid": "888375a9-4058-4405-b24f-2512924a7047",
        "_cell_guid": "5b5a6629-f5cd-4f5e-9906-021c8f2d403c",
        "trusted": true,
        "id": "Hj49X4LoQS6h"
      }
    },
    {
      "cell_type": "code",
      "source": [
        "X = data.drop('Y',axis=1)\n",
        "\n",
        "pipe = Pipeline(( \n",
        "                ('pt',   PowerTransformer(standardize=True)),\n",
        "                ('norm', StandardScaler()),\n",
        "                ('rfc', RandomForestClassifier(class_weight='balanced_subsample')),\n",
        "                ))\n",
        "\n",
        "params = {'rfc__n_estimators': [20,25,30,35,40,45,50,55,60],\n",
        "             \n",
        "              'rfc__max_depth': [10,15,20,25,30,35,40,45,50]\n",
        "             }\n",
        "\n",
        "gs = GridSearchCV(cv = 5,estimator=pipe,param_grid=params)\n",
        "gs.fit(X,y)"
      ],
      "metadata": {
        "_uuid": "8ff14679-c66b-4b2c-a2e7-96cf0c06f616",
        "_cell_guid": "a2dcb067-94fb-4f79-b4e4-9baffc5e4bdd",
        "execution": {
          "iopub.status.busy": "2022-06-08T16:29:05.055787Z",
          "iopub.status.idle": "2022-06-08T16:29:05.056354Z",
          "shell.execute_reply.started": "2022-06-08T16:29:05.056167Z",
          "shell.execute_reply": "2022-06-08T16:29:05.056188Z"
        },
        "jupyter": {
          "outputs_hidden": false
        },
        "trusted": true,
        "colab": {
          "base_uri": "https://localhost:8080/"
        },
        "id": "gKxLiwJjQS6i",
        "outputId": "e9f78236-3406-40a1-a10f-cd2082942b21"
      },
      "execution_count": 31,
      "outputs": [
        {
          "output_type": "execute_result",
          "data": {
            "text/plain": [
              "GridSearchCV(cv=5,\n",
              "             estimator=Pipeline(steps=(('pt', PowerTransformer()),\n",
              "                                       ('norm', StandardScaler()),\n",
              "                                       ('rfc',\n",
              "                                        RandomForestClassifier(class_weight='balanced_subsample')))),\n",
              "             param_grid={'rfc__max_depth': [25, 30, 35, 40, 45, 50],\n",
              "                         'rfc__n_estimators': [45, 50, 55, 60]})"
            ]
          },
          "metadata": {},
          "execution_count": 31
        }
      ]
    },
    {
      "cell_type": "code",
      "source": [
        "gs_results = pd.DataFrame(gs.cv_results_)\n",
        "gs_results"
      ],
      "metadata": {
        "_uuid": "d13d9bc7-b8df-4392-8a4c-452fb5d58d03",
        "_cell_guid": "eee22113-8df6-4d4b-bc2f-852ed5d7def0",
        "execution": {
          "iopub.status.busy": "2022-06-08T16:29:05.057665Z",
          "iopub.status.idle": "2022-06-08T16:29:05.058246Z",
          "shell.execute_reply.started": "2022-06-08T16:29:05.058047Z",
          "shell.execute_reply": "2022-06-08T16:29:05.058074Z"
        },
        "jupyter": {
          "outputs_hidden": false
        },
        "trusted": true,
        "id": "ZzNfZ19cQS6i"
      },
      "execution_count": null,
      "outputs": []
    },
    {
      "cell_type": "code",
      "source": [
        "split_result = gs_results[['params','split0_test_score','split1_test_score','split2_test_score','split3_test_score','split4_test_score','mean_test_score']]\n",
        "split_result"
      ],
      "metadata": {
        "_uuid": "66dcefd6-2bcd-4f87-b357-1698f31b836d",
        "_cell_guid": "21d0923f-b191-4a17-bea8-1788b307be2d",
        "execution": {
          "iopub.status.busy": "2022-06-08T16:29:05.059249Z",
          "iopub.status.idle": "2022-06-08T16:29:05.059788Z",
          "shell.execute_reply.started": "2022-06-08T16:29:05.059599Z",
          "shell.execute_reply": "2022-06-08T16:29:05.059619Z"
        },
        "jupyter": {
          "outputs_hidden": false
        },
        "trusted": true,
        "id": "O4T24GNXQS6i"
      },
      "execution_count": null,
      "outputs": []
    },
    {
      "cell_type": "code",
      "source": [
        "print(gs.best_score_)\n",
        "print(gs.best_params_)"
      ],
      "metadata": {
        "_uuid": "1ed2c2a1-f07e-4a0b-bcd3-6bd517e1e5f0",
        "_cell_guid": "985cb370-63ab-4ae5-8052-329ff769beeb",
        "execution": {
          "iopub.status.busy": "2022-06-08T16:29:05.060835Z",
          "iopub.status.idle": "2022-06-08T16:29:05.061398Z",
          "shell.execute_reply.started": "2022-06-08T16:29:05.061195Z",
          "shell.execute_reply": "2022-06-08T16:29:05.061223Z"
        },
        "jupyter": {
          "outputs_hidden": false
        },
        "trusted": true,
        "colab": {
          "base_uri": "https://localhost:8080/"
        },
        "id": "6vb0jG63QS6j",
        "outputId": "d1d8105c-c58d-46f2-bc6f-aed0beddc001"
      },
      "execution_count": 34,
      "outputs": [
        {
          "output_type": "stream",
          "name": "stdout",
          "text": [
            "0.9539641943734015\n",
            "{'rfc__max_depth': 50, 'rfc__n_estimators': 45}\n"
          ]
        }
      ]
    },
    {
      "cell_type": "code",
      "source": [
        "best_pipe = gs.best_estimator_\n",
        "best_pipe"
      ],
      "metadata": {
        "_uuid": "d4883836-896a-46e4-9483-e54762308366",
        "_cell_guid": "0eff4ab3-51b9-4e16-a824-bdb9b444ee5b",
        "execution": {
          "iopub.status.busy": "2022-06-08T16:29:05.062369Z",
          "iopub.status.idle": "2022-06-08T16:29:05.062892Z",
          "shell.execute_reply.started": "2022-06-08T16:29:05.062692Z",
          "shell.execute_reply": "2022-06-08T16:29:05.062720Z"
        },
        "jupyter": {
          "outputs_hidden": false
        },
        "trusted": true,
        "colab": {
          "base_uri": "https://localhost:8080/"
        },
        "id": "W8I3SV_xQS6j",
        "outputId": "cca0afb1-b44d-4bee-9ac6-6fa234a34667"
      },
      "execution_count": 35,
      "outputs": [
        {
          "output_type": "execute_result",
          "data": {
            "text/plain": [
              "Pipeline(steps=[('pt', PowerTransformer()), ('norm', StandardScaler()),\n",
              "                ('rfc',\n",
              "                 RandomForestClassifier(class_weight='balanced_subsample',\n",
              "                                        max_depth=50, n_estimators=45))])"
            ]
          },
          "metadata": {},
          "execution_count": 35
        }
      ]
    },
    {
      "cell_type": "markdown",
      "source": [
        "# Train Test split"
      ],
      "metadata": {
        "_uuid": "c29774ee-64d5-42f4-b818-3fd1732ed5a6",
        "_cell_guid": "8a43eb8b-dfb6-4fdf-9cb1-3679939594d4",
        "trusted": true,
        "id": "mHjlTmeFQS6j"
      }
    },
    {
      "cell_type": "code",
      "source": [
        "from sklearn.model_selection import train_test_split\n",
        "\n",
        "X_train, X_test, y_train, y_test = train_test_split(X, y, test_size=0.20)"
      ],
      "metadata": {
        "_uuid": "5efd85fa-daf1-4330-ad1e-d9f609237b24",
        "_cell_guid": "fdda4ec9-09e2-4fdb-ae44-49c647783daa",
        "execution": {
          "iopub.status.busy": "2022-06-08T16:29:05.063872Z",
          "iopub.status.idle": "2022-06-08T16:29:05.064423Z",
          "shell.execute_reply.started": "2022-06-08T16:29:05.064218Z",
          "shell.execute_reply": "2022-06-08T16:29:05.064247Z"
        },
        "jupyter": {
          "outputs_hidden": false
        },
        "trusted": true,
        "id": "SlUDFC2WQS6k"
      },
      "execution_count": 36,
      "outputs": []
    },
    {
      "cell_type": "code",
      "source": [
        "best_pipe.fit(X_train, y_train)\n",
        "best_pipe.score(X_test, y_test)"
      ],
      "metadata": {
        "_uuid": "b58d9ea7-2274-4e4f-8eeb-55b7741bfb03",
        "_cell_guid": "008348ef-c49a-4c78-b539-f0d5886ab9b3",
        "execution": {
          "iopub.status.busy": "2022-06-08T16:29:05.065387Z",
          "iopub.status.idle": "2022-06-08T16:29:05.065929Z",
          "shell.execute_reply.started": "2022-06-08T16:29:05.065718Z",
          "shell.execute_reply": "2022-06-08T16:29:05.065747Z"
        },
        "jupyter": {
          "outputs_hidden": false
        },
        "trusted": true,
        "colab": {
          "base_uri": "https://localhost:8080/"
        },
        "id": "2gk0X00BQS6k",
        "outputId": "80f8c973-e81f-4498-d889-99baceb6a353"
      },
      "execution_count": 37,
      "outputs": [
        {
          "output_type": "execute_result",
          "data": {
            "text/plain": [
              "0.9680306905370843"
            ]
          },
          "metadata": {},
          "execution_count": 37
        }
      ]
    },
    {
      "cell_type": "code",
      "source": [
        "y_pred = best_pipe.predict(X_test)"
      ],
      "metadata": {
        "_uuid": "4c22ab9d-9c71-43ea-a984-67577edd4d15",
        "_cell_guid": "4f03df33-463a-4afe-8268-ee740386b4be",
        "execution": {
          "iopub.status.busy": "2022-06-08T16:29:05.067257Z",
          "iopub.status.idle": "2022-06-08T16:29:05.067797Z",
          "shell.execute_reply.started": "2022-06-08T16:29:05.067601Z",
          "shell.execute_reply": "2022-06-08T16:29:05.067629Z"
        },
        "jupyter": {
          "outputs_hidden": false
        },
        "trusted": true,
        "id": "-j1eLbOkQS6l"
      },
      "execution_count": 38,
      "outputs": []
    },
    {
      "cell_type": "code",
      "source": [
        "print(classification_report(y_pred,y_test))"
      ],
      "metadata": {
        "_uuid": "cb280fa0-4d9a-4646-a415-47de62270ac3",
        "_cell_guid": "2d7dbff8-0225-4a9b-9a9a-55206fc570ff",
        "execution": {
          "iopub.status.busy": "2022-06-08T16:29:05.068683Z",
          "iopub.status.idle": "2022-06-08T16:29:05.069390Z",
          "shell.execute_reply.started": "2022-06-08T16:29:05.069149Z",
          "shell.execute_reply": "2022-06-08T16:29:05.069182Z"
        },
        "jupyter": {
          "outputs_hidden": false
        },
        "trusted": true,
        "colab": {
          "base_uri": "https://localhost:8080/"
        },
        "id": "xok85ADCQS6l",
        "outputId": "55430fb4-d3ba-4193-ecaf-d9b7428e8d95"
      },
      "execution_count": 39,
      "outputs": [
        {
          "output_type": "stream",
          "name": "stdout",
          "text": [
            "              precision    recall  f1-score   support\n",
            "\n",
            "         0.0       0.98      0.97      0.97       498\n",
            "         1.0       0.94      0.97      0.96       284\n",
            "\n",
            "    accuracy                           0.97       782\n",
            "   macro avg       0.96      0.97      0.97       782\n",
            "weighted avg       0.97      0.97      0.97       782\n",
            "\n"
          ]
        }
      ]
    },
    {
      "cell_type": "code",
      "source": [
        "print(confusion_matrix(y_pred, y_test))"
      ],
      "metadata": {
        "_uuid": "6e3f30ce-2199-4c3c-a165-7f4073b8085f",
        "_cell_guid": "f7835996-de0c-4819-9edc-9b95cd5c510d",
        "execution": {
          "iopub.status.busy": "2022-06-08T16:29:05.070708Z",
          "iopub.status.idle": "2022-06-08T16:29:05.071089Z",
          "shell.execute_reply.started": "2022-06-08T16:29:05.070893Z",
          "shell.execute_reply": "2022-06-08T16:29:05.070911Z"
        },
        "jupyter": {
          "outputs_hidden": false
        },
        "trusted": true,
        "colab": {
          "base_uri": "https://localhost:8080/"
        },
        "id": "xIjJfJXqQS6l",
        "outputId": "92faf47a-2458-4ccd-d5b4-d30484d64296"
      },
      "execution_count": 40,
      "outputs": [
        {
          "output_type": "stream",
          "name": "stdout",
          "text": [
            "[[481  17]\n",
            " [  8 276]]\n"
          ]
        }
      ]
    },
    {
      "cell_type": "markdown",
      "source": [
        "# Comparison of scores from different models and different stages of datasets"
      ],
      "metadata": {
        "_uuid": "a031813f-6599-48f4-a888-1b26fe1f136d",
        "_cell_guid": "1dec2953-a04e-405b-ae2c-e2657e7eb3e6",
        "trusted": true,
        "id": "C-Ls9fVnQS6m"
      }
    },
    {
      "cell_type": "code",
      "source": [
        "# Converting arrays to DataFrame\n",
        "#anova_train_X = pd.DataFrame(X_train_fs_anova, columns=imp_fea.columns)\n",
        "#anova_test_X = pd.DataFrame(X_test_fs_anova, columns=imp_fea.columns)\n",
        "#mi_train_X = pd.DataFrame(X_train_fs_mi, columns=imp_fea.columns)\n",
        "#mi_test_X = pd.DataFrame(X_test_fs_mi, columns=imp_fea.columns)\n",
        "#anova_train_X"
      ],
      "metadata": {
        "_uuid": "d7745f2b-36e0-4a75-ad31-dfd982a4fcba",
        "_cell_guid": "5d771184-e8e5-41ca-b72f-b71c6f00ee8f",
        "execution": {
          "iopub.status.busy": "2022-06-08T16:29:05.073073Z",
          "iopub.status.idle": "2022-06-08T16:29:05.073821Z",
          "shell.execute_reply.started": "2022-06-08T16:29:05.073528Z",
          "shell.execute_reply": "2022-06-08T16:29:05.073559Z"
        },
        "jupyter": {
          "outputs_hidden": false
        },
        "trusted": true,
        "id": "YCGaMSM3QS6m"
      },
      "execution_count": null,
      "outputs": []
    },
    {
      "cell_type": "markdown",
      "source": [
        "> Values in these X, y Tables from ANOVA and MI are unscaled\n",
        "* Not needed right now"
      ],
      "metadata": {
        "_uuid": "8fa0b7a2-11ab-47ba-913d-af89bc96fe55",
        "_cell_guid": "ede95bdb-b9f9-4ae1-8c05-517e21ca902d",
        "trusted": true,
        "id": "pJ9T6eGbQS6m"
      }
    },
    {
      "cell_type": "markdown",
      "source": [
        "## Scaling values of X, y values from ANOVA, MI"
      ],
      "metadata": {
        "_uuid": "72a38b80-a674-4119-a4f5-01609497a8eb",
        "_cell_guid": "8281dd34-f521-46ea-bf90-63da4172741e",
        "trusted": true,
        "id": "MKpFxCntQS6n"
      }
    },
    {
      "cell_type": "code",
      "source": [
        "#scaler = StandardScaler()\n",
        "#anova_train_X = pd.DataFrame(scaler.fit_transform(anova_train_X))\n",
        "#anova_train_X.columns = imp_fea.columns\n",
        "#anova_test_X = pd.DataFrame(scaler.fit_transform(anova_test_X))\n",
        "#anova_test_X.columns = imp_fea.columns\n",
        "#mi_train_X = pd.DataFrame(scaler.fit_transform(mi_train_X))\n",
        "#mi_train_X.columns = imp_fea.columns\n",
        "#mi_test_X = pd.DataFrame(scaler.fit_transform(mi_test_X))\n",
        "#mi_test_X.columns = imp_fea.columns"
      ],
      "metadata": {
        "_uuid": "374939cf-8860-4f88-a404-b2223d278446",
        "_cell_guid": "c73f3532-f88f-40ec-896d-0a5387ebd451",
        "execution": {
          "iopub.status.busy": "2022-06-08T16:29:05.074861Z",
          "iopub.status.idle": "2022-06-08T16:29:05.076017Z",
          "shell.execute_reply.started": "2022-06-08T16:29:05.075786Z",
          "shell.execute_reply": "2022-06-08T16:29:05.075809Z"
        },
        "jupyter": {
          "outputs_hidden": false
        },
        "trusted": true,
        "id": "WefOyWCTQS6n"
      },
      "execution_count": 41,
      "outputs": []
    },
    {
      "cell_type": "markdown",
      "source": [
        "> Here attested column names with Scaled data because it will be needed in selection of Features\n",
        "* Not needed right now"
      ],
      "metadata": {
        "_uuid": "eba52060-1399-418f-b112-e2bdbabcb60d",
        "_cell_guid": "90de8ada-dff1-41e2-9c87-966da482610a",
        "trusted": true,
        "id": "PISfuazQQS6n"
      }
    },
    {
      "cell_type": "code",
      "source": [
        "data_scaled"
      ],
      "metadata": {
        "_uuid": "e86dc330-7257-4fb1-919f-7fa541dde67b",
        "_cell_guid": "bee3c8e5-b270-46f5-adfb-2c923912f930",
        "execution": {
          "iopub.status.busy": "2022-06-08T16:29:05.077068Z",
          "iopub.status.idle": "2022-06-08T16:29:05.077608Z",
          "shell.execute_reply.started": "2022-06-08T16:29:05.077402Z",
          "shell.execute_reply": "2022-06-08T16:29:05.077432Z"
        },
        "jupyter": {
          "outputs_hidden": false
        },
        "trusted": true,
        "id": "s-Ad6GTnQS6o"
      },
      "execution_count": null,
      "outputs": []
    },
    {
      "cell_type": "code",
      "source": [
        "scaled_data = pd.DataFrame(data_scaled)\n",
        "scaled_data.columns = imp_fea.columns\n",
        "scaled_data"
      ],
      "metadata": {
        "_uuid": "308a6f47-776d-44ed-9c83-a4d966b4c170",
        "_cell_guid": "cbf2ba51-f86f-4b67-96d3-ac517fcde155",
        "execution": {
          "iopub.status.busy": "2022-06-08T16:29:05.078604Z",
          "iopub.status.idle": "2022-06-08T16:29:05.079180Z",
          "shell.execute_reply.started": "2022-06-08T16:29:05.078953Z",
          "shell.execute_reply": "2022-06-08T16:29:05.078977Z"
        },
        "jupyter": {
          "outputs_hidden": false
        },
        "trusted": true,
        "id": "I9GAINqfQS6o"
      },
      "execution_count": null,
      "outputs": []
    },
    {
      "cell_type": "markdown",
      "source": [
        "## Splitting Datasets for Selected Feature model predictions"
      ],
      "metadata": {
        "_uuid": "0c9fe3b8-7724-469e-bc9d-6da7471900b8",
        "_cell_guid": "4033579a-f34f-4fd3-8d1d-6e993db95a3b",
        "trusted": true,
        "id": "SoPOjpn4QS6o"
      }
    },
    {
      "cell_type": "code",
      "source": [
        "sel_train_X, sel_test_X, sel_train_y, sel_test_y = train_test_split(scaled_data, y, test_size=0.20)"
      ],
      "metadata": {
        "_uuid": "31753864-cea1-4554-96f6-28d6c34f49aa",
        "_cell_guid": "41fe5b22-186a-4b38-9b96-a82d26f1d3fa",
        "execution": {
          "iopub.status.busy": "2022-06-08T16:29:05.080167Z",
          "iopub.status.idle": "2022-06-08T16:29:05.080700Z",
          "shell.execute_reply.started": "2022-06-08T16:29:05.080496Z",
          "shell.execute_reply": "2022-06-08T16:29:05.080525Z"
        },
        "jupyter": {
          "outputs_hidden": false
        },
        "trusted": true,
        "id": "xoZpS6V7QS6p"
      },
      "execution_count": 44,
      "outputs": []
    },
    {
      "cell_type": "code",
      "source": [
        "anova_fs_scores = pd.DataFrame(fs_anova_scores, index=imp_fea.columns, columns=['anova_scores'])\n",
        "mi_fs_scores = pd.DataFrame(fs_mi_scores, index=imp_fea.columns, columns=['mi_scores'])\n",
        "mi_fs_scores.T"
      ],
      "metadata": {
        "_uuid": "a1a56b9a-8f80-4940-a47d-c158efd8d1f3",
        "_cell_guid": "8f94a9fd-d0bc-4fa7-b70c-4082914dcca4",
        "execution": {
          "iopub.status.busy": "2022-06-08T16:29:05.081813Z",
          "iopub.status.idle": "2022-06-08T16:29:05.082429Z",
          "shell.execute_reply.started": "2022-06-08T16:29:05.082170Z",
          "shell.execute_reply": "2022-06-08T16:29:05.082202Z"
        },
        "jupyter": {
          "outputs_hidden": false
        },
        "trusted": true,
        "colab": {
          "base_uri": "https://localhost:8080/",
          "height": 174
        },
        "id": "ErHIYK3fQS6p",
        "outputId": "b5d259d9-16f2-44ab-b352-e06420eb66cf"
      },
      "execution_count": 45,
      "outputs": [
        {
          "output_type": "execute_result",
          "data": {
            "text/plain": [
              "                 X1        X2        X3   X4        X5        X6        X7  \\\n",
              "mi_scores  0.042569  0.051719  0.078101  0.0  0.095208  0.063694  0.160766   \n",
              "\n",
              "                 X8        X9       X10  ...       X48       X49       X50  \\\n",
              "mi_scores  0.075519  0.063287  0.073544  ...  0.006085  0.014095  0.049595   \n",
              "\n",
              "                X51      X52       X53       X54       X55       X56       X57  \n",
              "mi_scores  0.002995  0.20624  0.193379  0.037635  0.178366  0.204225  0.124112  \n",
              "\n",
              "[1 rows x 57 columns]"
            ],
            "text/html": [
              "\n",
              "  <div id=\"df-d23d9c26-9040-4f43-b306-f10be174c8a2\">\n",
              "    <div class=\"colab-df-container\">\n",
              "      <div>\n",
              "<style scoped>\n",
              "    .dataframe tbody tr th:only-of-type {\n",
              "        vertical-align: middle;\n",
              "    }\n",
              "\n",
              "    .dataframe tbody tr th {\n",
              "        vertical-align: top;\n",
              "    }\n",
              "\n",
              "    .dataframe thead th {\n",
              "        text-align: right;\n",
              "    }\n",
              "</style>\n",
              "<table border=\"1\" class=\"dataframe\">\n",
              "  <thead>\n",
              "    <tr style=\"text-align: right;\">\n",
              "      <th></th>\n",
              "      <th>X1</th>\n",
              "      <th>X2</th>\n",
              "      <th>X3</th>\n",
              "      <th>X4</th>\n",
              "      <th>X5</th>\n",
              "      <th>X6</th>\n",
              "      <th>X7</th>\n",
              "      <th>X8</th>\n",
              "      <th>X9</th>\n",
              "      <th>X10</th>\n",
              "      <th>...</th>\n",
              "      <th>X48</th>\n",
              "      <th>X49</th>\n",
              "      <th>X50</th>\n",
              "      <th>X51</th>\n",
              "      <th>X52</th>\n",
              "      <th>X53</th>\n",
              "      <th>X54</th>\n",
              "      <th>X55</th>\n",
              "      <th>X56</th>\n",
              "      <th>X57</th>\n",
              "    </tr>\n",
              "  </thead>\n",
              "  <tbody>\n",
              "    <tr>\n",
              "      <th>mi_scores</th>\n",
              "      <td>0.042569</td>\n",
              "      <td>0.051719</td>\n",
              "      <td>0.078101</td>\n",
              "      <td>0.0</td>\n",
              "      <td>0.095208</td>\n",
              "      <td>0.063694</td>\n",
              "      <td>0.160766</td>\n",
              "      <td>0.075519</td>\n",
              "      <td>0.063287</td>\n",
              "      <td>0.073544</td>\n",
              "      <td>...</td>\n",
              "      <td>0.006085</td>\n",
              "      <td>0.014095</td>\n",
              "      <td>0.049595</td>\n",
              "      <td>0.002995</td>\n",
              "      <td>0.20624</td>\n",
              "      <td>0.193379</td>\n",
              "      <td>0.037635</td>\n",
              "      <td>0.178366</td>\n",
              "      <td>0.204225</td>\n",
              "      <td>0.124112</td>\n",
              "    </tr>\n",
              "  </tbody>\n",
              "</table>\n",
              "<p>1 rows × 57 columns</p>\n",
              "</div>\n",
              "      <button class=\"colab-df-convert\" onclick=\"convertToInteractive('df-d23d9c26-9040-4f43-b306-f10be174c8a2')\"\n",
              "              title=\"Convert this dataframe to an interactive table.\"\n",
              "              style=\"display:none;\">\n",
              "        \n",
              "  <svg xmlns=\"http://www.w3.org/2000/svg\" height=\"24px\"viewBox=\"0 0 24 24\"\n",
              "       width=\"24px\">\n",
              "    <path d=\"M0 0h24v24H0V0z\" fill=\"none\"/>\n",
              "    <path d=\"M18.56 5.44l.94 2.06.94-2.06 2.06-.94-2.06-.94-.94-2.06-.94 2.06-2.06.94zm-11 1L8.5 8.5l.94-2.06 2.06-.94-2.06-.94L8.5 2.5l-.94 2.06-2.06.94zm10 10l.94 2.06.94-2.06 2.06-.94-2.06-.94-.94-2.06-.94 2.06-2.06.94z\"/><path d=\"M17.41 7.96l-1.37-1.37c-.4-.4-.92-.59-1.43-.59-.52 0-1.04.2-1.43.59L10.3 9.45l-7.72 7.72c-.78.78-.78 2.05 0 2.83L4 21.41c.39.39.9.59 1.41.59.51 0 1.02-.2 1.41-.59l7.78-7.78 2.81-2.81c.8-.78.8-2.07 0-2.86zM5.41 20L4 18.59l7.72-7.72 1.47 1.35L5.41 20z\"/>\n",
              "  </svg>\n",
              "      </button>\n",
              "      \n",
              "  <style>\n",
              "    .colab-df-container {\n",
              "      display:flex;\n",
              "      flex-wrap:wrap;\n",
              "      gap: 12px;\n",
              "    }\n",
              "\n",
              "    .colab-df-convert {\n",
              "      background-color: #E8F0FE;\n",
              "      border: none;\n",
              "      border-radius: 50%;\n",
              "      cursor: pointer;\n",
              "      display: none;\n",
              "      fill: #1967D2;\n",
              "      height: 32px;\n",
              "      padding: 0 0 0 0;\n",
              "      width: 32px;\n",
              "    }\n",
              "\n",
              "    .colab-df-convert:hover {\n",
              "      background-color: #E2EBFA;\n",
              "      box-shadow: 0px 1px 2px rgba(60, 64, 67, 0.3), 0px 1px 3px 1px rgba(60, 64, 67, 0.15);\n",
              "      fill: #174EA6;\n",
              "    }\n",
              "\n",
              "    [theme=dark] .colab-df-convert {\n",
              "      background-color: #3B4455;\n",
              "      fill: #D2E3FC;\n",
              "    }\n",
              "\n",
              "    [theme=dark] .colab-df-convert:hover {\n",
              "      background-color: #434B5C;\n",
              "      box-shadow: 0px 1px 3px 1px rgba(0, 0, 0, 0.15);\n",
              "      filter: drop-shadow(0px 1px 2px rgba(0, 0, 0, 0.3));\n",
              "      fill: #FFFFFF;\n",
              "    }\n",
              "  </style>\n",
              "\n",
              "      <script>\n",
              "        const buttonEl =\n",
              "          document.querySelector('#df-d23d9c26-9040-4f43-b306-f10be174c8a2 button.colab-df-convert');\n",
              "        buttonEl.style.display =\n",
              "          google.colab.kernel.accessAllowed ? 'block' : 'none';\n",
              "\n",
              "        async function convertToInteractive(key) {\n",
              "          const element = document.querySelector('#df-d23d9c26-9040-4f43-b306-f10be174c8a2');\n",
              "          const dataTable =\n",
              "            await google.colab.kernel.invokeFunction('convertToInteractive',\n",
              "                                                     [key], {});\n",
              "          if (!dataTable) return;\n",
              "\n",
              "          const docLinkHtml = 'Like what you see? Visit the ' +\n",
              "            '<a target=\"_blank\" href=https://colab.research.google.com/notebooks/data_table.ipynb>data table notebook</a>'\n",
              "            + ' to learn more about interactive tables.';\n",
              "          element.innerHTML = '';\n",
              "          dataTable['output_type'] = 'display_data';\n",
              "          await google.colab.output.renderOutput(dataTable, element);\n",
              "          const docLink = document.createElement('div');\n",
              "          docLink.innerHTML = docLinkHtml;\n",
              "          element.appendChild(docLink);\n",
              "        }\n",
              "      </script>\n",
              "    </div>\n",
              "  </div>\n",
              "  "
            ]
          },
          "metadata": {},
          "execution_count": 45
        }
      ]
    },
    {
      "cell_type": "markdown",
      "source": [
        "> Attested column name here to get the selected columns in return later from get_n_columns function"
      ],
      "metadata": {
        "_uuid": "272806f4-adcd-4914-a7b3-6285053d33f7",
        "_cell_guid": "0ee81298-6c79-41e6-aed8-7444594aed32",
        "trusted": true,
        "id": "8PxSitI9QS6p"
      }
    },
    {
      "cell_type": "code",
      "source": [
        "def get_n_columns(score_table, col,n):\n",
        "    sel_columns = score_table[col].nlargest(n).index\n",
        "    return sel_columns"
      ],
      "metadata": {
        "_uuid": "07cd0e1e-2b94-4a85-897b-4b9e0335cfe6",
        "_cell_guid": "a36e4e56-46f6-42ce-8daf-77198e5f33d1",
        "execution": {
          "iopub.status.busy": "2022-06-08T16:29:05.083381Z",
          "iopub.status.idle": "2022-06-08T16:29:05.083750Z",
          "shell.execute_reply.started": "2022-06-08T16:29:05.083572Z",
          "shell.execute_reply": "2022-06-08T16:29:05.083591Z"
        },
        "jupyter": {
          "outputs_hidden": false
        },
        "trusted": true,
        "id": "aImen5PdQS6q"
      },
      "execution_count": 46,
      "outputs": []
    },
    {
      "cell_type": "code",
      "source": [
        "anova_columns = get_n_columns(anova_fs_scores, 'anova_scores', 10)\n",
        "anova_columns"
      ],
      "metadata": {
        "_uuid": "31dcafe6-be5b-4bd5-a01f-cdfbcee85230",
        "_cell_guid": "458a3f33-b5d2-45e4-acc6-7ec872e8c7fc",
        "execution": {
          "iopub.status.busy": "2022-06-08T16:29:05.085581Z",
          "iopub.status.idle": "2022-06-08T16:29:05.085964Z",
          "shell.execute_reply.started": "2022-06-08T16:29:05.085780Z",
          "shell.execute_reply": "2022-06-08T16:29:05.085799Z"
        },
        "jupyter": {
          "outputs_hidden": false
        },
        "trusted": true,
        "colab": {
          "base_uri": "https://localhost:8080/"
        },
        "id": "s7DhgRzDQS6q",
        "outputId": "32239d95-4d5f-4774-aed5-ee73f0ca0781"
      },
      "execution_count": 47,
      "outputs": [
        {
          "output_type": "execute_result",
          "data": {
            "text/plain": [
              "Index(['X21', 'X23', 'X7', 'X53', 'X17', 'X19', 'X57', 'X9', 'X16', 'X25'], dtype='object')"
            ]
          },
          "metadata": {},
          "execution_count": 47
        }
      ]
    },
    {
      "cell_type": "code",
      "source": [
        "mi_columns = get_n_columns(mi_fs_scores, 'mi_scores', 10)\n",
        "mi_columns"
      ],
      "metadata": {
        "_uuid": "b486efa6-b5aa-46a7-8752-1b3c0f8d3d00",
        "_cell_guid": "712aa04d-1566-44eb-bba0-7ec8044b3650",
        "execution": {
          "iopub.status.busy": "2022-06-08T16:29:05.086799Z",
          "iopub.status.idle": "2022-06-08T16:29:05.087192Z",
          "shell.execute_reply.started": "2022-06-08T16:29:05.086983Z",
          "shell.execute_reply": "2022-06-08T16:29:05.087001Z"
        },
        "jupyter": {
          "outputs_hidden": false
        },
        "trusted": true,
        "colab": {
          "base_uri": "https://localhost:8080/"
        },
        "id": "GdsaRYm0QS6q",
        "outputId": "210d92b8-4765-4134-e64b-83800c381a00"
      },
      "execution_count": 48,
      "outputs": [
        {
          "output_type": "execute_result",
          "data": {
            "text/plain": [
              "Index(['X52', 'X56', 'X53', 'X55', 'X21', 'X7', 'X24', 'X16', 'X57', 'X19'], dtype='object')"
            ]
          },
          "metadata": {},
          "execution_count": 48
        }
      ]
    },
    {
      "cell_type": "code",
      "source": [
        "mi_train_X = scaled_data[mi_columns]\n",
        "mi_train_X"
      ],
      "metadata": {
        "_uuid": "e84d8dd8-d114-4471-aa5a-e9ad3e469dfd",
        "_cell_guid": "83527d92-c4c5-4a09-b232-533fb2a2f14f",
        "execution": {
          "iopub.status.busy": "2022-06-08T16:29:05.088861Z",
          "iopub.status.idle": "2022-06-08T16:29:05.089257Z",
          "shell.execute_reply.started": "2022-06-08T16:29:05.089078Z",
          "shell.execute_reply": "2022-06-08T16:29:05.089097Z"
        },
        "jupyter": {
          "outputs_hidden": false
        },
        "trusted": true,
        "id": "Mwc2FZq0QS6q"
      },
      "execution_count": null,
      "outputs": []
    },
    {
      "cell_type": "markdown",
      "source": [
        "# Random Forest model on unchanged data, features selected from MI and ANOVA methods"
      ],
      "metadata": {
        "_uuid": "f64ab65c-3258-4863-a6da-ec3d95aabb01",
        "_cell_guid": "53068d9b-5a22-4924-9242-d0b0b6fbbbd0",
        "trusted": true,
        "id": "dF0CPi3iQS6r"
      }
    },
    {
      "cell_type": "code",
      "source": [
        "unchanged_data.drop('Unnamed: 0', axis=1, inplace=True)"
      ],
      "metadata": {
        "_uuid": "a4d60cfe-13be-40b7-964d-f79d489491d7",
        "_cell_guid": "1d40c8fc-35ed-4de5-838f-8e177918615f",
        "execution": {
          "iopub.status.busy": "2022-06-08T16:29:05.090886Z",
          "iopub.status.idle": "2022-06-08T16:29:05.091644Z",
          "shell.execute_reply.started": "2022-06-08T16:29:05.091407Z",
          "shell.execute_reply": "2022-06-08T16:29:05.091437Z"
        },
        "jupyter": {
          "outputs_hidden": false
        },
        "trusted": true,
        "id": "Lqi0bciaQS6r"
      },
      "execution_count": 50,
      "outputs": []
    },
    {
      "cell_type": "code",
      "source": [
        "unchanged_data\n",
        "raw_X, raw_y = create_XY(unchanged_data)"
      ],
      "metadata": {
        "_uuid": "7905d65f-9e37-4199-a476-2f6ce1598202",
        "_cell_guid": "5c509276-062c-4d35-9886-dfce445b9070",
        "execution": {
          "iopub.status.busy": "2022-06-08T16:29:05.092654Z",
          "iopub.status.idle": "2022-06-08T16:29:05.093409Z",
          "shell.execute_reply.started": "2022-06-08T16:29:05.093176Z",
          "shell.execute_reply": "2022-06-08T16:29:05.093206Z"
        },
        "jupyter": {
          "outputs_hidden": false
        },
        "trusted": true,
        "id": "liXktFZlQS6r"
      },
      "execution_count": 51,
      "outputs": []
    },
    {
      "cell_type": "code",
      "source": [
        "raw_X_train, raw_X_test, raw_y_train, raw_y_test = train_test_split(raw_X, raw_y, test_size=0.20)\n",
        "raw_rfc = RandomForestClassifier(class_weight='balanced_subsample')\n",
        "raw_rfc.fit(raw_X_train, raw_y_train)\n",
        "raw_rfc_predictions = raw_rfc.predict(raw_X_test)\n",
        "raw_acc = accuracy_score(raw_rfc_predictions, raw_y_test)\n",
        "\n",
        "print(\"Accuracy Score for Raw Unscaled Data: {:,.04f}\".format(raw_acc))\n",
        "confusion_matrix(raw_rfc_predictions, raw_y_test)"
      ],
      "metadata": {
        "_uuid": "ef63e421-b6a2-4924-bfd0-99f9996ca887",
        "_cell_guid": "659b8301-2455-4b09-8c43-d0624f10df97",
        "execution": {
          "iopub.status.busy": "2022-06-08T16:29:05.094560Z",
          "iopub.status.idle": "2022-06-08T16:29:05.095763Z",
          "shell.execute_reply.started": "2022-06-08T16:29:05.095539Z",
          "shell.execute_reply": "2022-06-08T16:29:05.095569Z"
        },
        "jupyter": {
          "outputs_hidden": false
        },
        "trusted": true,
        "colab": {
          "base_uri": "https://localhost:8080/"
        },
        "id": "Ts4oiF44QS6s",
        "outputId": "f7a462e9-88a8-4909-8e98-c49d993f3854"
      },
      "execution_count": 52,
      "outputs": [
        {
          "output_type": "stream",
          "name": "stdout",
          "text": [
            "Accuracy Score for Raw Unscaled Data: 0.9552\n"
          ]
        },
        {
          "output_type": "execute_result",
          "data": {
            "text/plain": [
              "array([[455,  20],\n",
              "       [ 15, 292]])"
            ]
          },
          "metadata": {},
          "execution_count": 52
        }
      ]
    },
    {
      "cell_type": "code",
      "source": [
        "anova_rfc = RandomForestClassifier(class_weight='balanced_subsample')\n",
        "anova_rfc.fit(sel_train_X[anova_columns], sel_train_y)\n",
        "anova_rfc_predictions = anova_rfc.predict(sel_test_X[anova_columns])\n",
        "anova_acc = accuracy_score(anova_rfc_predictions, sel_test_y)\n",
        "\n",
        "print(\"Accuracy Score for ANOMA feature selection method: {:,.04f}\".format(anova_acc))\n",
        "confusion_matrix(anova_rfc_predictions, sel_test_y)"
      ],
      "metadata": {
        "_uuid": "f60c582d-1ed8-45fd-9ebe-4fe79da1af0f",
        "_cell_guid": "a6a9250c-e4ab-4abc-b238-a8e70889f456",
        "execution": {
          "iopub.status.busy": "2022-06-08T16:29:05.096834Z",
          "iopub.status.idle": "2022-06-08T16:29:05.097244Z",
          "shell.execute_reply.started": "2022-06-08T16:29:05.097060Z",
          "shell.execute_reply": "2022-06-08T16:29:05.097082Z"
        },
        "jupyter": {
          "outputs_hidden": false
        },
        "trusted": true,
        "colab": {
          "base_uri": "https://localhost:8080/"
        },
        "id": "VWp-Ndb3QS6s",
        "outputId": "0a9b34dc-1691-4a65-dde9-6d10c27b1b43"
      },
      "execution_count": 53,
      "outputs": [
        {
          "output_type": "stream",
          "name": "stdout",
          "text": [
            "Accuracy Score for ANOMA feature selection method: 0.9118\n"
          ]
        },
        {
          "output_type": "execute_result",
          "data": {
            "text/plain": [
              "array([[462,  42],\n",
              "       [ 27, 251]])"
            ]
          },
          "metadata": {},
          "execution_count": 53
        }
      ]
    },
    {
      "cell_type": "code",
      "source": [
        "#anova_rfc = RandomForestClassifier(class_weight='balanced_subsample')\n",
        "#anova_rfc.fit(anova_train_X[anova_columns], y_train)\n",
        "#anova_rfc_predictions = anova_rfc.predict(anova_test_X[anova_columns])\n",
        "#anova_acc = accuracy_score(anova_rfc_predictions, y_test)\n",
        "\n",
        "#print(\"Accuracy Score for ANOMA feature selection method: {:,.04f}\".format(anova_acc))\n",
        "#confusion_matrix(anova_rfc_predictions, y_test)"
      ],
      "metadata": {
        "_uuid": "979e8818-895c-4067-a9c3-89f5fcb2365c",
        "_cell_guid": "ee1be085-03ac-498e-9a18-7184664fcf64",
        "execution": {
          "iopub.status.busy": "2022-06-08T16:29:05.098290Z",
          "iopub.status.idle": "2022-06-08T16:29:05.098639Z",
          "shell.execute_reply.started": "2022-06-08T16:29:05.098467Z",
          "shell.execute_reply": "2022-06-08T16:29:05.098484Z"
        },
        "jupyter": {
          "outputs_hidden": false
        },
        "trusted": true,
        "id": "U1LAphHPQS6t"
      },
      "execution_count": 54,
      "outputs": []
    },
    {
      "cell_type": "code",
      "source": [
        "mi_rfc = RandomForestClassifier(class_weight='balanced_subsample')\n",
        "mi_rfc.fit(sel_train_X[mi_columns], sel_train_y)\n",
        "mi_rfc_predictions = mi_rfc.predict(sel_test_X[mi_columns])\n",
        "mi_acc = accuracy_score(mi_rfc_predictions, sel_test_y)\n",
        "\n",
        "print(\"Accuracy Score for MI feature selection method: {:,.04f}\".format(mi_acc))\n",
        "confusion_matrix(mi_rfc_predictions, sel_test_y)"
      ],
      "metadata": {
        "_uuid": "2ba8422c-caec-46f2-bd37-bd3f7e53f9c1",
        "_cell_guid": "fffcba17-eef7-4c3c-917b-1598699d139b",
        "execution": {
          "iopub.status.busy": "2022-06-08T16:29:05.099731Z",
          "iopub.status.idle": "2022-06-08T16:29:05.100375Z",
          "shell.execute_reply.started": "2022-06-08T16:29:05.100172Z",
          "shell.execute_reply": "2022-06-08T16:29:05.100194Z"
        },
        "jupyter": {
          "outputs_hidden": false
        },
        "trusted": true,
        "colab": {
          "base_uri": "https://localhost:8080/"
        },
        "id": "3cORtmLgQS6t",
        "outputId": "9b7199c3-bdae-429a-8ca3-4c420a5f7d12"
      },
      "execution_count": 55,
      "outputs": [
        {
          "output_type": "stream",
          "name": "stdout",
          "text": [
            "Accuracy Score for MI feature selection method: 0.9297\n"
          ]
        },
        {
          "output_type": "execute_result",
          "data": {
            "text/plain": [
              "array([[470,  36],\n",
              "       [ 19, 257]])"
            ]
          },
          "metadata": {},
          "execution_count": 55
        }
      ]
    },
    {
      "cell_type": "markdown",
      "source": [
        "### Inference\n",
        "* With 10 features both models predicting with accuracy > 91%\n",
        "* Prediction is heavily dependent on these features"
      ],
      "metadata": {
        "_uuid": "f5bedc0f-6538-4956-a23c-78f621dc8087",
        "_cell_guid": "63ae7cce-9a6d-45b8-89e4-9bcd2c790875",
        "trusted": true,
        "id": "3lKj_uUgQS6u"
      }
    },
    {
      "cell_type": "markdown",
      "source": [
        "#### Common Columns"
      ],
      "metadata": {
        "_uuid": "a17c5fca-13d8-411f-810b-271eee83a5dd",
        "_cell_guid": "100a6541-1935-404c-9c40-4c52a14dadee",
        "trusted": true,
        "id": "5qYNHBqnQS6u"
      }
    },
    {
      "cell_type": "code",
      "source": [
        "print(anova_columns)\n",
        "print(mi_columns)\n",
        "common_columns = set(anova_columns).intersection(mi_columns)\n",
        "common_columns"
      ],
      "metadata": {
        "_uuid": "b13911fb-e0c7-44dc-8d5c-edb388d7740e",
        "_cell_guid": "4c1f4818-c224-4279-91e9-3712c443a94f",
        "execution": {
          "iopub.status.busy": "2022-06-08T16:29:05.101313Z",
          "iopub.status.idle": "2022-06-08T16:29:05.101667Z",
          "shell.execute_reply.started": "2022-06-08T16:29:05.101504Z",
          "shell.execute_reply": "2022-06-08T16:29:05.101521Z"
        },
        "jupyter": {
          "outputs_hidden": false
        },
        "trusted": true,
        "colab": {
          "base_uri": "https://localhost:8080/"
        },
        "id": "7bQQOvH9QS6u",
        "outputId": "01fbb5b1-7e1e-45c2-e224-405d1a095961"
      },
      "execution_count": 58,
      "outputs": [
        {
          "output_type": "stream",
          "name": "stdout",
          "text": [
            "Index(['X21', 'X23', 'X7', 'X53', 'X17', 'X19', 'X57', 'X9', 'X16', 'X25'], dtype='object')\n",
            "Index(['X52', 'X56', 'X53', 'X55', 'X21', 'X7', 'X24', 'X16', 'X57', 'X19'], dtype='object')\n"
          ]
        },
        {
          "output_type": "execute_result",
          "data": {
            "text/plain": [
              "{'X16', 'X19', 'X21', 'X53', 'X57', 'X7'}"
            ]
          },
          "metadata": {},
          "execution_count": 58
        }
      ]
    },
    {
      "cell_type": "markdown",
      "source": [
        "## Accuracy with these 6 common columns"
      ],
      "metadata": {
        "_uuid": "73eaeac0-bc0f-4153-840d-803a60cc6d20",
        "_cell_guid": "1e114584-d321-43d1-9323-f69ad6c556e7",
        "trusted": true,
        "id": "lXUqvl_VQS6v"
      }
    },
    {
      "cell_type": "code",
      "source": [
        "new_rfc = RandomForestClassifier(class_weight='balanced_subsample')\n",
        "new_rfc.fit(sel_train_X[common_columns], sel_train_y)\n",
        "new_rfc_predictions = new_rfc.predict(sel_test_X[common_columns])\n",
        "new_acc = accuracy_score(new_rfc_predictions, sel_test_y)\n",
        "\n",
        "print(\"Accuracy Score for ANOMA feature selection method: {:,.04f}\".format(new_acc))\n",
        "confusion_matrix(new_rfc_predictions, sel_test_y)"
      ],
      "metadata": {
        "_uuid": "87b3839d-0485-4fbc-b582-4b0cd1d1ae8c",
        "_cell_guid": "d694bad1-2c47-42ce-9b7e-6dfd334a74e9",
        "execution": {
          "iopub.status.busy": "2022-06-08T16:29:05.102696Z",
          "iopub.status.idle": "2022-06-08T16:29:05.103043Z",
          "shell.execute_reply.started": "2022-06-08T16:29:05.102869Z",
          "shell.execute_reply": "2022-06-08T16:29:05.102886Z"
        },
        "jupyter": {
          "outputs_hidden": false
        },
        "trusted": true,
        "colab": {
          "base_uri": "https://localhost:8080/"
        },
        "id": "nFsvXutBQS6v",
        "outputId": "deb9e89a-33f2-4664-bf5f-d41880ab7ed8"
      },
      "execution_count": 57,
      "outputs": [
        {
          "output_type": "stream",
          "name": "stdout",
          "text": [
            "Accuracy Score for ANOMA feature selection method: 0.8990\n"
          ]
        },
        {
          "output_type": "execute_result",
          "data": {
            "text/plain": [
              "array([[456,  46],\n",
              "       [ 33, 247]])"
            ]
          },
          "metadata": {},
          "execution_count": 57
        }
      ]
    },
    {
      "cell_type": "markdown",
      "source": [
        "# Accuracies for different number of Features Selected"
      ],
      "metadata": {
        "_uuid": "3fccb4a1-0629-4f89-9fcb-a72828fd60b2",
        "_cell_guid": "30624c6d-903f-4a31-9346-9b30fe8b8a60",
        "trusted": true,
        "id": "Q0lvm3hvQS6v"
      }
    },
    {
      "cell_type": "markdown",
      "source": [
        "### ANOMA F-test"
      ],
      "metadata": {
        "_uuid": "c5db8653-d0d0-46dd-acff-76069b377dd3",
        "_cell_guid": "357af663-b20a-4cd4-868a-e775720ac237",
        "trusted": true,
        "id": "4rchqL-uQS6w"
      }
    },
    {
      "cell_type": "code",
      "source": [
        "i=5\n",
        "while(i<=55):\n",
        "    anova_columns = get_n_columns(anova_fs_scores, 'anova_scores', i)\n",
        "    anova_rfc = RandomForestClassifier(class_weight='balanced_subsample')\n",
        "    anova_rfc.fit(sel_train_X[anova_columns], sel_train_y)\n",
        "    anova_rfc_predictions = anova_rfc.predict(sel_test_X[anova_columns])\n",
        "    anova_acc = accuracy_score(anova_rfc_predictions, sel_test_y)\n",
        "\n",
        "    print(\"Accuracy Score for {} features with ANOMA method: {:,.04f}\".format(i, anova_acc))\n",
        "    i=i+5"
      ],
      "metadata": {
        "_uuid": "836a490f-e338-4660-adfe-29f28d44b90f",
        "_cell_guid": "2334e980-b9df-40c3-a998-7c272cc73ca1",
        "execution": {
          "iopub.status.busy": "2022-06-08T16:29:05.104194Z",
          "iopub.status.idle": "2022-06-08T16:29:05.104534Z",
          "shell.execute_reply.started": "2022-06-08T16:29:05.104366Z",
          "shell.execute_reply": "2022-06-08T16:29:05.104383Z"
        },
        "jupyter": {
          "outputs_hidden": false
        },
        "trusted": true,
        "colab": {
          "base_uri": "https://localhost:8080/"
        },
        "id": "QjyD0qHBQS6w",
        "outputId": "c7bba6de-aa4f-4701-d967-4d0b873cba9c"
      },
      "execution_count": 59,
      "outputs": [
        {
          "output_type": "stream",
          "name": "stdout",
          "text": [
            "Accuracy Score for 5 features with ANOMA method: 0.8632\n",
            "Accuracy Score for 10 features with ANOMA method: 0.9118\n",
            "Accuracy Score for 15 features with ANOMA method: 0.9143\n",
            "Accuracy Score for 20 features with ANOMA method: 0.9297\n",
            "Accuracy Score for 25 features with ANOMA method: 0.9450\n",
            "Accuracy Score for 30 features with ANOMA method: 0.9450\n",
            "Accuracy Score for 35 features with ANOMA method: 0.9450\n",
            "Accuracy Score for 40 features with ANOMA method: 0.9501\n",
            "Accuracy Score for 45 features with ANOMA method: 0.9540\n",
            "Accuracy Score for 50 features with ANOMA method: 0.9450\n",
            "Accuracy Score for 55 features with ANOMA method: 0.9488\n"
          ]
        }
      ]
    },
    {
      "cell_type": "markdown",
      "source": [
        "### MI Feature Selection Method"
      ],
      "metadata": {
        "_uuid": "1ddab147-6e45-4320-b972-6ef59f06f98e",
        "_cell_guid": "9aeef8f0-58dc-46f6-8e24-2e2a7a9ee235",
        "trusted": true,
        "id": "wsXZU6F6QS6w"
      }
    },
    {
      "cell_type": "code",
      "source": [
        "i=5\n",
        "while(i<56):\n",
        "    mi_columns = get_n_columns(mi_fs_scores, 'mi_scores', i)\n",
        "    mi_rfc = RandomForestClassifier(class_weight='balanced_subsample')\n",
        "    mi_rfc.fit(sel_train_X[mi_columns], sel_train_y)\n",
        "    mi_rfc_predictions = mi_rfc.predict(sel_test_X[mi_columns])\n",
        "    mi_acc = accuracy_score(mi_rfc_predictions, sel_test_y)\n",
        "\n",
        "    print(\"Accuracy Score with {} features for MI feature selection method: {:,.04f}\".format(i,mi_acc))\n",
        "    i = i+5"
      ],
      "metadata": {
        "_uuid": "380a753b-144f-4414-914f-87f1b919b43f",
        "_cell_guid": "e51bf1db-a257-4c3d-8012-22adca126773",
        "execution": {
          "iopub.status.busy": "2022-06-08T16:29:05.106350Z",
          "iopub.status.idle": "2022-06-08T16:29:05.107337Z",
          "shell.execute_reply.started": "2022-06-08T16:29:05.107128Z",
          "shell.execute_reply": "2022-06-08T16:29:05.107151Z"
        },
        "jupyter": {
          "outputs_hidden": false
        },
        "trusted": true,
        "colab": {
          "base_uri": "https://localhost:8080/"
        },
        "id": "fpDLAcA9QS6x",
        "outputId": "d743ef0b-56cf-45d1-c598-26bffca1afcd"
      },
      "execution_count": 60,
      "outputs": [
        {
          "output_type": "stream",
          "name": "stdout",
          "text": [
            "Accuracy Score with 5 features for MI feature selection method: 0.8887\n",
            "Accuracy Score with 10 features for MI feature selection method: 0.9297\n",
            "Accuracy Score with 15 features for MI feature selection method: 0.9425\n",
            "Accuracy Score with 20 features for MI feature selection method: 0.9412\n",
            "Accuracy Score with 25 features for MI feature selection method: 0.9412\n",
            "Accuracy Score with 30 features for MI feature selection method: 0.9425\n",
            "Accuracy Score with 35 features for MI feature selection method: 0.9476\n",
            "Accuracy Score with 40 features for MI feature selection method: 0.9488\n",
            "Accuracy Score with 45 features for MI feature selection method: 0.9488\n",
            "Accuracy Score with 50 features for MI feature selection method: 0.9540\n",
            "Accuracy Score with 55 features for MI feature selection method: 0.9463\n"
          ]
        }
      ]
    },
    {
      "cell_type": "markdown",
      "source": [
        "### Inference\n",
        "* With just 10 features out of 57 we can predict with 92% accuracy. Sometime it varies because random seed has not been made constant.\n",
        "* So we can conclude few features have a lot of impact on the output."
      ],
      "metadata": {
        "_uuid": "7e2d1b86-0bf4-45df-adc8-44bc65a3eb47",
        "_cell_guid": "1908a2b3-d90b-460f-8383-8a1645350095",
        "trusted": true,
        "id": "-HKiamS0QS6x"
      }
    },
    {
      "cell_type": "code",
      "source": [
        "# Accuracy Score with best estimator\n",
        "top_score = gs.best_score_\n",
        "gs.best_params_"
      ],
      "metadata": {
        "_uuid": "4e59990c-b301-42a3-8f22-2dcf512bcb3f",
        "_cell_guid": "0c2b12fc-6cad-41b5-9cad-5f1f16634ff3",
        "execution": {
          "iopub.status.busy": "2022-06-08T16:29:05.108209Z",
          "iopub.status.idle": "2022-06-08T16:29:05.108818Z",
          "shell.execute_reply.started": "2022-06-08T16:29:05.108628Z",
          "shell.execute_reply": "2022-06-08T16:29:05.108648Z"
        },
        "jupyter": {
          "outputs_hidden": false
        },
        "trusted": true,
        "colab": {
          "base_uri": "https://localhost:8080/"
        },
        "id": "WXYh1BzKQS6x",
        "outputId": "367facd6-380f-40e8-d53b-a8eec8dabef0"
      },
      "execution_count": 61,
      "outputs": [
        {
          "output_type": "execute_result",
          "data": {
            "text/plain": [
              "{'rfc__max_depth': 50, 'rfc__n_estimators': 45}"
            ]
          },
          "metadata": {},
          "execution_count": 61
        }
      ]
    },
    {
      "cell_type": "markdown",
      "source": [
        "# Multiple Predictions"
      ],
      "metadata": {
        "_uuid": "294dc068-a506-459d-b595-aa8fc56c554b",
        "_cell_guid": "72a7d5e3-3ce6-4249-8666-653741952351",
        "trusted": true,
        "id": "Akh6VgXsQS6y"
      }
    },
    {
      "cell_type": "markdown",
      "source": [
        "## Decision tree classifier"
      ],
      "metadata": {
        "_uuid": "69c7c824-2b5c-4fb9-b555-060eedebd465",
        "_cell_guid": "f3adb747-97ba-4e2b-bedd-b9e7bd007682",
        "trusted": true,
        "id": "R8uG3p9bQS6y"
      }
    },
    {
      "cell_type": "code",
      "source": [
        "from sklearn.tree import DecisionTreeClassifier\n",
        "dt_cls = DecisionTreeClassifier(random_state=1 )\n",
        "dt_cls.fit(X_train, y_train)\n",
        "dt_cls_predictions = dt_cls.predict(X_test)\n",
        "dt_cls_acc = accuracy_score(dt_cls_predictions, y_test)\n",
        "\n",
        "print(\"Accuracy for Decision Tree Model: {:,.04f}\".format(dt_cls_acc))\n",
        "confusion_matrix(dt_cls_predictions, y_test)"
      ],
      "metadata": {
        "_uuid": "f95153c0-0214-4724-8e22-8c94153f9fd3",
        "_cell_guid": "3b63f7df-3601-48f3-8ad3-621e7d978c2f",
        "execution": {
          "iopub.status.busy": "2022-06-08T16:29:05.109812Z",
          "iopub.status.idle": "2022-06-08T16:29:05.110537Z",
          "shell.execute_reply.started": "2022-06-08T16:29:05.110329Z",
          "shell.execute_reply": "2022-06-08T16:29:05.110352Z"
        },
        "jupyter": {
          "outputs_hidden": false
        },
        "trusted": true,
        "colab": {
          "base_uri": "https://localhost:8080/"
        },
        "id": "MTMNYVa-QS6y",
        "outputId": "16ae8ba5-2336-4f83-e768-befa9b3cc7b8"
      },
      "execution_count": 62,
      "outputs": [
        {
          "output_type": "stream",
          "name": "stdout",
          "text": [
            "Accuracy for Decision Tree Model: 0.9194\n"
          ]
        },
        {
          "output_type": "execute_result",
          "data": {
            "text/plain": [
              "array([[452,  26],\n",
              "       [ 37, 267]])"
            ]
          },
          "metadata": {},
          "execution_count": 62
        }
      ]
    },
    {
      "cell_type": "markdown",
      "source": [
        "### Bagging Classifier"
      ],
      "metadata": {
        "_uuid": "882f5a6c-212e-402f-b8e7-5e9e79893803",
        "_cell_guid": "6a7b22f0-13f1-470f-80d8-f4cbb216b5e6",
        "trusted": true,
        "id": "hEW-3VgpQS6z"
      }
    },
    {
      "cell_type": "code",
      "source": [
        "from sklearn.ensemble import BaggingClassifier\n",
        "bag_cls = BaggingClassifier(random_state=1 )\n",
        "bag_cls.fit(X_train, y_train)\n",
        "bag_cls_predictions = bag_cls.predict(X_test)\n",
        "bag_cls_acc = accuracy_score(bag_cls_predictions, y_test)\n",
        "\n",
        "print(\"Accuracy for Bagging Classifier Model: {:,.04f}\".format(bag_cls_acc))\n",
        "confusion_matrix(dt_cls_predictions, y_test)"
      ],
      "metadata": {
        "_uuid": "1a960fd9-11b5-4ebd-801a-791edc3e3f1a",
        "_cell_guid": "705a2d5d-92e0-4f5f-a389-5397bdbb202c",
        "execution": {
          "iopub.status.busy": "2022-06-08T16:29:05.111446Z",
          "iopub.status.idle": "2022-06-08T16:29:05.112169Z",
          "shell.execute_reply.started": "2022-06-08T16:29:05.111948Z",
          "shell.execute_reply": "2022-06-08T16:29:05.111969Z"
        },
        "jupyter": {
          "outputs_hidden": false
        },
        "trusted": true,
        "colab": {
          "base_uri": "https://localhost:8080/"
        },
        "id": "4eNswhMUQS6z",
        "outputId": "517c3a93-f116-464a-fce2-6dec46c4b7b3"
      },
      "execution_count": 65,
      "outputs": [
        {
          "output_type": "stream",
          "name": "stdout",
          "text": [
            "Accuracy for Bagging Classifier Model: 0.9488\n"
          ]
        },
        {
          "output_type": "execute_result",
          "data": {
            "text/plain": [
              "array([[452,  26],\n",
              "       [ 37, 267]])"
            ]
          },
          "metadata": {},
          "execution_count": 65
        }
      ]
    },
    {
      "cell_type": "markdown",
      "source": [
        "# Submission"
      ],
      "metadata": {
        "_uuid": "9a414976-d2f3-4f65-86c3-bf2a5bb15d36",
        "_cell_guid": "af76605d-7815-40b7-8ad8-97b4fa63a09e",
        "trusted": true,
        "id": "d8dwcFxLQS61"
      }
    },
    {
      "cell_type": "code",
      "source": [
        "test_data = pd.read_csv('/content/test_set.csv').drop(['Unnamed: 0'],axis =1)"
      ],
      "metadata": {
        "_uuid": "e128b53f-3feb-4985-8413-4edb881ede2e",
        "_cell_guid": "5d63eedc-a645-4386-8468-70b81910bb30",
        "execution": {
          "iopub.status.busy": "2022-06-08T16:29:05.116544Z",
          "iopub.status.idle": "2022-06-08T16:29:05.117139Z",
          "shell.execute_reply.started": "2022-06-08T16:29:05.116916Z",
          "shell.execute_reply": "2022-06-08T16:29:05.116937Z"
        },
        "jupyter": {
          "outputs_hidden": false
        },
        "trusted": true,
        "id": "vv3nPo3XQS61"
      },
      "execution_count": 69,
      "outputs": []
    },
    {
      "cell_type": "code",
      "source": [
        "test_data.isnull().sum().any()"
      ],
      "metadata": {
        "_uuid": "d0d94299-42fc-4f2e-adac-468489d90599",
        "_cell_guid": "a5a8b06b-f92f-4a67-8212-a7fd57e82906",
        "execution": {
          "iopub.status.busy": "2022-06-08T16:29:05.118140Z",
          "iopub.status.idle": "2022-06-08T16:29:05.118899Z",
          "shell.execute_reply.started": "2022-06-08T16:29:05.118697Z",
          "shell.execute_reply": "2022-06-08T16:29:05.118719Z"
        },
        "jupyter": {
          "outputs_hidden": false
        },
        "trusted": true,
        "colab": {
          "base_uri": "https://localhost:8080/"
        },
        "id": "QxwaLyMsQS61",
        "outputId": "9842e533-f706-415e-973b-1b30d88a441f"
      },
      "execution_count": 70,
      "outputs": [
        {
          "output_type": "execute_result",
          "data": {
            "text/plain": [
              "False"
            ]
          },
          "metadata": {},
          "execution_count": 70
        }
      ]
    },
    {
      "cell_type": "code",
      "source": [
        "y_test_prediction = best_pipe.predict(test_data)\n",
        "y_test_prediction"
      ],
      "metadata": {
        "_uuid": "f8e6956b-adcb-427e-a376-fa2e3d9ac3b6",
        "_cell_guid": "65c735d9-38a8-4f20-8358-f6e4e2aae3b7",
        "execution": {
          "iopub.status.busy": "2022-06-08T16:29:05.120303Z",
          "iopub.status.idle": "2022-06-08T16:29:05.121212Z",
          "shell.execute_reply.started": "2022-06-08T16:29:05.120897Z",
          "shell.execute_reply": "2022-06-08T16:29:05.120926Z"
        },
        "jupyter": {
          "outputs_hidden": false
        },
        "trusted": true,
        "id": "3uxt_pyIQS62"
      },
      "execution_count": null,
      "outputs": []
    },
    {
      "cell_type": "code",
      "source": [
        "test_data['prediction'] = y_test_prediction\n",
        "test_data.head()"
      ],
      "metadata": {
        "_uuid": "193c48f0-d0ef-471f-8343-b9d44d63f6e7",
        "_cell_guid": "afd15db8-4b40-4aac-ae83-44335b0c56e1",
        "execution": {
          "iopub.status.busy": "2022-06-08T16:29:05.122546Z",
          "iopub.status.idle": "2022-06-08T16:29:05.123177Z",
          "shell.execute_reply.started": "2022-06-08T16:29:05.122869Z",
          "shell.execute_reply": "2022-06-08T16:29:05.122898Z"
        },
        "jupyter": {
          "outputs_hidden": false
        },
        "trusted": true,
        "id": "FqreEKQiQS62"
      },
      "execution_count": null,
      "outputs": []
    },
    {
      "cell_type": "code",
      "source": [
        "test_prediction = test_data[['prediction']]\n",
        "test_prediction = test_prediction.astype(int)\n",
        "test_prediction"
      ],
      "metadata": {
        "_uuid": "313c7fae-efb4-4d4d-bfdc-fd10d8d9368a",
        "_cell_guid": "641d6e7b-bcc7-4d36-ac85-c862d084fa0e",
        "execution": {
          "iopub.status.busy": "2022-06-08T16:29:05.124568Z",
          "iopub.status.idle": "2022-06-08T16:29:05.125117Z",
          "shell.execute_reply.started": "2022-06-08T16:29:05.124828Z",
          "shell.execute_reply": "2022-06-08T16:29:05.124863Z"
        },
        "jupyter": {
          "outputs_hidden": false
        },
        "trusted": true,
        "id": "TM-6mfggQS62"
      },
      "execution_count": null,
      "outputs": []
    },
    {
      "cell_type": "code",
      "source": [
        "# only prediction Column\n",
        "test_prediction.to_csv('test_prediction_only_y_values.csv')"
      ],
      "metadata": {
        "_uuid": "0d9696e1-e3e6-482f-a591-b4b9dac0d2bd",
        "_cell_guid": "8699c864-308c-4bff-a0a9-f75339fb4d16",
        "execution": {
          "iopub.status.busy": "2022-06-08T16:29:05.126633Z",
          "iopub.status.idle": "2022-06-08T16:29:05.127186Z",
          "shell.execute_reply.started": "2022-06-08T16:29:05.126902Z",
          "shell.execute_reply": "2022-06-08T16:29:05.126928Z"
        },
        "jupyter": {
          "outputs_hidden": false
        },
        "trusted": true,
        "id": "ePW2hd6MQS63"
      },
      "execution_count": 76,
      "outputs": []
    },
    {
      "cell_type": "code",
      "source": [
        "# Prediction with whole test data set\n",
        "test_data.to_csv('test_prediction_with_whole_test_dataset.csv')"
      ],
      "metadata": {
        "_uuid": "2c3f83c9-cc42-44d4-87ed-74351ad50ded",
        "_cell_guid": "2486a912-f713-4fac-bf9a-096e594b6fd6",
        "execution": {
          "iopub.status.busy": "2022-06-08T16:29:05.129393Z",
          "iopub.status.idle": "2022-06-08T16:29:05.130290Z",
          "shell.execute_reply.started": "2022-06-08T16:29:05.130097Z",
          "shell.execute_reply": "2022-06-08T16:29:05.130119Z"
        },
        "jupyter": {
          "outputs_hidden": false
        },
        "trusted": true,
        "id": "4eoWY5lHQS64"
      },
      "execution_count": 77,
      "outputs": []
    }
  ]
}