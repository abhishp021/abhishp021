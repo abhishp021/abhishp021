{
 "cells": [
  {
   "cell_type": "markdown",
   "id": "e59537a7",
   "metadata": {
    "papermill": {
     "duration": 0.048169,
     "end_time": "2022-05-24T20:44:43.957820",
     "exception": false,
     "start_time": "2022-05-24T20:44:43.909651",
     "status": "completed"
    },
    "tags": []
   },
   "source": [
    "**This notebook is an exercise in the [Introduction to Machine Learning](https://www.kaggle.com/learn/intro-to-machine-learning) course.  You can reference the tutorial at [this link](https://www.kaggle.com/alexisbcook/machine-learning-competitions).**\n",
    "\n",
    "---\n"
   ]
  },
  {
   "cell_type": "markdown",
   "id": "d0eca7dc",
   "metadata": {
    "papermill": {
     "duration": 0.044022,
     "end_time": "2022-05-24T20:44:44.048287",
     "exception": false,
     "start_time": "2022-05-24T20:44:44.004265",
     "status": "completed"
    },
    "tags": []
   },
   "source": [
    "# Introduction\n",
    "\n",
    "In this exercise, you will create and submit predictions for a Kaggle competition. You can then improve your model (e.g. by adding features) to apply what you've learned and move up the leaderboard.\n",
    "\n",
    "Begin by running the code cell below to set up code checking and the filepaths for the dataset."
   ]
  },
  {
   "cell_type": "code",
   "execution_count": 1,
   "id": "9616de47",
   "metadata": {
    "execution": {
     "iopub.execute_input": "2022-05-24T20:44:44.144369Z",
     "iopub.status.busy": "2022-05-24T20:44:44.143937Z",
     "iopub.status.idle": "2022-05-24T20:44:44.194837Z",
     "shell.execute_reply": "2022-05-24T20:44:44.193899Z"
    },
    "papermill": {
     "duration": 0.100299,
     "end_time": "2022-05-24T20:44:44.197880",
     "exception": false,
     "start_time": "2022-05-24T20:44:44.097581",
     "status": "completed"
    },
    "tags": []
   },
   "outputs": [],
   "source": [
    "# Set up code checking\n",
    "from learntools.core import binder\n",
    "binder.bind(globals())\n",
    "from learntools.machine_learning.ex7 import *\n",
    "\n",
    "# Set up filepaths\n",
    "import os\n",
    "if not os.path.exists(\"../input/train.csv\"):\n",
    "    os.symlink(\"../input/home-data-for-ml-course/train.csv\", \"../input/train.csv\")  \n",
    "    os.symlink(\"../input/home-data-for-ml-course/test.csv\", \"../input/test.csv\") "
   ]
  },
  {
   "cell_type": "markdown",
   "id": "f46a2910",
   "metadata": {
    "papermill": {
     "duration": 0.048328,
     "end_time": "2022-05-24T20:44:44.295821",
     "exception": false,
     "start_time": "2022-05-24T20:44:44.247493",
     "status": "completed"
    },
    "tags": []
   },
   "source": [
    "Here's some of the code you've written so far. Start by running it again."
   ]
  },
  {
   "cell_type": "code",
   "execution_count": 2,
   "id": "7d1c7d3f",
   "metadata": {
    "execution": {
     "iopub.execute_input": "2022-05-24T20:44:44.396645Z",
     "iopub.status.busy": "2022-05-24T20:44:44.396001Z",
     "iopub.status.idle": "2022-05-24T20:44:45.910553Z",
     "shell.execute_reply": "2022-05-24T20:44:45.909639Z"
    },
    "papermill": {
     "duration": 1.568349,
     "end_time": "2022-05-24T20:44:45.913226",
     "exception": false,
     "start_time": "2022-05-24T20:44:44.344877",
     "status": "completed"
    },
    "tags": []
   },
   "outputs": [],
   "source": [
    "# Import helpful libraries\n",
    "import pandas as pd\n",
    "from sklearn.ensemble import RandomForestRegressor\n",
    "from sklearn.metrics import mean_absolute_error\n",
    "from sklearn.model_selection import train_test_split\n",
    "\n",
    "# Load the data, and separate the target\n",
    "iowa_file_path = '../input/train.csv'\n",
    "home_data = pd.read_csv(iowa_file_path)\n",
    "\n",
    "# Test Data Loading\n",
    "test_data_path = '../input/test.csv'\n",
    "\n",
    "# read test data file using pandas\n",
    "test_data = pd.read_csv(test_data_path)\n",
    "\n",
    "y = home_data.SalePrice\n",
    "\n",
    "# Create X (After completing the exercise, you can return to modify this line!)\n",
    "#features = ['LotArea', 'YearBuilt', '1stFlrSF', '2ndFlrSF', 'FullBath', 'BedroomAbvGr', 'TotRmsAbvGrd']\n",
    "\n",
    "# Select columns corresponding to features, and preview the data\n",
    "#X = home_data[features]\n",
    "#X.head()\n",
    "\n",
    "# Split into validation and training data\n",
    "#train_X, val_X, train_y, val_y = train_test_split(X, y, random_state=1)\n",
    "\n",
    "# Define a random forest model\n",
    "#rf_model = RandomForestRegressor(random_state=1)\n",
    "#rf_model.fit(train_X, train_y)\n",
    "#rf_val_predictions = rf_model.predict(val_X)\n",
    "#rf_val_mae = mean_absolute_error(rf_val_predictions, val_y)\n",
    "\n",
    "#print(\"Validation MAE for Random Forest Model: {:,.0f}\".format(rf_val_mae))"
   ]
  },
  {
   "cell_type": "markdown",
   "id": "26756db7",
   "metadata": {
    "papermill": {
     "duration": 0.044495,
     "end_time": "2022-05-24T20:44:46.011074",
     "exception": false,
     "start_time": "2022-05-24T20:44:45.966579",
     "status": "completed"
    },
    "tags": []
   },
   "source": [
    "# Exploration"
   ]
  },
  {
   "cell_type": "code",
   "execution_count": 3,
   "id": "a4fd67e2",
   "metadata": {
    "execution": {
     "iopub.execute_input": "2022-05-24T20:44:46.104424Z",
     "iopub.status.busy": "2022-05-24T20:44:46.104053Z",
     "iopub.status.idle": "2022-05-24T20:44:46.123804Z",
     "shell.execute_reply": "2022-05-24T20:44:46.122762Z"
    },
    "papermill": {
     "duration": 0.070165,
     "end_time": "2022-05-24T20:44:46.126267",
     "exception": false,
     "start_time": "2022-05-24T20:44:46.056102",
     "status": "completed"
    },
    "tags": []
   },
   "outputs": [
    {
     "name": "stdout",
     "output_type": "stream",
     "text": [
      "   Id  MSSubClass MSZoning  LotFrontage  LotArea Street Alley LotShape  \\\n",
      "0   1          60       RL         65.0     8450   Pave   NaN      Reg   \n",
      "1   2          20       RL         80.0     9600   Pave   NaN      Reg   \n",
      "2   3          60       RL         68.0    11250   Pave   NaN      IR1   \n",
      "3   4          70       RL         60.0     9550   Pave   NaN      IR1   \n",
      "4   5          60       RL         84.0    14260   Pave   NaN      IR1   \n",
      "\n",
      "  LandContour Utilities  ... PoolArea PoolQC Fence MiscFeature MiscVal MoSold  \\\n",
      "0         Lvl    AllPub  ...        0    NaN   NaN         NaN       0      2   \n",
      "1         Lvl    AllPub  ...        0    NaN   NaN         NaN       0      5   \n",
      "2         Lvl    AllPub  ...        0    NaN   NaN         NaN       0      9   \n",
      "3         Lvl    AllPub  ...        0    NaN   NaN         NaN       0      2   \n",
      "4         Lvl    AllPub  ...        0    NaN   NaN         NaN       0     12   \n",
      "\n",
      "  YrSold  SaleType  SaleCondition  SalePrice  \n",
      "0   2008        WD         Normal     208500  \n",
      "1   2007        WD         Normal     181500  \n",
      "2   2008        WD         Normal     223500  \n",
      "3   2006        WD        Abnorml     140000  \n",
      "4   2008        WD         Normal     250000  \n",
      "\n",
      "[5 rows x 81 columns]\n",
      "(1460, 81)\n"
     ]
    }
   ],
   "source": [
    "print(home_data.head())\n",
    "print(home_data.shape)"
   ]
  },
  {
   "cell_type": "markdown",
   "id": "c9de6b04",
   "metadata": {
    "papermill": {
     "duration": 0.050601,
     "end_time": "2022-05-24T20:44:46.224783",
     "exception": false,
     "start_time": "2022-05-24T20:44:46.174182",
     "status": "completed"
    },
    "tags": []
   },
   "source": [
    "> This dataset has 81 columns "
   ]
  },
  {
   "cell_type": "code",
   "execution_count": 4,
   "id": "2db66ff5",
   "metadata": {
    "execution": {
     "iopub.execute_input": "2022-05-24T20:44:46.321645Z",
     "iopub.status.busy": "2022-05-24T20:44:46.321363Z",
     "iopub.status.idle": "2022-05-24T20:44:46.368312Z",
     "shell.execute_reply": "2022-05-24T20:44:46.367226Z"
    },
    "papermill": {
     "duration": 0.09909,
     "end_time": "2022-05-24T20:44:46.371388",
     "exception": false,
     "start_time": "2022-05-24T20:44:46.272298",
     "status": "completed"
    },
    "tags": []
   },
   "outputs": [
    {
     "data": {
      "text/html": [
       "<div>\n",
       "<style scoped>\n",
       "    .dataframe tbody tr th:only-of-type {\n",
       "        vertical-align: middle;\n",
       "    }\n",
       "\n",
       "    .dataframe tbody tr th {\n",
       "        vertical-align: top;\n",
       "    }\n",
       "\n",
       "    .dataframe thead th {\n",
       "        text-align: right;\n",
       "    }\n",
       "</style>\n",
       "<table border=\"1\" class=\"dataframe\">\n",
       "  <thead>\n",
       "    <tr style=\"text-align: right;\">\n",
       "      <th></th>\n",
       "      <th>Id</th>\n",
       "      <th>MSSubClass</th>\n",
       "      <th>MSZoning</th>\n",
       "      <th>LotFrontage</th>\n",
       "      <th>LotArea</th>\n",
       "      <th>Street</th>\n",
       "      <th>Alley</th>\n",
       "      <th>LotShape</th>\n",
       "      <th>LandContour</th>\n",
       "      <th>Utilities</th>\n",
       "      <th>...</th>\n",
       "      <th>PoolArea</th>\n",
       "      <th>PoolQC</th>\n",
       "      <th>Fence</th>\n",
       "      <th>MiscFeature</th>\n",
       "      <th>MiscVal</th>\n",
       "      <th>MoSold</th>\n",
       "      <th>YrSold</th>\n",
       "      <th>SaleType</th>\n",
       "      <th>SaleCondition</th>\n",
       "      <th>SalePrice</th>\n",
       "    </tr>\n",
       "  </thead>\n",
       "  <tbody>\n",
       "  </tbody>\n",
       "</table>\n",
       "<p>0 rows × 81 columns</p>\n",
       "</div>"
      ],
      "text/plain": [
       "Empty DataFrame\n",
       "Columns: [Id, MSSubClass, MSZoning, LotFrontage, LotArea, Street, Alley, LotShape, LandContour, Utilities, LotConfig, LandSlope, Neighborhood, Condition1, Condition2, BldgType, HouseStyle, OverallQual, OverallCond, YearBuilt, YearRemodAdd, RoofStyle, RoofMatl, Exterior1st, Exterior2nd, MasVnrType, MasVnrArea, ExterQual, ExterCond, Foundation, BsmtQual, BsmtCond, BsmtExposure, BsmtFinType1, BsmtFinSF1, BsmtFinType2, BsmtFinSF2, BsmtUnfSF, TotalBsmtSF, Heating, HeatingQC, CentralAir, Electrical, 1stFlrSF, 2ndFlrSF, LowQualFinSF, GrLivArea, BsmtFullBath, BsmtHalfBath, FullBath, HalfBath, BedroomAbvGr, KitchenAbvGr, KitchenQual, TotRmsAbvGrd, Functional, Fireplaces, FireplaceQu, GarageType, GarageYrBlt, GarageFinish, GarageCars, GarageArea, GarageQual, GarageCond, PavedDrive, WoodDeckSF, OpenPorchSF, EnclosedPorch, 3SsnPorch, ScreenPorch, PoolArea, PoolQC, Fence, MiscFeature, MiscVal, MoSold, YrSold, SaleType, SaleCondition, SalePrice]\n",
       "Index: []\n",
       "\n",
       "[0 rows x 81 columns]"
      ]
     },
     "execution_count": 4,
     "metadata": {},
     "output_type": "execute_result"
    }
   ],
   "source": [
    "home_data[home_data.duplicated()]"
   ]
  },
  {
   "cell_type": "markdown",
   "id": "2c9c9a7b",
   "metadata": {
    "papermill": {
     "duration": 0.04475,
     "end_time": "2022-05-24T20:44:46.462240",
     "exception": false,
     "start_time": "2022-05-24T20:44:46.417490",
     "status": "completed"
    },
    "tags": []
   },
   "source": [
    "> No Duplicate rows.\n",
    "\n",
    "> Id has no effect on price of homes"
   ]
  },
  {
   "cell_type": "code",
   "execution_count": 5,
   "id": "b7762673",
   "metadata": {
    "execution": {
     "iopub.execute_input": "2022-05-24T20:44:46.553510Z",
     "iopub.status.busy": "2022-05-24T20:44:46.553102Z",
     "iopub.status.idle": "2022-05-24T20:44:46.557450Z",
     "shell.execute_reply": "2022-05-24T20:44:46.556817Z"
    },
    "papermill": {
     "duration": 0.052636,
     "end_time": "2022-05-24T20:44:46.559477",
     "exception": false,
     "start_time": "2022-05-24T20:44:46.506841",
     "status": "completed"
    },
    "tags": []
   },
   "outputs": [],
   "source": [
    "test_data_Id = test_data.Id     # for submission format"
   ]
  },
  {
   "cell_type": "markdown",
   "id": "bb350333",
   "metadata": {
    "papermill": {
     "duration": 0.044592,
     "end_time": "2022-05-24T20:44:46.650688",
     "exception": false,
     "start_time": "2022-05-24T20:44:46.606096",
     "status": "completed"
    },
    "tags": []
   },
   "source": [
    "> to be used while submitting"
   ]
  },
  {
   "cell_type": "code",
   "execution_count": 6,
   "id": "80f06ead",
   "metadata": {
    "execution": {
     "iopub.execute_input": "2022-05-24T20:44:46.742562Z",
     "iopub.status.busy": "2022-05-24T20:44:46.742288Z",
     "iopub.status.idle": "2022-05-24T20:44:46.750659Z",
     "shell.execute_reply": "2022-05-24T20:44:46.749699Z"
    },
    "papermill": {
     "duration": 0.056681,
     "end_time": "2022-05-24T20:44:46.752853",
     "exception": false,
     "start_time": "2022-05-24T20:44:46.696172",
     "status": "completed"
    },
    "tags": []
   },
   "outputs": [],
   "source": [
    "home_data.drop(['Id','SalePrice'], inplace=True, axis=1)\n",
    "home_data.head()\n",
    "test_data.drop('Id', inplace=True, axis=1)"
   ]
  },
  {
   "cell_type": "code",
   "execution_count": 7,
   "id": "e434bd18",
   "metadata": {
    "execution": {
     "iopub.execute_input": "2022-05-24T20:44:46.845975Z",
     "iopub.status.busy": "2022-05-24T20:44:46.845716Z",
     "iopub.status.idle": "2022-05-24T20:44:46.850861Z",
     "shell.execute_reply": "2022-05-24T20:44:46.850012Z"
    },
    "papermill": {
     "duration": 0.053724,
     "end_time": "2022-05-24T20:44:46.852925",
     "exception": false,
     "start_time": "2022-05-24T20:44:46.799201",
     "status": "completed"
    },
    "tags": []
   },
   "outputs": [
    {
     "name": "stdout",
     "output_type": "stream",
     "text": [
      "(1460, 79)\n",
      "(1459, 79)\n"
     ]
    }
   ],
   "source": [
    "print(home_data.shape)\n",
    "print(test_data.shape)"
   ]
  },
  {
   "cell_type": "markdown",
   "id": "f32f461c",
   "metadata": {
    "papermill": {
     "duration": 0.045415,
     "end_time": "2022-05-24T20:44:46.943848",
     "exception": false,
     "start_time": "2022-05-24T20:44:46.898433",
     "status": "completed"
    },
    "tags": []
   },
   "source": [
    "# Checking Null Values"
   ]
  },
  {
   "cell_type": "code",
   "execution_count": 8,
   "id": "da116762",
   "metadata": {
    "execution": {
     "iopub.execute_input": "2022-05-24T20:44:47.038487Z",
     "iopub.status.busy": "2022-05-24T20:44:47.037952Z",
     "iopub.status.idle": "2022-05-24T20:44:47.064569Z",
     "shell.execute_reply": "2022-05-24T20:44:47.063709Z"
    },
    "papermill": {
     "duration": 0.075513,
     "end_time": "2022-05-24T20:44:47.066832",
     "exception": false,
     "start_time": "2022-05-24T20:44:46.991319",
     "status": "completed"
    },
    "tags": []
   },
   "outputs": [
    {
     "name": "stdout",
     "output_type": "stream",
     "text": [
      "['LotFrontage', 'Alley', 'MasVnrType', 'MasVnrArea', 'BsmtQual', 'BsmtCond', 'BsmtExposure', 'BsmtFinType1', 'BsmtFinType2', 'Electrical', 'FireplaceQu', 'GarageType', 'GarageYrBlt', 'GarageFinish', 'GarageQual', 'GarageCond', 'PoolQC', 'Fence', 'MiscFeature']\n"
     ]
    }
   ],
   "source": [
    "cols_with_missing = [col for col in home_data.columns \n",
    "                                 if home_data[col].isnull().any()]  \n",
    "print(cols_with_missing)"
   ]
  },
  {
   "cell_type": "code",
   "execution_count": 9,
   "id": "fa3a217c",
   "metadata": {
    "execution": {
     "iopub.execute_input": "2022-05-24T20:44:47.159713Z",
     "iopub.status.busy": "2022-05-24T20:44:47.159392Z",
     "iopub.status.idle": "2022-05-24T20:44:47.174939Z",
     "shell.execute_reply": "2022-05-24T20:44:47.174111Z"
    },
    "papermill": {
     "duration": 0.064593,
     "end_time": "2022-05-24T20:44:47.177160",
     "exception": false,
     "start_time": "2022-05-24T20:44:47.112567",
     "status": "completed"
    },
    "tags": []
   },
   "outputs": [
    {
     "name": "stdout",
     "output_type": "stream",
     "text": [
      "LotFrontage          259\n",
      "Alley                1369\n",
      "MasVnrType           8\n",
      "MasVnrArea           8\n",
      "BsmtQual             37\n",
      "BsmtCond             37\n",
      "BsmtExposure         38\n",
      "BsmtFinType1         37\n",
      "BsmtFinType2         38\n",
      "Electrical           1\n",
      "FireplaceQu          690\n",
      "GarageType           81\n",
      "GarageYrBlt          81\n",
      "GarageFinish         81\n",
      "GarageQual           81\n",
      "GarageCond           81\n",
      "PoolQC               1453\n",
      "Fence                1179\n",
      "MiscFeature          1406\n"
     ]
    }
   ],
   "source": [
    "for col_name in cols_with_missing:\n",
    "    #if home_data[col_name].isnull().sum().any():\n",
    "        #print(col_name,'\\t','\\t', home_data[col_name].isnull().sum())\n",
    "    print('{:20s} {}'.format(col_name, home_data[col_name].isnull().sum()))"
   ]
  },
  {
   "cell_type": "markdown",
   "id": "95f29c13",
   "metadata": {
    "papermill": {
     "duration": 0.045611,
     "end_time": "2022-05-24T20:44:47.268891",
     "exception": false,
     "start_time": "2022-05-24T20:44:47.223280",
     "status": "completed"
    },
    "tags": []
   },
   "source": [
    "> PoolQC, MiscFeature, Fence, Alley has more than 1000 missing values out of 1460. We can drop them since the model will be highly biased by replacement of these null values"
   ]
  },
  {
   "cell_type": "code",
   "execution_count": 10,
   "id": "6591d9ef",
   "metadata": {
    "execution": {
     "iopub.execute_input": "2022-05-24T20:44:47.363318Z",
     "iopub.status.busy": "2022-05-24T20:44:47.363051Z",
     "iopub.status.idle": "2022-05-24T20:44:47.366058Z",
     "shell.execute_reply": "2022-05-24T20:44:47.365395Z"
    },
    "papermill": {
     "duration": 0.053178,
     "end_time": "2022-05-24T20:44:47.367829",
     "exception": false,
     "start_time": "2022-05-24T20:44:47.314651",
     "status": "completed"
    },
    "tags": []
   },
   "outputs": [],
   "source": [
    "#for col_name in cols_with_missing:\n",
    "#    print(col_name)\n",
    "#    print(home_data[col_name].value_counts())"
   ]
  },
  {
   "cell_type": "code",
   "execution_count": 11,
   "id": "0504218c",
   "metadata": {
    "execution": {
     "iopub.execute_input": "2022-05-24T20:44:47.461453Z",
     "iopub.status.busy": "2022-05-24T20:44:47.460681Z",
     "iopub.status.idle": "2022-05-24T20:44:47.467383Z",
     "shell.execute_reply": "2022-05-24T20:44:47.466567Z"
    },
    "papermill": {
     "duration": 0.05575,
     "end_time": "2022-05-24T20:44:47.469564",
     "exception": false,
     "start_time": "2022-05-24T20:44:47.413814",
     "status": "completed"
    },
    "tags": []
   },
   "outputs": [
    {
     "name": "stdout",
     "output_type": "stream",
     "text": [
      "(1460, 60)\n"
     ]
    }
   ],
   "source": [
    "new_home_data = home_data.drop(cols_with_missing, axis=1)  \n",
    "print(new_home_data.shape)"
   ]
  },
  {
   "cell_type": "markdown",
   "id": "82f729de",
   "metadata": {
    "papermill": {
     "duration": 0.045969,
     "end_time": "2022-05-24T20:44:47.561721",
     "exception": false,
     "start_time": "2022-05-24T20:44:47.515752",
     "status": "completed"
    },
    "tags": []
   },
   "source": [
    "> In this we are simply removing the columns with missing values. Might not be a good strategy. Therefore new dataset created."
   ]
  },
  {
   "cell_type": "code",
   "execution_count": 12,
   "id": "bece7a13",
   "metadata": {
    "execution": {
     "iopub.execute_input": "2022-05-24T20:44:47.655496Z",
     "iopub.status.busy": "2022-05-24T20:44:47.655254Z",
     "iopub.status.idle": "2022-05-24T20:44:47.678529Z",
     "shell.execute_reply": "2022-05-24T20:44:47.677512Z"
    },
    "papermill": {
     "duration": 0.073417,
     "end_time": "2022-05-24T20:44:47.681253",
     "exception": false,
     "start_time": "2022-05-24T20:44:47.607836",
     "status": "completed"
    },
    "tags": []
   },
   "outputs": [
    {
     "name": "stdout",
     "output_type": "stream",
     "text": [
      "['MSZoning', 'Street', 'LotShape', 'LandContour', 'Utilities', 'LotConfig', 'LandSlope', 'Condition1', 'Condition2', 'BldgType', 'HouseStyle', 'RoofStyle', 'RoofMatl', 'ExterQual', 'ExterCond', 'Foundation', 'Heating', 'HeatingQC', 'CentralAir', 'KitchenQual', 'Functional', 'PavedDrive', 'SaleType', 'SaleCondition']\n",
      "-------------------------------------------\n",
      "(1460, 57)\n"
     ]
    }
   ],
   "source": [
    "# \"cardinality\" means the number of unique values in a column.\n",
    "low_cardinality_cols = [cname for cname in new_home_data.columns if \n",
    "                                new_home_data[cname].nunique() < 10 and\n",
    "                                new_home_data[cname].dtype == \"object\"]\n",
    "print(low_cardinality_cols)\n",
    "#for col in low_cardinality_cols:\n",
    "#    print(col)\n",
    "#    print(new_home_data[col].value_counts())\n",
    "\n",
    "numeric_cols = [cname for cname in new_home_data.columns if \n",
    "                                new_home_data[cname].dtype in ['int64', 'float64']]\n",
    "my_cols = low_cardinality_cols + numeric_cols\n",
    "new_train_predictors = new_home_data[my_cols]\n",
    "print('-------------------------------------------')\n",
    "print(new_train_predictors.shape)"
   ]
  },
  {
   "cell_type": "markdown",
   "id": "84e486d1",
   "metadata": {
    "papermill": {
     "duration": 0.048221,
     "end_time": "2022-05-24T20:44:47.777157",
     "exception": false,
     "start_time": "2022-05-24T20:44:47.728936",
     "status": "completed"
    },
    "tags": []
   },
   "source": [
    "> For new dataset"
   ]
  },
  {
   "cell_type": "markdown",
   "id": "3f641fc8",
   "metadata": {
    "papermill": {
     "duration": 0.046314,
     "end_time": "2022-05-24T20:44:47.869898",
     "exception": false,
     "start_time": "2022-05-24T20:44:47.823584",
     "status": "completed"
    },
    "tags": []
   },
   "source": [
    "# Replacing null values by mode"
   ]
  },
  {
   "cell_type": "code",
   "execution_count": 13,
   "id": "580add2a",
   "metadata": {
    "execution": {
     "iopub.execute_input": "2022-05-24T20:44:47.968941Z",
     "iopub.status.busy": "2022-05-24T20:44:47.968252Z",
     "iopub.status.idle": "2022-05-24T20:44:48.065545Z",
     "shell.execute_reply": "2022-05-24T20:44:48.064427Z"
    },
    "papermill": {
     "duration": 0.150514,
     "end_time": "2022-05-24T20:44:48.068261",
     "exception": false,
     "start_time": "2022-05-24T20:44:47.917747",
     "status": "completed"
    },
    "tags": []
   },
   "outputs": [],
   "source": [
    "for col_name in home_data.columns:\n",
    "    if home_data[col_name].isnull().sum().any():\n",
    "        home_data[col_name] = home_data[col_name].fillna(home_data[col_name].mode()[0])\n",
    "        \n",
    "for col_name in test_data.columns:\n",
    "    if test_data[col_name].isnull().sum().any():\n",
    "        test_data[col_name] = test_data[col_name].fillna(test_data[col_name].mode()[0])"
   ]
  },
  {
   "cell_type": "code",
   "execution_count": 14,
   "id": "09f2bf22",
   "metadata": {
    "execution": {
     "iopub.execute_input": "2022-05-24T20:44:48.165212Z",
     "iopub.status.busy": "2022-05-24T20:44:48.164696Z",
     "iopub.status.idle": "2022-05-24T20:44:48.188332Z",
     "shell.execute_reply": "2022-05-24T20:44:48.187487Z"
    },
    "papermill": {
     "duration": 0.075212,
     "end_time": "2022-05-24T20:44:48.190681",
     "exception": false,
     "start_time": "2022-05-24T20:44:48.115469",
     "status": "completed"
    },
    "tags": []
   },
   "outputs": [
    {
     "name": "stdout",
     "output_type": "stream",
     "text": [
      "False\n",
      "False\n"
     ]
    }
   ],
   "source": [
    "print(home_data.isnull().sum().any())\n",
    "print(test_data.isnull().sum().any())"
   ]
  },
  {
   "cell_type": "markdown",
   "id": "ab23e4e9",
   "metadata": {
    "papermill": {
     "duration": 0.050689,
     "end_time": "2022-05-24T20:44:48.288480",
     "exception": false,
     "start_time": "2022-05-24T20:44:48.237791",
     "status": "completed"
    },
    "tags": []
   },
   "source": [
    "> No null values remaining in our dataset"
   ]
  },
  {
   "cell_type": "markdown",
   "id": "195d99ab",
   "metadata": {
    "papermill": {
     "duration": 0.048587,
     "end_time": "2022-05-24T20:44:48.383766",
     "exception": false,
     "start_time": "2022-05-24T20:44:48.335179",
     "status": "completed"
    },
    "tags": []
   },
   "source": [
    "# Columns to be considered for encoding"
   ]
  },
  {
   "cell_type": "code",
   "execution_count": 15,
   "id": "03a614a3",
   "metadata": {
    "execution": {
     "iopub.execute_input": "2022-05-24T20:44:48.479444Z",
     "iopub.status.busy": "2022-05-24T20:44:48.479159Z",
     "iopub.status.idle": "2022-05-24T20:44:48.505947Z",
     "shell.execute_reply": "2022-05-24T20:44:48.505103Z"
    },
    "papermill": {
     "duration": 0.076891,
     "end_time": "2022-05-24T20:44:48.508029",
     "exception": false,
     "start_time": "2022-05-24T20:44:48.431138",
     "status": "completed"
    },
    "tags": []
   },
   "outputs": [
    {
     "name": "stdout",
     "output_type": "stream",
     "text": [
      "['MSZoning', 'Street', 'Alley', 'LotShape', 'LandContour', 'Utilities', 'LotConfig', 'LandSlope', 'Condition1', 'Condition2', 'BldgType', 'HouseStyle', 'RoofStyle', 'RoofMatl', 'MasVnrType', 'ExterQual', 'ExterCond', 'Foundation', 'BsmtQual', 'BsmtCond', 'BsmtExposure', 'BsmtFinType1', 'BsmtFinType2', 'Heating', 'HeatingQC', 'CentralAir', 'Electrical', 'KitchenQual', 'Functional', 'FireplaceQu', 'GarageType', 'GarageFinish', 'GarageQual', 'GarageCond', 'PavedDrive', 'PoolQC', 'Fence', 'MiscFeature', 'SaleType', 'SaleCondition']\n",
      "-------------------------------------------\n",
      "(1460, 76)\n"
     ]
    }
   ],
   "source": [
    "low_cardinality_cols = [cname for cname in home_data.columns if \n",
    "                                home_data[cname].nunique() < 10 and\n",
    "                                home_data[cname].dtype == \"object\"]\n",
    "print(low_cardinality_cols)\n",
    "#for col in low_cardinality_cols:\n",
    "#    print(col)\n",
    "#    print(home_data[col].value_counts())\n",
    "\n",
    "numeric_cols = [cname for cname in home_data.columns if \n",
    "                                home_data[cname].dtype in ['int64', 'float64']]\n",
    "my_cols = low_cardinality_cols + numeric_cols       # my_cols represents the columns you will use in model for predictions\n",
    "train_predictors = home_data[my_cols]\n",
    "print('-------------------------------------------')\n",
    "print(train_predictors.shape)"
   ]
  },
  {
   "cell_type": "code",
   "execution_count": 16,
   "id": "21b6f67f",
   "metadata": {
    "execution": {
     "iopub.execute_input": "2022-05-24T20:44:48.603911Z",
     "iopub.status.busy": "2022-05-24T20:44:48.603074Z",
     "iopub.status.idle": "2022-05-24T20:44:48.611286Z",
     "shell.execute_reply": "2022-05-24T20:44:48.610269Z"
    },
    "papermill": {
     "duration": 0.059407,
     "end_time": "2022-05-24T20:44:48.614019",
     "exception": false,
     "start_time": "2022-05-24T20:44:48.554612",
     "status": "completed"
    },
    "tags": []
   },
   "outputs": [
    {
     "name": "stdout",
     "output_type": "stream",
     "text": [
      "(1459, 79)\n",
      "-------------------------------------------\n",
      "(1459, 76)\n"
     ]
    }
   ],
   "source": [
    "print(test_data.shape)\n",
    "test_predictors = test_data[my_cols]\n",
    "print('-------------------------------------------')\n",
    "print(test_predictors.shape)"
   ]
  },
  {
   "cell_type": "markdown",
   "id": "42f57d40",
   "metadata": {
    "papermill": {
     "duration": 0.047065,
     "end_time": "2022-05-24T20:44:48.708990",
     "exception": false,
     "start_time": "2022-05-24T20:44:48.661925",
     "status": "completed"
    },
    "tags": []
   },
   "source": [
    "# Dropping highly biased Columns"
   ]
  },
  {
   "cell_type": "code",
   "execution_count": 17,
   "id": "b1c5c341",
   "metadata": {
    "execution": {
     "iopub.execute_input": "2022-05-24T20:44:48.810015Z",
     "iopub.status.busy": "2022-05-24T20:44:48.809219Z",
     "iopub.status.idle": "2022-05-24T20:44:48.814869Z",
     "shell.execute_reply": "2022-05-24T20:44:48.813700Z"
    },
    "papermill": {
     "duration": 0.058196,
     "end_time": "2022-05-24T20:44:48.817384",
     "exception": false,
     "start_time": "2022-05-24T20:44:48.759188",
     "status": "completed"
    },
    "tags": []
   },
   "outputs": [
    {
     "name": "stdout",
     "output_type": "stream",
     "text": [
      "(1460, 76)\n"
     ]
    }
   ],
   "source": [
    "print(train_predictors.shape)"
   ]
  },
  {
   "cell_type": "code",
   "execution_count": 18,
   "id": "063b6d45",
   "metadata": {
    "execution": {
     "iopub.execute_input": "2022-05-24T20:44:48.916401Z",
     "iopub.status.busy": "2022-05-24T20:44:48.915835Z",
     "iopub.status.idle": "2022-05-24T20:44:48.926075Z",
     "shell.execute_reply": "2022-05-24T20:44:48.925406Z"
    },
    "papermill": {
     "duration": 0.062086,
     "end_time": "2022-05-24T20:44:48.928633",
     "exception": false,
     "start_time": "2022-05-24T20:44:48.866547",
     "status": "completed"
    },
    "tags": []
   },
   "outputs": [
    {
     "name": "stdout",
     "output_type": "stream",
     "text": [
      "(1460, 76)\n",
      "(1459, 76)\n"
     ]
    }
   ],
   "source": [
    "home_data.drop(['Alley', 'PoolQC', 'Fence', 'MiscFeature'], inplace = True, axis = 1)\n",
    "print(train_predictors.shape)\n",
    "test_data.drop(['Alley', 'PoolQC', 'Fence', 'MiscFeature'], inplace = True, axis = 1)\n",
    "print(test_predictors.shape)\n"
   ]
  },
  {
   "cell_type": "markdown",
   "id": "2a95bd53",
   "metadata": {
    "papermill": {
     "duration": 0.049402,
     "end_time": "2022-05-24T20:44:49.030328",
     "exception": false,
     "start_time": "2022-05-24T20:44:48.980926",
     "status": "completed"
    },
    "tags": []
   },
   "source": [
    "# Encoding Categorical Data"
   ]
  },
  {
   "cell_type": "code",
   "execution_count": 19,
   "id": "df8bf343",
   "metadata": {
    "execution": {
     "iopub.execute_input": "2022-05-24T20:44:49.129731Z",
     "iopub.status.busy": "2022-05-24T20:44:49.129202Z",
     "iopub.status.idle": "2022-05-24T20:44:49.132185Z",
     "shell.execute_reply": "2022-05-24T20:44:49.131585Z"
    },
    "papermill": {
     "duration": 0.054455,
     "end_time": "2022-05-24T20:44:49.133980",
     "exception": false,
     "start_time": "2022-05-24T20:44:49.079525",
     "status": "completed"
    },
    "tags": []
   },
   "outputs": [],
   "source": [
    "#one_hot_encoded_training_predictors = pd.get_dummies(train_predictors)\n",
    "#print(one_hot_encoded_training_predictors)"
   ]
  },
  {
   "cell_type": "code",
   "execution_count": 20,
   "id": "2d760e70",
   "metadata": {
    "execution": {
     "iopub.execute_input": "2022-05-24T20:44:49.232607Z",
     "iopub.status.busy": "2022-05-24T20:44:49.231994Z",
     "iopub.status.idle": "2022-05-24T20:44:49.335912Z",
     "shell.execute_reply": "2022-05-24T20:44:49.335236Z"
    },
    "papermill": {
     "duration": 0.156687,
     "end_time": "2022-05-24T20:44:49.338976",
     "exception": false,
     "start_time": "2022-05-24T20:44:49.182289",
     "status": "completed"
    },
    "tags": []
   },
   "outputs": [
    {
     "name": "stdout",
     "output_type": "stream",
     "text": [
      "(1460, 7573)\n",
      "(1459, 7573)\n"
     ]
    }
   ],
   "source": [
    "from sklearn.preprocessing import OneHotEncoder\n",
    "encoder = OneHotEncoder(categories = \"auto\", handle_unknown = 'ignore')\n",
    "train_encoded = encoder.fit_transform(train_predictors)\n",
    "test_encoded = encoder.transform(test_predictors)\n",
    "print(train_encoded.shape)\n",
    "print(test_encoded.shape)"
   ]
  },
  {
   "cell_type": "code",
   "execution_count": 21,
   "id": "4ce03578",
   "metadata": {
    "execution": {
     "iopub.execute_input": "2022-05-24T20:44:49.446596Z",
     "iopub.status.busy": "2022-05-24T20:44:49.445964Z",
     "iopub.status.idle": "2022-05-24T20:44:49.449172Z",
     "shell.execute_reply": "2022-05-24T20:44:49.448581Z"
    },
    "papermill": {
     "duration": 0.059139,
     "end_time": "2022-05-24T20:44:49.451355",
     "exception": false,
     "start_time": "2022-05-24T20:44:49.392216",
     "status": "completed"
    },
    "tags": []
   },
   "outputs": [],
   "source": [
    "#one_hot_encoded_test_predictors = pd.get_dummies(test_predictors)\n",
    "#print(one_hot_encoded_test_predictors)"
   ]
  },
  {
   "cell_type": "code",
   "execution_count": 22,
   "id": "dd7e746c",
   "metadata": {
    "execution": {
     "iopub.execute_input": "2022-05-24T20:44:49.551490Z",
     "iopub.status.busy": "2022-05-24T20:44:49.550965Z",
     "iopub.status.idle": "2022-05-24T20:44:49.554353Z",
     "shell.execute_reply": "2022-05-24T20:44:49.553699Z"
    },
    "papermill": {
     "duration": 0.055709,
     "end_time": "2022-05-24T20:44:49.556288",
     "exception": false,
     "start_time": "2022-05-24T20:44:49.500579",
     "status": "completed"
    },
    "tags": []
   },
   "outputs": [],
   "source": [
    "#train_cols = list(one_hot_encoded_training_predictors.columns)\n",
    "#test_cols = list(one_hot_encoded_test_predictors.columns)\n",
    "#cols_not_in_test = {c:0 for c in train_cols if c not in test_cols}\n",
    "#one_hot_encoded_test_predictors = one_hot_encoded_test_predictors.assign(**cols_not_in_test)\n",
    "#print(one_hot_encoded_test_predictors)\n"
   ]
  },
  {
   "cell_type": "markdown",
   "id": "c46d0d93",
   "metadata": {
    "papermill": {
     "duration": 0.05085,
     "end_time": "2022-05-24T20:44:49.658404",
     "exception": false,
     "start_time": "2022-05-24T20:44:49.607554",
     "status": "completed"
    },
    "tags": []
   },
   "source": [
    "> Making number of columns in final test set and training dataset equal. But these columns are still not in same order"
   ]
  },
  {
   "cell_type": "markdown",
   "id": "ae362c44",
   "metadata": {
    "papermill": {
     "duration": 0.049707,
     "end_time": "2022-05-24T20:44:49.758047",
     "exception": false,
     "start_time": "2022-05-24T20:44:49.708340",
     "status": "completed"
    },
    "tags": []
   },
   "source": [
    "# Feature Scaling"
   ]
  },
  {
   "cell_type": "markdown",
   "id": "5ea57c25",
   "metadata": {
    "papermill": {
     "duration": 0.050607,
     "end_time": "2022-05-24T20:44:49.860903",
     "exception": false,
     "start_time": "2022-05-24T20:44:49.810296",
     "status": "completed"
    },
    "tags": []
   },
   "source": [
    "> Scaling not required for Random Forest Algorithm"
   ]
  },
  {
   "cell_type": "markdown",
   "id": "bb62b9f5",
   "metadata": {
    "papermill": {
     "duration": 0.048721,
     "end_time": "2022-05-24T20:44:49.960746",
     "exception": false,
     "start_time": "2022-05-24T20:44:49.912025",
     "status": "completed"
    },
    "tags": []
   },
   "source": [
    "# Splitting Datasets"
   ]
  },
  {
   "cell_type": "code",
   "execution_count": 23,
   "id": "cbf058e8",
   "metadata": {
    "execution": {
     "iopub.execute_input": "2022-05-24T20:44:50.063790Z",
     "iopub.status.busy": "2022-05-24T20:44:50.063194Z",
     "iopub.status.idle": "2022-05-24T20:44:50.071867Z",
     "shell.execute_reply": "2022-05-24T20:44:50.070971Z"
    },
    "papermill": {
     "duration": 0.0626,
     "end_time": "2022-05-24T20:44:50.074511",
     "exception": false,
     "start_time": "2022-05-24T20:44:50.011911",
     "status": "completed"
    },
    "tags": []
   },
   "outputs": [],
   "source": [
    "train_X, test_X, train_y, test_y = train_test_split(train_encoded, y, random_state=1)"
   ]
  },
  {
   "cell_type": "markdown",
   "id": "73130e2d",
   "metadata": {
    "papermill": {
     "duration": 0.048968,
     "end_time": "2022-05-24T20:44:50.173693",
     "exception": false,
     "start_time": "2022-05-24T20:44:50.124725",
     "status": "completed"
    },
    "tags": []
   },
   "source": [
    "# Training model"
   ]
  },
  {
   "cell_type": "code",
   "execution_count": 24,
   "id": "1fdd6707",
   "metadata": {
    "execution": {
     "iopub.execute_input": "2022-05-24T20:44:50.276590Z",
     "iopub.status.busy": "2022-05-24T20:44:50.275690Z",
     "iopub.status.idle": "2022-05-24T20:45:08.067458Z",
     "shell.execute_reply": "2022-05-24T20:45:08.065667Z"
    },
    "papermill": {
     "duration": 17.851431,
     "end_time": "2022-05-24T20:45:08.075185",
     "exception": false,
     "start_time": "2022-05-24T20:44:50.223754",
     "status": "completed"
    },
    "tags": []
   },
   "outputs": [
    {
     "name": "stdout",
     "output_type": "stream",
     "text": [
      "Validation MAE for Random Forest Model: 21,206\n"
     ]
    }
   ],
   "source": [
    "reg = RandomForestRegressor(random_state=1)\n",
    "reg.fit(train_X, train_y)\n",
    "reg_predictions = reg.predict(test_X)\n",
    "reg_val_mae = mean_absolute_error(reg_predictions, test_y)\n",
    "\n",
    "print(\"Validation MAE for Random Forest Model: {:,.0f}\".format(reg_val_mae))"
   ]
  },
  {
   "cell_type": "markdown",
   "id": "da3e915e",
   "metadata": {
    "papermill": {
     "duration": 0.067233,
     "end_time": "2022-05-24T20:45:08.226787",
     "exception": false,
     "start_time": "2022-05-24T20:45:08.159554",
     "status": "completed"
    },
    "tags": []
   },
   "source": [
    "# Train a model for the competition\n",
    "\n",
    "The code cell above trains a Random Forest model on **`train_X`** and **`train_y`**.  \n",
    "\n",
    "Use the code cell below to build a Random Forest model and train it on all of **`X`** and **`y`**."
   ]
  },
  {
   "cell_type": "code",
   "execution_count": 25,
   "id": "50818756",
   "metadata": {
    "execution": {
     "iopub.execute_input": "2022-05-24T20:45:08.344395Z",
     "iopub.status.busy": "2022-05-24T20:45:08.344087Z",
     "iopub.status.idle": "2022-05-24T20:45:33.121157Z",
     "shell.execute_reply": "2022-05-24T20:45:33.120227Z"
    },
    "papermill": {
     "duration": 24.834511,
     "end_time": "2022-05-24T20:45:33.123497",
     "exception": false,
     "start_time": "2022-05-24T20:45:08.288986",
     "status": "completed"
    },
    "tags": []
   },
   "outputs": [
    {
     "data": {
      "text/plain": [
       "RandomForestRegressor(random_state=1)"
      ]
     },
     "execution_count": 25,
     "metadata": {},
     "output_type": "execute_result"
    }
   ],
   "source": [
    "# To improve accuracy, create a new Random Forest model which you will train on all training data\n",
    "rf_model_on_full_data = RandomForestRegressor(random_state = 1)\n",
    "\n",
    "# fit rf_model_on_full_data on all data from the training data\n",
    "rf_model_on_full_data.fit(train_encoded,y)"
   ]
  },
  {
   "cell_type": "markdown",
   "id": "80d41c4e",
   "metadata": {
    "papermill": {
     "duration": 0.051713,
     "end_time": "2022-05-24T20:45:33.226282",
     "exception": false,
     "start_time": "2022-05-24T20:45:33.174569",
     "status": "completed"
    },
    "tags": []
   },
   "source": [
    "Now, read the file of \"test\" data, and apply your model to make predictions."
   ]
  },
  {
   "cell_type": "code",
   "execution_count": 26,
   "id": "5b69a763",
   "metadata": {
    "execution": {
     "iopub.execute_input": "2022-05-24T20:45:33.328156Z",
     "iopub.status.busy": "2022-05-24T20:45:33.327895Z",
     "iopub.status.idle": "2022-05-24T20:45:33.384071Z",
     "shell.execute_reply": "2022-05-24T20:45:33.383133Z"
    },
    "papermill": {
     "duration": 0.109086,
     "end_time": "2022-05-24T20:45:33.386168",
     "exception": false,
     "start_time": "2022-05-24T20:45:33.277082",
     "status": "completed"
    },
    "tags": []
   },
   "outputs": [],
   "source": [
    "# path to file you will use for predictions\n",
    "#test_data_path = '../input/test.csv'\n",
    "\n",
    "# read test data file using pandas\n",
    "#test_data = pd.read_csv(test_data_path)\n",
    "\n",
    "# create test_X which comes from test_data but includes only the columns you used for prediction.\n",
    "# The list of columns is stored in a variable called features\n",
    "#test_X = test_data[features]\n",
    "\n",
    "# make predictions which we will submit. \n",
    "test_preds = rf_model_on_full_data.predict(test_encoded)"
   ]
  },
  {
   "cell_type": "markdown",
   "id": "edf4d7f8",
   "metadata": {
    "papermill": {
     "duration": 0.048935,
     "end_time": "2022-05-24T20:45:33.484985",
     "exception": false,
     "start_time": "2022-05-24T20:45:33.436050",
     "status": "completed"
    },
    "tags": []
   },
   "source": [
    "Before submitting, run a check to make sure your `test_preds` have the right format."
   ]
  },
  {
   "cell_type": "code",
   "execution_count": 27,
   "id": "153670bc",
   "metadata": {
    "execution": {
     "iopub.execute_input": "2022-05-24T20:45:33.586220Z",
     "iopub.status.busy": "2022-05-24T20:45:33.585717Z",
     "iopub.status.idle": "2022-05-24T20:45:33.592768Z",
     "shell.execute_reply": "2022-05-24T20:45:33.591824Z"
    },
    "papermill": {
     "duration": 0.060515,
     "end_time": "2022-05-24T20:45:33.594708",
     "exception": false,
     "start_time": "2022-05-24T20:45:33.534193",
     "status": "completed"
    },
    "tags": []
   },
   "outputs": [
    {
     "data": {
      "application/javascript": [
       "parent.postMessage({\"jupyterEvent\": \"custom.exercise_interaction\", \"data\": {\"outcomeType\": 1, \"valueTowardsCompletion\": 1.0, \"interactionType\": 1, \"questionType\": 2, \"questionId\": \"1_CheckSubmittablePreds\", \"learnToolsVersion\": \"0.3.4\", \"failureMessage\": \"\", \"exceptionClass\": \"\", \"trace\": \"\"}}, \"*\")"
      ],
      "text/plain": [
       "<IPython.core.display.Javascript object>"
      ]
     },
     "metadata": {},
     "output_type": "display_data"
    },
    {
     "data": {
      "text/markdown": [
       "<span style=\"color:#33cc33\">Correct</span>"
      ],
      "text/plain": [
       "Correct"
      ]
     },
     "metadata": {},
     "output_type": "display_data"
    }
   ],
   "source": [
    "# Check your answer (To get credit for completing the exercise, you must get a \"Correct\" result!)\n",
    "step_1.check()\n",
    "# step_1.solution()"
   ]
  },
  {
   "cell_type": "markdown",
   "id": "a55e1d88",
   "metadata": {
    "papermill": {
     "duration": 0.050003,
     "end_time": "2022-05-24T20:45:33.695029",
     "exception": false,
     "start_time": "2022-05-24T20:45:33.645026",
     "status": "completed"
    },
    "tags": []
   },
   "source": [
    "# Generate a submission\n",
    "\n",
    "Run the code cell below to generate a CSV file with your predictions that you can use to submit to the competition."
   ]
  },
  {
   "cell_type": "code",
   "execution_count": 28,
   "id": "9fd0016f",
   "metadata": {
    "execution": {
     "iopub.execute_input": "2022-05-24T20:45:33.797553Z",
     "iopub.status.busy": "2022-05-24T20:45:33.797045Z",
     "iopub.status.idle": "2022-05-24T20:45:33.808777Z",
     "shell.execute_reply": "2022-05-24T20:45:33.807877Z"
    },
    "papermill": {
     "duration": 0.065976,
     "end_time": "2022-05-24T20:45:33.811300",
     "exception": false,
     "start_time": "2022-05-24T20:45:33.745324",
     "status": "completed"
    },
    "tags": []
   },
   "outputs": [],
   "source": [
    "# Run the code to save predictions in the format used for competition scoring\n",
    "\n",
    "output = pd.DataFrame({'Id': test_data_Id,\n",
    "                       'SalePrice': test_preds})\n",
    "output.to_csv('submission.csv', index=False)"
   ]
  },
  {
   "cell_type": "markdown",
   "id": "dfb109fe",
   "metadata": {
    "papermill": {
     "duration": 0.051665,
     "end_time": "2022-05-24T20:45:33.915062",
     "exception": false,
     "start_time": "2022-05-24T20:45:33.863397",
     "status": "completed"
    },
    "tags": []
   },
   "source": [
    "# Submit to the competition\n",
    "\n",
    "To test your results, you'll need to join the competition (if you haven't already).  So open a new window by clicking on **[this link](https://www.kaggle.com/c/home-data-for-ml-course)**.  Then click on the **Join Competition** button.\n",
    "\n",
    "![join competition image](https://i.imgur.com/axBzctl.png)\n",
    "\n",
    "Next, follow the instructions below:\n",
    "1. Begin by clicking on the **Save Version** button in the top right corner of the window.  This will generate a pop-up window.  \n",
    "2. Ensure that the **Save and Run All** option is selected, and then click on the **Save** button.\n",
    "3. This generates a window in the bottom left corner of the notebook.  After it has finished running, click on the number to the right of the **Save Version** button.  This pulls up a list of versions on the right of the screen.  Click on the ellipsis **(...)** to the right of the most recent version, and select **Open in Viewer**.  This brings you into view mode of the same page. You will need to scroll down to get back to these instructions.\n",
    "4. Click on the **Output** tab on the right of the screen.  Then, click on the file you would like to submit, and click on the **Submit** button to submit your results to the leaderboard.\n",
    "\n",
    "You have now successfully submitted to the competition!\n",
    "\n",
    "If you want to keep working to improve your performance, select the **Edit** button in the top right of the screen. Then you can change your code and repeat the process. There's a lot of room to improve, and you will climb up the leaderboard as you work.\n",
    "\n",
    "\n",
    "# Continue Your Progress\n",
    "There are many ways to improve your model, and **experimenting is a great way to learn at this point.**\n",
    "\n",
    "The best way to improve your model is to add features.  To add more features to the data, revisit the first code cell, and change this line of code to include more column names:\n",
    "```python\n",
    "features = ['LotArea', 'YearBuilt', '1stFlrSF', '2ndFlrSF', 'FullBath', 'BedroomAbvGr', 'TotRmsAbvGrd']\n",
    "```\n",
    "\n",
    "Some features will cause errors because of issues like missing values or non-numeric data types.  Here is a complete list of potential columns that you might like to use, and that won't throw errors:\n",
    "- 'MSSubClass'\n",
    "- 'LotArea'\n",
    "- 'OverallQual' \n",
    "- 'OverallCond' \n",
    "- 'YearBuilt'\n",
    "- 'YearRemodAdd' \n",
    "- '1stFlrSF'\n",
    "- '2ndFlrSF' \n",
    "- 'LowQualFinSF' \n",
    "- 'GrLivArea'\n",
    "- 'FullBath'\n",
    "- 'HalfBath'\n",
    "- 'BedroomAbvGr' \n",
    "- 'KitchenAbvGr' \n",
    "- 'TotRmsAbvGrd' \n",
    "- 'Fireplaces' \n",
    "- 'WoodDeckSF' \n",
    "- 'OpenPorchSF'\n",
    "- 'EnclosedPorch' \n",
    "- '3SsnPorch' \n",
    "- 'ScreenPorch' \n",
    "- 'PoolArea' \n",
    "- 'MiscVal' \n",
    "- 'MoSold' \n",
    "- 'YrSold'\n",
    "\n",
    "Look at the list of columns and think about what might affect home prices.  To learn more about each of these features, take a look at the data description on the **[competition page](https://www.kaggle.com/c/home-data-for-ml-course/data)**.\n",
    "\n",
    "After updating the code cell above that defines the features, re-run all of the code cells to evaluate the model and generate a new submission file.  \n",
    "\n",
    "\n",
    "# What's next?\n",
    "\n",
    "As mentioned above, some of the features will throw an error if you try to use them to train your model.  The **[Intermediate Machine Learning](https://www.kaggle.com/learn/intermediate-machine-learning)** course will teach you how to handle these types of features. You will also learn to use **xgboost**, a technique giving even better accuracy than Random Forest.\n",
    "\n",
    "The **[Pandas](https://kaggle.com/Learn/Pandas)** course will give you the data manipulation skills to quickly go from conceptual idea to implementation in your data science projects. \n",
    "\n",
    "You are also ready for the **[Deep Learning](https://kaggle.com/Learn/intro-to-Deep-Learning)** course, where you will build models with better-than-human level performance at computer vision tasks."
   ]
  },
  {
   "cell_type": "markdown",
   "id": "28caddd5",
   "metadata": {
    "papermill": {
     "duration": 0.050258,
     "end_time": "2022-05-24T20:45:34.016070",
     "exception": false,
     "start_time": "2022-05-24T20:45:33.965812",
     "status": "completed"
    },
    "tags": []
   },
   "source": [
    "---\n",
    "\n",
    "\n",
    "\n",
    "\n",
    "*Have questions or comments? Visit the [course discussion forum](https://www.kaggle.com/learn/intro-to-machine-learning/discussion) to chat with other learners.*"
   ]
  }
 ],
 "metadata": {
  "kernelspec": {
   "display_name": "Python 3",
   "language": "python",
   "name": "python3"
  },
  "language_info": {
   "codemirror_mode": {
    "name": "ipython",
    "version": 3
   },
   "file_extension": ".py",
   "mimetype": "text/x-python",
   "name": "python",
   "nbconvert_exporter": "python",
   "pygments_lexer": "ipython3",
   "version": "3.7.12"
  },
  "papermill": {
   "default_parameters": {},
   "duration": 61.150315,
   "end_time": "2022-05-24T20:45:34.787211",
   "environment_variables": {},
   "exception": null,
   "input_path": "__notebook__.ipynb",
   "output_path": "__notebook__.ipynb",
   "parameters": {},
   "start_time": "2022-05-24T20:44:33.636896",
   "version": "2.3.4"
  }
 },
 "nbformat": 4,
 "nbformat_minor": 5
}
