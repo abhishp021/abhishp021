{
 "cells": [
  {
   "cell_type": "markdown",
   "id": "521b9e88",
   "metadata": {
    "papermill": {
     "duration": 0.012767,
     "end_time": "2022-05-25T15:28:57.908395",
     "exception": false,
     "start_time": "2022-05-25T15:28:57.895628",
     "status": "completed"
    },
    "tags": []
   },
   "source": [
    "**This notebook is an exercise in the [Introduction to Machine Learning](https://www.kaggle.com/learn/intro-to-machine-learning) course.  You can reference the tutorial at [this link](https://www.kaggle.com/alexisbcook/machine-learning-competitions).**\n",
    "\n",
    "---\n"
   ]
  },
  {
   "cell_type": "markdown",
   "id": "c059ae01",
   "metadata": {
    "papermill": {
     "duration": 0.010866,
     "end_time": "2022-05-25T15:28:57.930679",
     "exception": false,
     "start_time": "2022-05-25T15:28:57.919813",
     "status": "completed"
    },
    "tags": []
   },
   "source": [
    "# Introduction\n",
    "\n",
    "In this exercise, you will create and submit predictions for a Kaggle competition. You can then improve your model (e.g. by adding features) to apply what you've learned and move up the leaderboard.\n",
    "\n",
    "Begin by running the code cell below to set up code checking and the filepaths for the dataset."
   ]
  },
  {
   "cell_type": "code",
   "execution_count": 1,
   "id": "8cfbbda0",
   "metadata": {
    "execution": {
     "iopub.execute_input": "2022-05-25T15:28:57.956846Z",
     "iopub.status.busy": "2022-05-25T15:28:57.956236Z",
     "iopub.status.idle": "2022-05-25T15:28:57.998935Z",
     "shell.execute_reply": "2022-05-25T15:28:57.998001Z"
    },
    "papermill": {
     "duration": 0.057439,
     "end_time": "2022-05-25T15:28:58.001226",
     "exception": false,
     "start_time": "2022-05-25T15:28:57.943787",
     "status": "completed"
    },
    "tags": []
   },
   "outputs": [],
   "source": [
    "# Set up code checking\n",
    "from learntools.core import binder\n",
    "binder.bind(globals())\n",
    "from learntools.machine_learning.ex7 import *\n",
    "\n",
    "# Set up filepaths\n",
    "import os\n",
    "if not os.path.exists(\"../input/train.csv\"):\n",
    "    os.symlink(\"../input/home-data-for-ml-course/train.csv\", \"../input/train.csv\")  \n",
    "    os.symlink(\"../input/home-data-for-ml-course/test.csv\", \"../input/test.csv\") "
   ]
  },
  {
   "cell_type": "markdown",
   "id": "a21c4354",
   "metadata": {
    "papermill": {
     "duration": 0.010652,
     "end_time": "2022-05-25T15:28:58.023204",
     "exception": false,
     "start_time": "2022-05-25T15:28:58.012552",
     "status": "completed"
    },
    "tags": []
   },
   "source": [
    "Here's some of the code you've written so far. Start by running it again."
   ]
  },
  {
   "cell_type": "code",
   "execution_count": 2,
   "id": "3c388137",
   "metadata": {
    "execution": {
     "iopub.execute_input": "2022-05-25T15:28:58.046920Z",
     "iopub.status.busy": "2022-05-25T15:28:58.046548Z",
     "iopub.status.idle": "2022-05-25T15:28:59.379735Z",
     "shell.execute_reply": "2022-05-25T15:28:59.379010Z"
    },
    "papermill": {
     "duration": 1.347357,
     "end_time": "2022-05-25T15:28:59.381935",
     "exception": false,
     "start_time": "2022-05-25T15:28:58.034578",
     "status": "completed"
    },
    "tags": []
   },
   "outputs": [],
   "source": [
    "# Import helpful libraries\n",
    "import pandas as pd\n",
    "import numpy as np\n",
    "from sklearn.ensemble import RandomForestRegressor\n",
    "from sklearn.metrics import mean_absolute_error\n",
    "from sklearn.model_selection import train_test_split\n",
    "\n",
    "# Load the data, and separate the target\n",
    "iowa_file_path = '../input/train.csv'\n",
    "home_data = pd.read_csv(iowa_file_path)\n",
    "\n",
    "# Test Data Loading\n",
    "test_data_path = '../input/test.csv'\n",
    "\n",
    "# read test data file using pandas\n",
    "test_data = pd.read_csv(test_data_path)\n",
    "\n",
    "y = home_data.SalePrice\n",
    "\n",
    "# Create X (After completing the exercise, you can return to modify this line!)\n",
    "#features = ['LotArea', 'YearBuilt', '1stFlrSF', '2ndFlrSF', 'FullBath', 'BedroomAbvGr', 'TotRmsAbvGrd']\n",
    "\n",
    "# Select columns corresponding to features, and preview the data\n",
    "#X = home_data[features]\n",
    "#X.head()\n",
    "\n",
    "# Split into validation and training data\n",
    "#train_X, val_X, train_y, val_y = train_test_split(X, y, random_state=1)\n",
    "\n",
    "# Define a random forest model\n",
    "#rf_model = RandomForestRegressor(random_state=1)\n",
    "#rf_model.fit(train_X, train_y)\n",
    "#rf_val_predictions = rf_model.predict(val_X)\n",
    "#rf_val_mae = mean_absolute_error(rf_val_predictions, val_y)\n",
    "\n",
    "#print(\"Validation MAE for Random Forest Model: {:,.0f}\".format(rf_val_mae))"
   ]
  },
  {
   "cell_type": "markdown",
   "id": "849e0601",
   "metadata": {
    "papermill": {
     "duration": 0.01076,
     "end_time": "2022-05-25T15:28:59.404109",
     "exception": false,
     "start_time": "2022-05-25T15:28:59.393349",
     "status": "completed"
    },
    "tags": []
   },
   "source": [
    "# Exploration"
   ]
  },
  {
   "cell_type": "code",
   "execution_count": 3,
   "id": "7729a1d0",
   "metadata": {
    "execution": {
     "iopub.execute_input": "2022-05-25T15:28:59.427907Z",
     "iopub.status.busy": "2022-05-25T15:28:59.427198Z",
     "iopub.status.idle": "2022-05-25T15:28:59.446060Z",
     "shell.execute_reply": "2022-05-25T15:28:59.445347Z"
    },
    "papermill": {
     "duration": 0.033448,
     "end_time": "2022-05-25T15:28:59.448428",
     "exception": false,
     "start_time": "2022-05-25T15:28:59.414980",
     "status": "completed"
    },
    "tags": []
   },
   "outputs": [
    {
     "name": "stdout",
     "output_type": "stream",
     "text": [
      "   Id  MSSubClass MSZoning  LotFrontage  LotArea Street Alley LotShape  \\\n",
      "0   1          60       RL         65.0     8450   Pave   NaN      Reg   \n",
      "1   2          20       RL         80.0     9600   Pave   NaN      Reg   \n",
      "2   3          60       RL         68.0    11250   Pave   NaN      IR1   \n",
      "3   4          70       RL         60.0     9550   Pave   NaN      IR1   \n",
      "4   5          60       RL         84.0    14260   Pave   NaN      IR1   \n",
      "\n",
      "  LandContour Utilities  ... PoolArea PoolQC Fence MiscFeature MiscVal MoSold  \\\n",
      "0         Lvl    AllPub  ...        0    NaN   NaN         NaN       0      2   \n",
      "1         Lvl    AllPub  ...        0    NaN   NaN         NaN       0      5   \n",
      "2         Lvl    AllPub  ...        0    NaN   NaN         NaN       0      9   \n",
      "3         Lvl    AllPub  ...        0    NaN   NaN         NaN       0      2   \n",
      "4         Lvl    AllPub  ...        0    NaN   NaN         NaN       0     12   \n",
      "\n",
      "  YrSold  SaleType  SaleCondition  SalePrice  \n",
      "0   2008        WD         Normal     208500  \n",
      "1   2007        WD         Normal     181500  \n",
      "2   2008        WD         Normal     223500  \n",
      "3   2006        WD        Abnorml     140000  \n",
      "4   2008        WD         Normal     250000  \n",
      "\n",
      "[5 rows x 81 columns]\n",
      "(1460, 81)\n"
     ]
    }
   ],
   "source": [
    "print(home_data.head())\n",
    "print(home_data.shape)"
   ]
  },
  {
   "cell_type": "markdown",
   "id": "4a74db6c",
   "metadata": {
    "papermill": {
     "duration": 0.010962,
     "end_time": "2022-05-25T15:28:59.470752",
     "exception": false,
     "start_time": "2022-05-25T15:28:59.459790",
     "status": "completed"
    },
    "tags": []
   },
   "source": [
    "> This dataset has 81 columns "
   ]
  },
  {
   "cell_type": "code",
   "execution_count": 4,
   "id": "116899e8",
   "metadata": {
    "execution": {
     "iopub.execute_input": "2022-05-25T15:28:59.495131Z",
     "iopub.status.busy": "2022-05-25T15:28:59.494519Z",
     "iopub.status.idle": "2022-05-25T15:28:59.532567Z",
     "shell.execute_reply": "2022-05-25T15:28:59.531820Z"
    },
    "papermill": {
     "duration": 0.052691,
     "end_time": "2022-05-25T15:28:59.534741",
     "exception": false,
     "start_time": "2022-05-25T15:28:59.482050",
     "status": "completed"
    },
    "tags": []
   },
   "outputs": [
    {
     "data": {
      "text/html": [
       "<div>\n",
       "<style scoped>\n",
       "    .dataframe tbody tr th:only-of-type {\n",
       "        vertical-align: middle;\n",
       "    }\n",
       "\n",
       "    .dataframe tbody tr th {\n",
       "        vertical-align: top;\n",
       "    }\n",
       "\n",
       "    .dataframe thead th {\n",
       "        text-align: right;\n",
       "    }\n",
       "</style>\n",
       "<table border=\"1\" class=\"dataframe\">\n",
       "  <thead>\n",
       "    <tr style=\"text-align: right;\">\n",
       "      <th></th>\n",
       "      <th>Id</th>\n",
       "      <th>MSSubClass</th>\n",
       "      <th>MSZoning</th>\n",
       "      <th>LotFrontage</th>\n",
       "      <th>LotArea</th>\n",
       "      <th>Street</th>\n",
       "      <th>Alley</th>\n",
       "      <th>LotShape</th>\n",
       "      <th>LandContour</th>\n",
       "      <th>Utilities</th>\n",
       "      <th>...</th>\n",
       "      <th>PoolArea</th>\n",
       "      <th>PoolQC</th>\n",
       "      <th>Fence</th>\n",
       "      <th>MiscFeature</th>\n",
       "      <th>MiscVal</th>\n",
       "      <th>MoSold</th>\n",
       "      <th>YrSold</th>\n",
       "      <th>SaleType</th>\n",
       "      <th>SaleCondition</th>\n",
       "      <th>SalePrice</th>\n",
       "    </tr>\n",
       "  </thead>\n",
       "  <tbody>\n",
       "  </tbody>\n",
       "</table>\n",
       "<p>0 rows × 81 columns</p>\n",
       "</div>"
      ],
      "text/plain": [
       "Empty DataFrame\n",
       "Columns: [Id, MSSubClass, MSZoning, LotFrontage, LotArea, Street, Alley, LotShape, LandContour, Utilities, LotConfig, LandSlope, Neighborhood, Condition1, Condition2, BldgType, HouseStyle, OverallQual, OverallCond, YearBuilt, YearRemodAdd, RoofStyle, RoofMatl, Exterior1st, Exterior2nd, MasVnrType, MasVnrArea, ExterQual, ExterCond, Foundation, BsmtQual, BsmtCond, BsmtExposure, BsmtFinType1, BsmtFinSF1, BsmtFinType2, BsmtFinSF2, BsmtUnfSF, TotalBsmtSF, Heating, HeatingQC, CentralAir, Electrical, 1stFlrSF, 2ndFlrSF, LowQualFinSF, GrLivArea, BsmtFullBath, BsmtHalfBath, FullBath, HalfBath, BedroomAbvGr, KitchenAbvGr, KitchenQual, TotRmsAbvGrd, Functional, Fireplaces, FireplaceQu, GarageType, GarageYrBlt, GarageFinish, GarageCars, GarageArea, GarageQual, GarageCond, PavedDrive, WoodDeckSF, OpenPorchSF, EnclosedPorch, 3SsnPorch, ScreenPorch, PoolArea, PoolQC, Fence, MiscFeature, MiscVal, MoSold, YrSold, SaleType, SaleCondition, SalePrice]\n",
       "Index: []\n",
       "\n",
       "[0 rows x 81 columns]"
      ]
     },
     "execution_count": 4,
     "metadata": {},
     "output_type": "execute_result"
    }
   ],
   "source": [
    "home_data[home_data.duplicated()]"
   ]
  },
  {
   "cell_type": "markdown",
   "id": "38681c9e",
   "metadata": {
    "papermill": {
     "duration": 0.010991,
     "end_time": "2022-05-25T15:28:59.557152",
     "exception": false,
     "start_time": "2022-05-25T15:28:59.546161",
     "status": "completed"
    },
    "tags": []
   },
   "source": [
    "> No Duplicate rows.\n",
    "\n",
    "> Id has no effect on price of homes"
   ]
  },
  {
   "cell_type": "code",
   "execution_count": 5,
   "id": "dce871aa",
   "metadata": {
    "execution": {
     "iopub.execute_input": "2022-05-25T15:28:59.581621Z",
     "iopub.status.busy": "2022-05-25T15:28:59.580885Z",
     "iopub.status.idle": "2022-05-25T15:28:59.585045Z",
     "shell.execute_reply": "2022-05-25T15:28:59.584389Z"
    },
    "papermill": {
     "duration": 0.018125,
     "end_time": "2022-05-25T15:28:59.586707",
     "exception": false,
     "start_time": "2022-05-25T15:28:59.568582",
     "status": "completed"
    },
    "tags": []
   },
   "outputs": [],
   "source": [
    "test_data_Id = test_data.Id     # for submission format"
   ]
  },
  {
   "cell_type": "markdown",
   "id": "1f4d5ec4",
   "metadata": {
    "papermill": {
     "duration": 0.010806,
     "end_time": "2022-05-25T15:28:59.608761",
     "exception": false,
     "start_time": "2022-05-25T15:28:59.597955",
     "status": "completed"
    },
    "tags": []
   },
   "source": [
    "> to be used while submitting"
   ]
  },
  {
   "cell_type": "code",
   "execution_count": 6,
   "id": "f39e13e0",
   "metadata": {
    "execution": {
     "iopub.execute_input": "2022-05-25T15:28:59.632753Z",
     "iopub.status.busy": "2022-05-25T15:28:59.632168Z",
     "iopub.status.idle": "2022-05-25T15:28:59.639718Z",
     "shell.execute_reply": "2022-05-25T15:28:59.639123Z"
    },
    "papermill": {
     "duration": 0.021252,
     "end_time": "2022-05-25T15:28:59.641230",
     "exception": false,
     "start_time": "2022-05-25T15:28:59.619978",
     "status": "completed"
    },
    "tags": []
   },
   "outputs": [],
   "source": [
    "home_data.drop(['Id','SalePrice'], inplace=True, axis=1)\n",
    "home_data.head()\n",
    "test_data.drop('Id', inplace=True, axis=1)"
   ]
  },
  {
   "cell_type": "code",
   "execution_count": 7,
   "id": "bfce8ab3",
   "metadata": {
    "execution": {
     "iopub.execute_input": "2022-05-25T15:28:59.665055Z",
     "iopub.status.busy": "2022-05-25T15:28:59.664674Z",
     "iopub.status.idle": "2022-05-25T15:28:59.668584Z",
     "shell.execute_reply": "2022-05-25T15:28:59.667984Z"
    },
    "papermill": {
     "duration": 0.018888,
     "end_time": "2022-05-25T15:28:59.671200",
     "exception": false,
     "start_time": "2022-05-25T15:28:59.652312",
     "status": "completed"
    },
    "tags": []
   },
   "outputs": [
    {
     "name": "stdout",
     "output_type": "stream",
     "text": [
      "(1460, 79)\n",
      "(1459, 79)\n"
     ]
    }
   ],
   "source": [
    "print(home_data.shape)\n",
    "print(test_data.shape)"
   ]
  },
  {
   "cell_type": "markdown",
   "id": "0dcde4a2",
   "metadata": {
    "papermill": {
     "duration": 0.01096,
     "end_time": "2022-05-25T15:28:59.694956",
     "exception": false,
     "start_time": "2022-05-25T15:28:59.683996",
     "status": "completed"
    },
    "tags": []
   },
   "source": [
    "# Checking dtypes"
   ]
  },
  {
   "cell_type": "code",
   "execution_count": 8,
   "id": "80a161b2",
   "metadata": {
    "execution": {
     "iopub.execute_input": "2022-05-25T15:28:59.719146Z",
     "iopub.status.busy": "2022-05-25T15:28:59.718541Z",
     "iopub.status.idle": "2022-05-25T15:28:59.727312Z",
     "shell.execute_reply": "2022-05-25T15:28:59.726472Z"
    },
    "papermill": {
     "duration": 0.023641,
     "end_time": "2022-05-25T15:28:59.729819",
     "exception": false,
     "start_time": "2022-05-25T15:28:59.706178",
     "status": "completed"
    },
    "tags": []
   },
   "outputs": [
    {
     "name": "stdout",
     "output_type": "stream",
     "text": [
      "Home Data\n",
      "object     43\n",
      "int64      33\n",
      "float64     3\n",
      "dtype: int64\n",
      "--------------------------------------\n",
      "Test Data\n",
      "object     43\n",
      "int64      25\n",
      "float64    11\n",
      "dtype: int64\n"
     ]
    }
   ],
   "source": [
    "print(\"Home Data\")\n",
    "print(home_data.dtypes.value_counts())\n",
    "print(\"--------------------------------------\")\n",
    "print('Test Data')\n",
    "print(test_data.dtypes.value_counts())"
   ]
  },
  {
   "cell_type": "markdown",
   "id": "bce06237",
   "metadata": {
    "papermill": {
     "duration": 0.010973,
     "end_time": "2022-05-25T15:28:59.753895",
     "exception": false,
     "start_time": "2022-05-25T15:28:59.742922",
     "status": "completed"
    },
    "tags": []
   },
   "source": [
    "> Now we need to see which object type variables can we convert to other datatypes"
   ]
  },
  {
   "cell_type": "code",
   "execution_count": 9,
   "id": "871f8227",
   "metadata": {
    "execution": {
     "iopub.execute_input": "2022-05-25T15:28:59.778189Z",
     "iopub.status.busy": "2022-05-25T15:28:59.777567Z",
     "iopub.status.idle": "2022-05-25T15:28:59.789156Z",
     "shell.execute_reply": "2022-05-25T15:28:59.788412Z"
    },
    "papermill": {
     "duration": 0.026812,
     "end_time": "2022-05-25T15:28:59.791769",
     "exception": false,
     "start_time": "2022-05-25T15:28:59.764957",
     "status": "completed"
    },
    "tags": []
   },
   "outputs": [
    {
     "name": "stdout",
     "output_type": "stream",
     "text": [
      "['MSZoning', 'Street', 'Alley', 'LotShape', 'LandContour', 'Utilities', 'LotConfig', 'LandSlope', 'Neighborhood', 'Condition1', 'Condition2', 'BldgType', 'HouseStyle', 'RoofStyle', 'RoofMatl', 'Exterior1st', 'Exterior2nd', 'MasVnrType', 'ExterQual', 'ExterCond', 'Foundation', 'BsmtQual', 'BsmtCond', 'BsmtExposure', 'BsmtFinType1', 'BsmtFinType2', 'Heating', 'HeatingQC', 'CentralAir', 'Electrical', 'KitchenQual', 'Functional', 'FireplaceQu', 'GarageType', 'GarageFinish', 'GarageQual', 'GarageCond', 'PavedDrive', 'PoolQC', 'Fence', 'MiscFeature', 'SaleType', 'SaleCondition']\n",
      "-------------------------------------------------------------------------------------------\n",
      "['MSZoning', 'Street', 'Alley', 'LotShape', 'LandContour', 'Utilities', 'LotConfig', 'LandSlope', 'Neighborhood', 'Condition1', 'Condition2', 'BldgType', 'HouseStyle', 'RoofStyle', 'RoofMatl', 'Exterior1st', 'Exterior2nd', 'MasVnrType', 'ExterQual', 'ExterCond', 'Foundation', 'BsmtQual', 'BsmtCond', 'BsmtExposure', 'BsmtFinType1', 'BsmtFinType2', 'Heating', 'HeatingQC', 'CentralAir', 'Electrical', 'KitchenQual', 'Functional', 'FireplaceQu', 'GarageType', 'GarageFinish', 'GarageQual', 'GarageCond', 'PavedDrive', 'PoolQC', 'Fence', 'MiscFeature', 'SaleType', 'SaleCondition']\n"
     ]
    }
   ],
   "source": [
    "cols_with_obj_dtype_HD = [col for col in home_data.columns \n",
    "                                 if home_data[col].dtype =='object']  \n",
    "print(cols_with_obj_dtype_HD)\n",
    "print('-------------------------------------------------------------------------------------------')\n",
    "cols_with_obj_dtype_TD = [col for col in test_data.columns \n",
    "                                 if test_data[col].dtype =='object']  \n",
    "print(cols_with_obj_dtype_TD)"
   ]
  },
  {
   "cell_type": "code",
   "execution_count": 10,
   "id": "aecd3674",
   "metadata": {
    "execution": {
     "iopub.execute_input": "2022-05-25T15:28:59.817998Z",
     "iopub.status.busy": "2022-05-25T15:28:59.817486Z",
     "iopub.status.idle": "2022-05-25T15:28:59.822177Z",
     "shell.execute_reply": "2022-05-25T15:28:59.821044Z"
    },
    "papermill": {
     "duration": 0.020211,
     "end_time": "2022-05-25T15:28:59.824715",
     "exception": false,
     "start_time": "2022-05-25T15:28:59.804504",
     "status": "completed"
    },
    "tags": []
   },
   "outputs": [
    {
     "name": "stdout",
     "output_type": "stream",
     "text": [
      "True\n"
     ]
    }
   ],
   "source": [
    "print(np.array_equal(cols_with_obj_dtype_HD,cols_with_obj_dtype_TD))"
   ]
  },
  {
   "cell_type": "markdown",
   "id": "053532ba",
   "metadata": {
    "papermill": {
     "duration": 0.011433,
     "end_time": "2022-05-25T15:28:59.849017",
     "exception": false,
     "start_time": "2022-05-25T15:28:59.837584",
     "status": "completed"
    },
    "tags": []
   },
   "source": [
    "> So both arrays have same columns as 'object datatype'"
   ]
  },
  {
   "cell_type": "markdown",
   "id": "f72f4b1d",
   "metadata": {
    "papermill": {
     "duration": 0.01143,
     "end_time": "2022-05-25T15:28:59.872282",
     "exception": false,
     "start_time": "2022-05-25T15:28:59.860852",
     "status": "completed"
    },
    "tags": []
   },
   "source": [
    "Now Exploring these object dtypes"
   ]
  },
  {
   "cell_type": "code",
   "execution_count": 11,
   "id": "0e1de293",
   "metadata": {
    "execution": {
     "iopub.execute_input": "2022-05-25T15:28:59.897481Z",
     "iopub.status.busy": "2022-05-25T15:28:59.896881Z",
     "iopub.status.idle": "2022-05-25T15:28:59.914349Z",
     "shell.execute_reply": "2022-05-25T15:28:59.912978Z"
    },
    "papermill": {
     "duration": 0.032108,
     "end_time": "2022-05-25T15:28:59.916012",
     "exception": false,
     "start_time": "2022-05-25T15:28:59.883904",
     "status": "completed"
    },
    "tags": []
   },
   "outputs": [
    {
     "name": "stdout",
     "output_type": "stream",
     "text": [
      "MSZoning             5        5\n",
      "Street               2        2\n",
      "Alley                2        2\n",
      "LotShape             4        4\n",
      "LandContour          4        4\n",
      "Utilities            2        1\n",
      "LotConfig            5        5\n",
      "LandSlope            3        3\n",
      "Neighborhood         25       25\n",
      "Condition1           9        9\n",
      "Condition2           8        5\n",
      "BldgType             5        5\n",
      "HouseStyle           8        7\n",
      "RoofStyle            6        6\n",
      "RoofMatl             8        4\n",
      "Exterior1st          15       13\n",
      "Exterior2nd          16       15\n",
      "MasVnrType           4        4\n",
      "ExterQual            4        4\n",
      "ExterCond            5        5\n",
      "Foundation           6        6\n",
      "BsmtQual             4        4\n",
      "BsmtCond             4        4\n",
      "BsmtExposure         4        4\n",
      "BsmtFinType1         6        6\n",
      "BsmtFinType2         6        6\n",
      "Heating              6        4\n",
      "HeatingQC            5        5\n",
      "CentralAir           2        2\n",
      "Electrical           5        4\n",
      "KitchenQual          4        4\n",
      "Functional           7        7\n",
      "FireplaceQu          5        5\n",
      "GarageType           6        6\n",
      "GarageFinish         3        3\n",
      "GarageQual           5        4\n",
      "GarageCond           5        5\n",
      "PavedDrive           3        3\n",
      "PoolQC               3        2\n",
      "Fence                4        4\n",
      "MiscFeature          4        3\n",
      "SaleType             9        9\n",
      "SaleCondition        6        6\n"
     ]
    }
   ],
   "source": [
    "for col_name in cols_with_obj_dtype_HD:\n",
    "    print('{:20s} {} {:8}'.format(col_name, home_data[col_name].nunique(), test_data[col_name].nunique()))\n"
   ]
  },
  {
   "cell_type": "markdown",
   "id": "74472034",
   "metadata": {
    "papermill": {
     "duration": 0.011586,
     "end_time": "2022-05-25T15:28:59.939475",
     "exception": false,
     "start_time": "2022-05-25T15:28:59.927889",
     "status": "completed"
    },
    "tags": []
   },
   "source": [
    "# Checking Null Values"
   ]
  },
  {
   "cell_type": "code",
   "execution_count": 12,
   "id": "ccba2686",
   "metadata": {
    "execution": {
     "iopub.execute_input": "2022-05-25T15:28:59.966129Z",
     "iopub.status.busy": "2022-05-25T15:28:59.965067Z",
     "iopub.status.idle": "2022-05-25T15:28:59.992016Z",
     "shell.execute_reply": "2022-05-25T15:28:59.990760Z"
    },
    "papermill": {
     "duration": 0.042263,
     "end_time": "2022-05-25T15:28:59.994023",
     "exception": false,
     "start_time": "2022-05-25T15:28:59.951760",
     "status": "completed"
    },
    "tags": []
   },
   "outputs": [
    {
     "name": "stdout",
     "output_type": "stream",
     "text": [
      "['LotFrontage', 'Alley', 'MasVnrType', 'MasVnrArea', 'BsmtQual', 'BsmtCond', 'BsmtExposure', 'BsmtFinType1', 'BsmtFinType2', 'Electrical', 'FireplaceQu', 'GarageType', 'GarageYrBlt', 'GarageFinish', 'GarageQual', 'GarageCond', 'PoolQC', 'Fence', 'MiscFeature']\n"
     ]
    }
   ],
   "source": [
    "cols_with_missing = [col for col in home_data.columns \n",
    "                                 if home_data[col].isnull().any()]  \n",
    "print(cols_with_missing)"
   ]
  },
  {
   "cell_type": "code",
   "execution_count": 13,
   "id": "0b1710dc",
   "metadata": {
    "execution": {
     "iopub.execute_input": "2022-05-25T15:29:00.019098Z",
     "iopub.status.busy": "2022-05-25T15:29:00.018699Z",
     "iopub.status.idle": "2022-05-25T15:29:00.031604Z",
     "shell.execute_reply": "2022-05-25T15:29:00.030502Z"
    },
    "papermill": {
     "duration": 0.028552,
     "end_time": "2022-05-25T15:29:00.034378",
     "exception": false,
     "start_time": "2022-05-25T15:29:00.005826",
     "status": "completed"
    },
    "tags": []
   },
   "outputs": [
    {
     "name": "stdout",
     "output_type": "stream",
     "text": [
      "LotFrontage          259\n",
      "Alley                1369\n",
      "MasVnrType           8\n",
      "MasVnrArea           8\n",
      "BsmtQual             37\n",
      "BsmtCond             37\n",
      "BsmtExposure         38\n",
      "BsmtFinType1         37\n",
      "BsmtFinType2         38\n",
      "Electrical           1\n",
      "FireplaceQu          690\n",
      "GarageType           81\n",
      "GarageYrBlt          81\n",
      "GarageFinish         81\n",
      "GarageQual           81\n",
      "GarageCond           81\n",
      "PoolQC               1453\n",
      "Fence                1179\n",
      "MiscFeature          1406\n"
     ]
    }
   ],
   "source": [
    "for col_name in cols_with_missing:\n",
    "    #if home_data[col_name].isnull().sum().any():\n",
    "        #print(col_name,'\\t','\\t', home_data[col_name].isnull().sum())\n",
    "    print('{:20s} {}'.format(col_name, home_data[col_name].isnull().sum()))"
   ]
  },
  {
   "cell_type": "markdown",
   "id": "4c5c14a7",
   "metadata": {
    "papermill": {
     "duration": 0.011604,
     "end_time": "2022-05-25T15:29:00.059515",
     "exception": false,
     "start_time": "2022-05-25T15:29:00.047911",
     "status": "completed"
    },
    "tags": []
   },
   "source": [
    "> PoolQC, MiscFeature, Fence, Alley has more than 1000 missing values out of 1460. We can drop them since the model will be highly biased by replacement of these null values"
   ]
  },
  {
   "cell_type": "code",
   "execution_count": 14,
   "id": "7cab6ca2",
   "metadata": {
    "execution": {
     "iopub.execute_input": "2022-05-25T15:29:00.084963Z",
     "iopub.status.busy": "2022-05-25T15:29:00.084020Z",
     "iopub.status.idle": "2022-05-25T15:29:00.092192Z",
     "shell.execute_reply": "2022-05-25T15:29:00.091125Z"
    },
    "jupyter": {
     "source_hidden": true
    },
    "papermill": {
     "duration": 0.022591,
     "end_time": "2022-05-25T15:29:00.093876",
     "exception": false,
     "start_time": "2022-05-25T15:29:00.071285",
     "status": "completed"
    },
    "tags": []
   },
   "outputs": [
    {
     "name": "stdout",
     "output_type": "stream",
     "text": [
      "(1460, 60)\n",
      "(1459, 60)\n"
     ]
    }
   ],
   "source": [
    "new_home_data = home_data.drop(cols_with_missing, axis=1)  \n",
    "print(new_home_data.shape)\n",
    "new_test_data = test_data.drop(cols_with_missing, axis=1)\n",
    "print(new_test_data.shape)"
   ]
  },
  {
   "cell_type": "markdown",
   "id": "8c8c2997",
   "metadata": {
    "papermill": {
     "duration": 0.011476,
     "end_time": "2022-05-25T15:29:00.117163",
     "exception": false,
     "start_time": "2022-05-25T15:29:00.105687",
     "status": "completed"
    },
    "tags": []
   },
   "source": [
    "> In this we are simply removing the columns with missing values. Might not be a good strategy. Therefore new dataset created."
   ]
  },
  {
   "cell_type": "code",
   "execution_count": 15,
   "id": "ad00cebf",
   "metadata": {
    "execution": {
     "iopub.execute_input": "2022-05-25T15:29:00.142577Z",
     "iopub.status.busy": "2022-05-25T15:29:00.141977Z",
     "iopub.status.idle": "2022-05-25T15:29:00.162923Z",
     "shell.execute_reply": "2022-05-25T15:29:00.161629Z"
    },
    "jupyter": {
     "source_hidden": true
    },
    "papermill": {
     "duration": 0.036247,
     "end_time": "2022-05-25T15:29:00.165172",
     "exception": false,
     "start_time": "2022-05-25T15:29:00.128925",
     "status": "completed"
    },
    "tags": []
   },
   "outputs": [
    {
     "name": "stdout",
     "output_type": "stream",
     "text": [
      "['MSZoning', 'Street', 'LotShape', 'LandContour', 'Utilities', 'LotConfig', 'LandSlope', 'Condition1', 'Condition2', 'BldgType', 'HouseStyle', 'RoofStyle', 'RoofMatl', 'ExterQual', 'ExterCond', 'Foundation', 'Heating', 'HeatingQC', 'CentralAir', 'KitchenQual', 'Functional', 'PavedDrive', 'SaleType', 'SaleCondition']\n",
      "-------------------------------------------\n",
      "(1460, 57)\n",
      "(1459, 57)\n"
     ]
    }
   ],
   "source": [
    "# \"cardinality\" means the number of unique values in a column.\n",
    "low_cardinality_cols = [cname for cname in new_home_data.columns if \n",
    "                                new_home_data[cname].nunique() < 10 and\n",
    "                                new_home_data[cname].dtype == \"object\"]\n",
    "print(low_cardinality_cols)\n",
    "#for col in low_cardinality_cols:\n",
    "#    print(col)\n",
    "#    print(new_home_data[col].value_counts())\n",
    "\n",
    "numeric_cols = [cname for cname in new_home_data.columns if \n",
    "                                new_home_data[cname].dtype in ['int64', 'float64']]\n",
    "my_cols = low_cardinality_cols + numeric_cols\n",
    "new_train_predictors = new_home_data[my_cols]\n",
    "print('-------------------------------------------')\n",
    "print(new_train_predictors.shape)\n",
    "new_test_predictors = new_test_data[my_cols]\n",
    "print(new_test_predictors.shape)"
   ]
  },
  {
   "cell_type": "markdown",
   "id": "d3fa0353",
   "metadata": {
    "papermill": {
     "duration": 0.011894,
     "end_time": "2022-05-25T15:29:00.189297",
     "exception": false,
     "start_time": "2022-05-25T15:29:00.177403",
     "status": "completed"
    },
    "tags": []
   },
   "source": [
    "> For new dataset"
   ]
  },
  {
   "cell_type": "markdown",
   "id": "9a036160",
   "metadata": {
    "papermill": {
     "duration": 0.011452,
     "end_time": "2022-05-25T15:29:00.212661",
     "exception": false,
     "start_time": "2022-05-25T15:29:00.201209",
     "status": "completed"
    },
    "tags": []
   },
   "source": [
    "# Replacing null values by mode"
   ]
  },
  {
   "cell_type": "code",
   "execution_count": 16,
   "id": "d5e91368",
   "metadata": {
    "execution": {
     "iopub.execute_input": "2022-05-25T15:29:00.238028Z",
     "iopub.status.busy": "2022-05-25T15:29:00.237463Z",
     "iopub.status.idle": "2022-05-25T15:29:00.308606Z",
     "shell.execute_reply": "2022-05-25T15:29:00.307896Z"
    },
    "papermill": {
     "duration": 0.085879,
     "end_time": "2022-05-25T15:29:00.310412",
     "exception": false,
     "start_time": "2022-05-25T15:29:00.224533",
     "status": "completed"
    },
    "tags": []
   },
   "outputs": [],
   "source": [
    "for col_name in home_data.columns:\n",
    "    if home_data[col_name].isnull().sum().any():\n",
    "        home_data[col_name] = home_data[col_name].fillna(home_data[col_name].mode()[0])\n",
    "        \n",
    "for col_name in test_data.columns:\n",
    "    if test_data[col_name].isnull().sum().any():\n",
    "        test_data[col_name] = test_data[col_name].fillna(test_data[col_name].mode()[0])"
   ]
  },
  {
   "cell_type": "code",
   "execution_count": 17,
   "id": "d1178eec",
   "metadata": {
    "execution": {
     "iopub.execute_input": "2022-05-25T15:29:00.336136Z",
     "iopub.status.busy": "2022-05-25T15:29:00.335567Z",
     "iopub.status.idle": "2022-05-25T15:29:00.349344Z",
     "shell.execute_reply": "2022-05-25T15:29:00.348224Z"
    },
    "papermill": {
     "duration": 0.028769,
     "end_time": "2022-05-25T15:29:00.351219",
     "exception": false,
     "start_time": "2022-05-25T15:29:00.322450",
     "status": "completed"
    },
    "tags": []
   },
   "outputs": [
    {
     "name": "stdout",
     "output_type": "stream",
     "text": [
      "False\n",
      "False\n"
     ]
    }
   ],
   "source": [
    "print(home_data.isnull().sum().any())\n",
    "print(test_data.isnull().sum().any())"
   ]
  },
  {
   "cell_type": "markdown",
   "id": "26e8ebe0",
   "metadata": {
    "papermill": {
     "duration": 0.011687,
     "end_time": "2022-05-25T15:29:00.375219",
     "exception": false,
     "start_time": "2022-05-25T15:29:00.363532",
     "status": "completed"
    },
    "tags": []
   },
   "source": [
    "> No null values remaining in our dataset"
   ]
  },
  {
   "cell_type": "markdown",
   "id": "c92d7a4d",
   "metadata": {
    "papermill": {
     "duration": 0.011647,
     "end_time": "2022-05-25T15:29:00.398886",
     "exception": false,
     "start_time": "2022-05-25T15:29:00.387239",
     "status": "completed"
    },
    "tags": []
   },
   "source": [
    "# Columns to be considered for encoding"
   ]
  },
  {
   "cell_type": "code",
   "execution_count": 18,
   "id": "7e017d14",
   "metadata": {
    "execution": {
     "iopub.execute_input": "2022-05-25T15:29:00.424652Z",
     "iopub.status.busy": "2022-05-25T15:29:00.423717Z",
     "iopub.status.idle": "2022-05-25T15:29:00.447899Z",
     "shell.execute_reply": "2022-05-25T15:29:00.446616Z"
    },
    "papermill": {
     "duration": 0.038811,
     "end_time": "2022-05-25T15:29:00.449635",
     "exception": false,
     "start_time": "2022-05-25T15:29:00.410824",
     "status": "completed"
    },
    "tags": []
   },
   "outputs": [
    {
     "name": "stdout",
     "output_type": "stream",
     "text": [
      "['MSZoning', 'Street', 'Alley', 'LotShape', 'LandContour', 'Utilities', 'LotConfig', 'LandSlope', 'Condition1', 'Condition2', 'BldgType', 'HouseStyle', 'RoofStyle', 'RoofMatl', 'MasVnrType', 'ExterQual', 'ExterCond', 'Foundation', 'BsmtQual', 'BsmtCond', 'BsmtExposure', 'BsmtFinType1', 'BsmtFinType2', 'Heating', 'HeatingQC', 'CentralAir', 'Electrical', 'KitchenQual', 'Functional', 'FireplaceQu', 'GarageType', 'GarageFinish', 'GarageQual', 'GarageCond', 'PavedDrive', 'PoolQC', 'Fence', 'MiscFeature', 'SaleType', 'SaleCondition']\n",
      "-------------------------------------------\n",
      "(1460, 76)\n"
     ]
    }
   ],
   "source": [
    "low_cardinality_cols = [cname for cname in home_data.columns if \n",
    "                                home_data[cname].nunique() < 10 and\n",
    "                                home_data[cname].dtype == \"object\"]\n",
    "print(low_cardinality_cols)\n",
    "#for col in low_cardinality_cols:\n",
    "#    print(col)\n",
    "#    print(home_data[col].value_counts())\n",
    "\n",
    "numeric_cols = [cname for cname in home_data.columns if \n",
    "                                home_data[cname].dtype in ['int64', 'float64']]\n",
    "my_cols = low_cardinality_cols + numeric_cols       # my_cols represents the columns you will use in model for predictions\n",
    "train_predictors = home_data[my_cols]\n",
    "print('-------------------------------------------')\n",
    "print(train_predictors.shape)"
   ]
  },
  {
   "cell_type": "code",
   "execution_count": 19,
   "id": "02faded8",
   "metadata": {
    "execution": {
     "iopub.execute_input": "2022-05-25T15:29:00.475700Z",
     "iopub.status.busy": "2022-05-25T15:29:00.475056Z",
     "iopub.status.idle": "2022-05-25T15:29:00.482315Z",
     "shell.execute_reply": "2022-05-25T15:29:00.481229Z"
    },
    "papermill": {
     "duration": 0.022299,
     "end_time": "2022-05-25T15:29:00.484029",
     "exception": false,
     "start_time": "2022-05-25T15:29:00.461730",
     "status": "completed"
    },
    "tags": []
   },
   "outputs": [
    {
     "name": "stdout",
     "output_type": "stream",
     "text": [
      "(1459, 79)\n",
      "-------------------------------------------\n",
      "(1459, 76)\n"
     ]
    }
   ],
   "source": [
    "print(test_data.shape)\n",
    "test_predictors = test_data[my_cols]\n",
    "print('-------------------------------------------')\n",
    "print(test_predictors.shape)"
   ]
  },
  {
   "cell_type": "markdown",
   "id": "c514dde6",
   "metadata": {
    "papermill": {
     "duration": 0.011745,
     "end_time": "2022-05-25T15:29:00.507900",
     "exception": false,
     "start_time": "2022-05-25T15:29:00.496155",
     "status": "completed"
    },
    "tags": []
   },
   "source": [
    "# Dropping highly biased Columns"
   ]
  },
  {
   "cell_type": "code",
   "execution_count": 20,
   "id": "86f15415",
   "metadata": {
    "execution": {
     "iopub.execute_input": "2022-05-25T15:29:00.533526Z",
     "iopub.status.busy": "2022-05-25T15:29:00.532886Z",
     "iopub.status.idle": "2022-05-25T15:29:00.537585Z",
     "shell.execute_reply": "2022-05-25T15:29:00.536796Z"
    },
    "papermill": {
     "duration": 0.019572,
     "end_time": "2022-05-25T15:29:00.539400",
     "exception": false,
     "start_time": "2022-05-25T15:29:00.519828",
     "status": "completed"
    },
    "tags": []
   },
   "outputs": [
    {
     "name": "stdout",
     "output_type": "stream",
     "text": [
      "(1460, 76)\n"
     ]
    }
   ],
   "source": [
    "print(train_predictors.shape)"
   ]
  },
  {
   "cell_type": "code",
   "execution_count": 21,
   "id": "d7b5cd6d",
   "metadata": {
    "execution": {
     "iopub.execute_input": "2022-05-25T15:29:00.565256Z",
     "iopub.status.busy": "2022-05-25T15:29:00.564841Z",
     "iopub.status.idle": "2022-05-25T15:29:00.568106Z",
     "shell.execute_reply": "2022-05-25T15:29:00.567493Z"
    },
    "papermill": {
     "duration": 0.018294,
     "end_time": "2022-05-25T15:29:00.569798",
     "exception": false,
     "start_time": "2022-05-25T15:29:00.551504",
     "status": "completed"
    },
    "tags": []
   },
   "outputs": [],
   "source": [
    "#home_data.drop(['Alley', 'PoolQC', 'Fence', 'MiscFeature'], inplace = True, axis = 1)\n",
    "#print(train_predictors.shape)\n",
    "#test_data.drop(['Alley', 'PoolQC', 'Fence', 'MiscFeature'], inplace = True, axis = 1)\n",
    "#print(test_predictors.shape)\n"
   ]
  },
  {
   "cell_type": "markdown",
   "id": "f034248a",
   "metadata": {
    "papermill": {
     "duration": 0.01189,
     "end_time": "2022-05-25T15:29:00.594134",
     "exception": false,
     "start_time": "2022-05-25T15:29:00.582244",
     "status": "completed"
    },
    "tags": []
   },
   "source": [
    "# Encoding Categorical Data"
   ]
  },
  {
   "cell_type": "code",
   "execution_count": 22,
   "id": "96deaa92",
   "metadata": {
    "execution": {
     "iopub.execute_input": "2022-05-25T15:29:00.620063Z",
     "iopub.status.busy": "2022-05-25T15:29:00.619456Z",
     "iopub.status.idle": "2022-05-25T15:29:00.622613Z",
     "shell.execute_reply": "2022-05-25T15:29:00.622043Z"
    },
    "papermill": {
     "duration": 0.017977,
     "end_time": "2022-05-25T15:29:00.624220",
     "exception": false,
     "start_time": "2022-05-25T15:29:00.606243",
     "status": "completed"
    },
    "tags": []
   },
   "outputs": [],
   "source": [
    "#one_hot_encoded_training_predictors = pd.get_dummies(train_predictors)\n",
    "#print(one_hot_encoded_training_predictors)"
   ]
  },
  {
   "cell_type": "code",
   "execution_count": 23,
   "id": "db3f1474",
   "metadata": {
    "execution": {
     "iopub.execute_input": "2022-05-25T15:29:00.650214Z",
     "iopub.status.busy": "2022-05-25T15:29:00.649602Z",
     "iopub.status.idle": "2022-05-25T15:29:00.652855Z",
     "shell.execute_reply": "2022-05-25T15:29:00.652268Z"
    },
    "papermill": {
     "duration": 0.017949,
     "end_time": "2022-05-25T15:29:00.654385",
     "exception": false,
     "start_time": "2022-05-25T15:29:00.636436",
     "status": "completed"
    },
    "tags": []
   },
   "outputs": [],
   "source": [
    "#from sklearn.preprocessing import OneHotEncoder\n",
    "#encoder = OneHotEncoder(categories = \"auto\", handle_unknown = 'ignore')\n",
    "#train_encoded = encoder.fit_transform(train_predictors)\n",
    "#test_encoded = encoder.transform(test_predictors)\n",
    "#print(train_encoded.shape)\n",
    "#print(test_encoded.shape)"
   ]
  },
  {
   "cell_type": "markdown",
   "id": "f1b1b406",
   "metadata": {
    "papermill": {
     "duration": 0.011843,
     "end_time": "2022-05-25T15:29:00.678395",
     "exception": false,
     "start_time": "2022-05-25T15:29:00.666552",
     "status": "completed"
    },
    "tags": []
   },
   "source": [
    "# Encoding with Column Transformer"
   ]
  },
  {
   "cell_type": "code",
   "execution_count": 24,
   "id": "13ca6fdb",
   "metadata": {
    "execution": {
     "iopub.execute_input": "2022-05-25T15:29:00.704310Z",
     "iopub.status.busy": "2022-05-25T15:29:00.703901Z",
     "iopub.status.idle": "2022-05-25T15:29:00.712017Z",
     "shell.execute_reply": "2022-05-25T15:29:00.711386Z"
    },
    "papermill": {
     "duration": 0.023047,
     "end_time": "2022-05-25T15:29:00.713612",
     "exception": false,
     "start_time": "2022-05-25T15:29:00.690565",
     "status": "completed"
    },
    "tags": []
   },
   "outputs": [
    {
     "data": {
      "text/plain": [
       "Index(['MSZoning', 'Street', 'Alley', 'LotShape', 'LandContour', 'Utilities',\n",
       "       'LotConfig', 'LandSlope', 'Condition1', 'Condition2', 'BldgType',\n",
       "       'HouseStyle', 'RoofStyle', 'RoofMatl', 'MasVnrType', 'ExterQual',\n",
       "       'ExterCond', 'Foundation', 'BsmtQual', 'BsmtCond', 'BsmtExposure',\n",
       "       'BsmtFinType1', 'BsmtFinType2', 'Heating', 'HeatingQC', 'CentralAir',\n",
       "       'Electrical', 'KitchenQual', 'Functional', 'FireplaceQu', 'GarageType',\n",
       "       'GarageFinish', 'GarageQual', 'GarageCond', 'PavedDrive', 'PoolQC',\n",
       "       'Fence', 'MiscFeature', 'SaleType', 'SaleCondition'],\n",
       "      dtype='object')"
      ]
     },
     "execution_count": 24,
     "metadata": {},
     "output_type": "execute_result"
    }
   ],
   "source": [
    "# checking features\n",
    "cat = train_predictors.select_dtypes(include='O').keys()\n",
    "# display variabels\n",
    "cat"
   ]
  },
  {
   "cell_type": "markdown",
   "id": "94c620ea",
   "metadata": {
    "papermill": {
     "duration": 0.012165,
     "end_time": "2022-05-25T15:29:00.737966",
     "exception": false,
     "start_time": "2022-05-25T15:29:00.725801",
     "status": "completed"
    },
    "tags": []
   },
   "source": [
    "> Features to be encoded"
   ]
  },
  {
   "cell_type": "code",
   "execution_count": 25,
   "id": "8fc2cbe9",
   "metadata": {
    "execution": {
     "iopub.execute_input": "2022-05-25T15:29:00.764675Z",
     "iopub.status.busy": "2022-05-25T15:29:00.764058Z",
     "iopub.status.idle": "2022-05-25T15:29:00.839683Z",
     "shell.execute_reply": "2022-05-25T15:29:00.838260Z"
    },
    "papermill": {
     "duration": 0.091648,
     "end_time": "2022-05-25T15:29:00.841900",
     "exception": false,
     "start_time": "2022-05-25T15:29:00.750252",
     "status": "completed"
    },
    "tags": []
   },
   "outputs": [
    {
     "name": "stdout",
     "output_type": "stream",
     "text": [
      "(1460, 76)\n",
      "(1460, 192)\n",
      "(1459, 192)\n"
     ]
    }
   ],
   "source": [
    "print(train_predictors.shape)\n",
    "from sklearn.compose import ColumnTransformer\n",
    "from sklearn.preprocessing import OneHotEncoder\n",
    "transformer = ColumnTransformer(transformers=[('cat', OneHotEncoder(categories = \"auto\", handle_unknown = 'ignore', drop='first', sparse=False), cat)], remainder='passthrough')\n",
    "train_encoded = transformer.fit_transform(train_predictors)\n",
    "print(train_encoded.shape)\n",
    "test_encoded = transformer.transform(test_predictors)\n",
    "print(test_encoded.shape)"
   ]
  },
  {
   "cell_type": "markdown",
   "id": "cd3d1899",
   "metadata": {
    "papermill": {
     "duration": 0.012549,
     "end_time": "2022-05-25T15:29:00.867117",
     "exception": false,
     "start_time": "2022-05-25T15:29:00.854568",
     "status": "completed"
    },
    "tags": []
   },
   "source": [
    "For New table"
   ]
  },
  {
   "cell_type": "code",
   "execution_count": 26,
   "id": "a267b9d4",
   "metadata": {
    "execution": {
     "iopub.execute_input": "2022-05-25T15:29:00.893935Z",
     "iopub.status.busy": "2022-05-25T15:29:00.893563Z",
     "iopub.status.idle": "2022-05-25T15:29:00.957774Z",
     "shell.execute_reply": "2022-05-25T15:29:00.956613Z"
    },
    "jupyter": {
     "source_hidden": true
    },
    "papermill": {
     "duration": 0.079801,
     "end_time": "2022-05-25T15:29:00.959641",
     "exception": false,
     "start_time": "2022-05-25T15:29:00.879840",
     "status": "completed"
    },
    "tags": []
   },
   "outputs": [
    {
     "name": "stdout",
     "output_type": "stream",
     "text": [
      "(1460, 6969)\n",
      "(1459, 6969)\n"
     ]
    }
   ],
   "source": [
    "encoder = OneHotEncoder(categories = \"auto\", handle_unknown = 'ignore')\n",
    "new_train_encoded = encoder.fit_transform(new_train_predictors)\n",
    "new_test_encoded = encoder.transform(new_test_predictors)\n",
    "print(new_train_encoded.shape)\n",
    "print(new_test_encoded.shape)"
   ]
  },
  {
   "cell_type": "code",
   "execution_count": 27,
   "id": "aaf5aebe",
   "metadata": {
    "execution": {
     "iopub.execute_input": "2022-05-25T15:29:00.987810Z",
     "iopub.status.busy": "2022-05-25T15:29:00.986786Z",
     "iopub.status.idle": "2022-05-25T15:29:00.990480Z",
     "shell.execute_reply": "2022-05-25T15:29:00.989867Z"
    },
    "papermill": {
     "duration": 0.019901,
     "end_time": "2022-05-25T15:29:00.992115",
     "exception": false,
     "start_time": "2022-05-25T15:29:00.972214",
     "status": "completed"
    },
    "tags": []
   },
   "outputs": [],
   "source": [
    "#one_hot_encoded_test_predictors = pd.get_dummies(test_predictors)\n",
    "#print(one_hot_encoded_test_predictors)"
   ]
  },
  {
   "cell_type": "code",
   "execution_count": 28,
   "id": "a2a1c767",
   "metadata": {
    "execution": {
     "iopub.execute_input": "2022-05-25T15:29:01.018549Z",
     "iopub.status.busy": "2022-05-25T15:29:01.017914Z",
     "iopub.status.idle": "2022-05-25T15:29:01.021724Z",
     "shell.execute_reply": "2022-05-25T15:29:01.021123Z"
    },
    "papermill": {
     "duration": 0.018782,
     "end_time": "2022-05-25T15:29:01.023277",
     "exception": false,
     "start_time": "2022-05-25T15:29:01.004495",
     "status": "completed"
    },
    "tags": []
   },
   "outputs": [],
   "source": [
    "#train_cols = list(one_hot_encoded_training_predictors.columns)\n",
    "#test_cols = list(one_hot_encoded_test_predictors.columns)\n",
    "#cols_not_in_test = {c:0 for c in train_cols if c not in test_cols}\n",
    "#one_hot_encoded_test_predictors = one_hot_encoded_test_predictors.assign(**cols_not_in_test)\n",
    "#print(one_hot_encoded_test_predictors)\n"
   ]
  },
  {
   "cell_type": "markdown",
   "id": "10ad250b",
   "metadata": {
    "papermill": {
     "duration": 0.012095,
     "end_time": "2022-05-25T15:29:01.047968",
     "exception": false,
     "start_time": "2022-05-25T15:29:01.035873",
     "status": "completed"
    },
    "tags": []
   },
   "source": [
    "> Making number of columns in final test set and training dataset equal. But these columns are still not in same order"
   ]
  },
  {
   "cell_type": "markdown",
   "id": "edd47b32",
   "metadata": {
    "papermill": {
     "duration": 0.011998,
     "end_time": "2022-05-25T15:29:01.072396",
     "exception": false,
     "start_time": "2022-05-25T15:29:01.060398",
     "status": "completed"
    },
    "tags": []
   },
   "source": [
    "# Feature Scaling"
   ]
  },
  {
   "cell_type": "markdown",
   "id": "f1abe4a3",
   "metadata": {
    "papermill": {
     "duration": 0.011795,
     "end_time": "2022-05-25T15:29:01.096484",
     "exception": false,
     "start_time": "2022-05-25T15:29:01.084689",
     "status": "completed"
    },
    "tags": []
   },
   "source": [
    "> Scaling not required for Random Forest Algorithm"
   ]
  },
  {
   "cell_type": "markdown",
   "id": "20c928ac",
   "metadata": {
    "papermill": {
     "duration": 0.01183,
     "end_time": "2022-05-25T15:29:01.120339",
     "exception": false,
     "start_time": "2022-05-25T15:29:01.108509",
     "status": "completed"
    },
    "tags": []
   },
   "source": [
    "# Splitting Datasets"
   ]
  },
  {
   "cell_type": "code",
   "execution_count": 29,
   "id": "8ab6246e",
   "metadata": {
    "execution": {
     "iopub.execute_input": "2022-05-25T15:29:01.146529Z",
     "iopub.status.busy": "2022-05-25T15:29:01.145904Z",
     "iopub.status.idle": "2022-05-25T15:29:01.155629Z",
     "shell.execute_reply": "2022-05-25T15:29:01.154984Z"
    },
    "papermill": {
     "duration": 0.025041,
     "end_time": "2022-05-25T15:29:01.157555",
     "exception": false,
     "start_time": "2022-05-25T15:29:01.132514",
     "status": "completed"
    },
    "tags": []
   },
   "outputs": [],
   "source": [
    "train_X, test_X, train_y, test_y = train_test_split(train_encoded, y, random_state=1)\n",
    "train_Xn, test_Xn, train_yn, test_yn = train_test_split(new_train_encoded, y, random_state=1)"
   ]
  },
  {
   "cell_type": "markdown",
   "id": "85f0dccc",
   "metadata": {
    "papermill": {
     "duration": 0.012107,
     "end_time": "2022-05-25T15:29:01.182053",
     "exception": false,
     "start_time": "2022-05-25T15:29:01.169946",
     "status": "completed"
    },
    "tags": []
   },
   "source": [
    "# Training model"
   ]
  },
  {
   "cell_type": "markdown",
   "id": "f42cc9a3",
   "metadata": {
    "papermill": {
     "duration": 0.012011,
     "end_time": "2022-05-25T15:29:01.206321",
     "exception": false,
     "start_time": "2022-05-25T15:29:01.194310",
     "status": "completed"
    },
    "tags": []
   },
   "source": [
    "# Null values removed dataset"
   ]
  },
  {
   "cell_type": "code",
   "execution_count": 30,
   "id": "46d4e088",
   "metadata": {
    "execution": {
     "iopub.execute_input": "2022-05-25T15:29:01.232346Z",
     "iopub.status.busy": "2022-05-25T15:29:01.231735Z",
     "iopub.status.idle": "2022-05-25T15:29:15.743024Z",
     "shell.execute_reply": "2022-05-25T15:29:15.742059Z"
    },
    "jupyter": {
     "source_hidden": true
    },
    "papermill": {
     "duration": 14.5265,
     "end_time": "2022-05-25T15:29:15.745060",
     "exception": false,
     "start_time": "2022-05-25T15:29:01.218560",
     "status": "completed"
    },
    "tags": []
   },
   "outputs": [
    {
     "name": "stdout",
     "output_type": "stream",
     "text": [
      "Validation MAE for Random Forest Model when null columns removed: 21,820\n"
     ]
    }
   ],
   "source": [
    "reg_n = RandomForestRegressor(random_state=1)\n",
    "reg_n.fit(train_Xn, train_yn)\n",
    "reg_n_predictions = reg_n.predict(test_Xn)\n",
    "reg_n_val_mae = mean_absolute_error(reg_n_predictions, test_yn)\n",
    "\n",
    "print(\"Validation MAE for Random Forest Model when null columns removed: {:,.0f}\".format(reg_n_val_mae))"
   ]
  },
  {
   "cell_type": "markdown",
   "id": "3a11fda3",
   "metadata": {
    "papermill": {
     "duration": 0.012426,
     "end_time": "2022-05-25T15:29:15.770314",
     "exception": false,
     "start_time": "2022-05-25T15:29:15.757888",
     "status": "completed"
    },
    "tags": []
   },
   "source": [
    "# Null values replaced Dataset"
   ]
  },
  {
   "cell_type": "code",
   "execution_count": 31,
   "id": "d56b30f8",
   "metadata": {
    "execution": {
     "iopub.execute_input": "2022-05-25T15:29:15.797282Z",
     "iopub.status.busy": "2022-05-25T15:29:15.796870Z",
     "iopub.status.idle": "2022-05-25T15:29:17.725900Z",
     "shell.execute_reply": "2022-05-25T15:29:17.725017Z"
    },
    "papermill": {
     "duration": 1.945025,
     "end_time": "2022-05-25T15:29:17.727911",
     "exception": false,
     "start_time": "2022-05-25T15:29:15.782886",
     "status": "completed"
    },
    "tags": []
   },
   "outputs": [
    {
     "name": "stdout",
     "output_type": "stream",
     "text": [
      "Validation MAE for Random Forest Model: 16,572\n"
     ]
    }
   ],
   "source": [
    "reg = RandomForestRegressor(random_state=1)\n",
    "reg.fit(train_X, train_y)\n",
    "reg_predictions = reg.predict(test_X)\n",
    "reg_val_mae = mean_absolute_error(reg_predictions, test_y)\n",
    "\n",
    "print(\"Validation MAE for Random Forest Model: {:,.0f}\".format(reg_val_mae))"
   ]
  },
  {
   "cell_type": "markdown",
   "id": "f976db52",
   "metadata": {
    "papermill": {
     "duration": 0.012262,
     "end_time": "2022-05-25T15:29:17.752818",
     "exception": false,
     "start_time": "2022-05-25T15:29:17.740556",
     "status": "completed"
    },
    "tags": []
   },
   "source": [
    "# Train a model for the competition\n",
    "\n",
    "The code cell above trains a Random Forest model on **`train_X`** and **`train_y`**.  \n",
    "\n",
    "Use the code cell below to build a Random Forest model and train it on all of **`X`** and **`y`**."
   ]
  },
  {
   "cell_type": "code",
   "execution_count": 32,
   "id": "ad770f60",
   "metadata": {
    "execution": {
     "iopub.execute_input": "2022-05-25T15:29:17.779540Z",
     "iopub.status.busy": "2022-05-25T15:29:17.778908Z",
     "iopub.status.idle": "2022-05-25T15:29:20.368360Z",
     "shell.execute_reply": "2022-05-25T15:29:20.367386Z"
    },
    "papermill": {
     "duration": 2.605211,
     "end_time": "2022-05-25T15:29:20.370480",
     "exception": false,
     "start_time": "2022-05-25T15:29:17.765269",
     "status": "completed"
    },
    "tags": []
   },
   "outputs": [
    {
     "data": {
      "text/plain": [
       "RandomForestRegressor(random_state=1)"
      ]
     },
     "execution_count": 32,
     "metadata": {},
     "output_type": "execute_result"
    }
   ],
   "source": [
    "# To improve accuracy, create a new Random Forest model which you will train on all training data\n",
    "rf_model_on_full_data = RandomForestRegressor(random_state = 1)\n",
    "\n",
    "# fit rf_model_on_full_data on all data from the training data\n",
    "rf_model_on_full_data.fit(train_encoded,y)"
   ]
  },
  {
   "cell_type": "markdown",
   "id": "fc0120a6",
   "metadata": {
    "papermill": {
     "duration": 0.012434,
     "end_time": "2022-05-25T15:29:20.395797",
     "exception": false,
     "start_time": "2022-05-25T15:29:20.383363",
     "status": "completed"
    },
    "tags": []
   },
   "source": [
    "Now, read the file of \"test\" data, and apply your model to make predictions."
   ]
  },
  {
   "cell_type": "code",
   "execution_count": 33,
   "id": "f64b00c1",
   "metadata": {
    "execution": {
     "iopub.execute_input": "2022-05-25T15:29:20.423419Z",
     "iopub.status.busy": "2022-05-25T15:29:20.422745Z",
     "iopub.status.idle": "2022-05-25T15:29:20.465507Z",
     "shell.execute_reply": "2022-05-25T15:29:20.464596Z"
    },
    "papermill": {
     "duration": 0.0593,
     "end_time": "2022-05-25T15:29:20.467803",
     "exception": false,
     "start_time": "2022-05-25T15:29:20.408503",
     "status": "completed"
    },
    "tags": []
   },
   "outputs": [],
   "source": [
    "# make predictions which we will submit. \n",
    "test_preds = rf_model_on_full_data.predict(test_encoded)"
   ]
  },
  {
   "cell_type": "markdown",
   "id": "6cdb3b56",
   "metadata": {
    "papermill": {
     "duration": 0.01249,
     "end_time": "2022-05-25T15:29:20.493213",
     "exception": false,
     "start_time": "2022-05-25T15:29:20.480723",
     "status": "completed"
    },
    "tags": []
   },
   "source": [
    "Before submitting, run a check to make sure your `test_preds` have the right format."
   ]
  },
  {
   "cell_type": "markdown",
   "id": "0b587847",
   "metadata": {
    "papermill": {
     "duration": 0.012486,
     "end_time": "2022-05-25T15:29:20.518283",
     "exception": false,
     "start_time": "2022-05-25T15:29:20.505797",
     "status": "completed"
    },
    "tags": []
   },
   "source": [
    "# For null removed Dataset"
   ]
  },
  {
   "cell_type": "code",
   "execution_count": 34,
   "id": "ab3e0303",
   "metadata": {
    "execution": {
     "iopub.execute_input": "2022-05-25T15:29:20.545484Z",
     "iopub.status.busy": "2022-05-25T15:29:20.544806Z",
     "iopub.status.idle": "2022-05-25T15:29:20.549003Z",
     "shell.execute_reply": "2022-05-25T15:29:20.548116Z"
    },
    "jupyter": {
     "source_hidden": true
    },
    "papermill": {
     "duration": 0.020116,
     "end_time": "2022-05-25T15:29:20.550928",
     "exception": false,
     "start_time": "2022-05-25T15:29:20.530812",
     "status": "completed"
    },
    "tags": []
   },
   "outputs": [],
   "source": [
    "# To improve accuracy, create a new Random Forest model which you will train on all training data\n",
    "#rf_new_on_full_data = RandomForestRegressor(random_state = 1)\n",
    "\n",
    "# fit rf_model_on_full_data on all data from the training data\n",
    "#rf_new_on_full_data.fit(new_train_encoded,y)\n",
    "\n",
    "#new_test_preds = rf_new_on_full_data.predict(new_test_encoded)"
   ]
  },
  {
   "cell_type": "code",
   "execution_count": 35,
   "id": "5c183d76",
   "metadata": {
    "execution": {
     "iopub.execute_input": "2022-05-25T15:29:20.578523Z",
     "iopub.status.busy": "2022-05-25T15:29:20.578103Z",
     "iopub.status.idle": "2022-05-25T15:29:20.585210Z",
     "shell.execute_reply": "2022-05-25T15:29:20.584226Z"
    },
    "papermill": {
     "duration": 0.023148,
     "end_time": "2022-05-25T15:29:20.587027",
     "exception": false,
     "start_time": "2022-05-25T15:29:20.563879",
     "status": "completed"
    },
    "tags": []
   },
   "outputs": [
    {
     "data": {
      "application/javascript": [
       "parent.postMessage({\"jupyterEvent\": \"custom.exercise_interaction\", \"data\": {\"outcomeType\": 1, \"valueTowardsCompletion\": 1.0, \"interactionType\": 1, \"questionType\": 2, \"questionId\": \"1_CheckSubmittablePreds\", \"learnToolsVersion\": \"0.3.4\", \"failureMessage\": \"\", \"exceptionClass\": \"\", \"trace\": \"\"}}, \"*\")"
      ],
      "text/plain": [
       "<IPython.core.display.Javascript object>"
      ]
     },
     "metadata": {},
     "output_type": "display_data"
    },
    {
     "data": {
      "text/markdown": [
       "<span style=\"color:#33cc33\">Correct</span>"
      ],
      "text/plain": [
       "Correct"
      ]
     },
     "metadata": {},
     "output_type": "display_data"
    }
   ],
   "source": [
    "# Check your answer (To get credit for completing the exercise, you must get a \"Correct\" result!)\n",
    "step_1.check()\n",
    "# step_1.solution()"
   ]
  },
  {
   "cell_type": "markdown",
   "id": "aff6f80a",
   "metadata": {
    "papermill": {
     "duration": 0.012487,
     "end_time": "2022-05-25T15:29:20.612547",
     "exception": false,
     "start_time": "2022-05-25T15:29:20.600060",
     "status": "completed"
    },
    "tags": []
   },
   "source": [
    "# Generate a submission\n",
    "\n",
    "Run the code cell below to generate a CSV file with your predictions that you can use to submit to the competition."
   ]
  },
  {
   "cell_type": "code",
   "execution_count": 36,
   "id": "affdd440",
   "metadata": {
    "execution": {
     "iopub.execute_input": "2022-05-25T15:29:20.640102Z",
     "iopub.status.busy": "2022-05-25T15:29:20.639451Z",
     "iopub.status.idle": "2022-05-25T15:29:20.649518Z",
     "shell.execute_reply": "2022-05-25T15:29:20.648665Z"
    },
    "papermill": {
     "duration": 0.02596,
     "end_time": "2022-05-25T15:29:20.651348",
     "exception": false,
     "start_time": "2022-05-25T15:29:20.625388",
     "status": "completed"
    },
    "tags": []
   },
   "outputs": [],
   "source": [
    "# Run the code to save predictions in the format used for competition scoring\n",
    "\n",
    "output = pd.DataFrame({'Id': test_data_Id,\n",
    "                       'SalePrice': test_preds})\n",
    "output.to_csv('submission.csv', index=False)"
   ]
  },
  {
   "cell_type": "markdown",
   "id": "77a4839e",
   "metadata": {
    "papermill": {
     "duration": 0.012587,
     "end_time": "2022-05-25T15:29:20.676947",
     "exception": false,
     "start_time": "2022-05-25T15:29:20.664360",
     "status": "completed"
    },
    "tags": []
   },
   "source": [
    "# Submit to the competition\n",
    "\n",
    "To test your results, you'll need to join the competition (if you haven't already).  So open a new window by clicking on **[this link](https://www.kaggle.com/c/home-data-for-ml-course)**.  Then click on the **Join Competition** button.\n",
    "\n",
    "![join competition image](https://i.imgur.com/axBzctl.png)\n",
    "\n",
    "Next, follow the instructions below:\n",
    "1. Begin by clicking on the **Save Version** button in the top right corner of the window.  This will generate a pop-up window.  \n",
    "2. Ensure that the **Save and Run All** option is selected, and then click on the **Save** button.\n",
    "3. This generates a window in the bottom left corner of the notebook.  After it has finished running, click on the number to the right of the **Save Version** button.  This pulls up a list of versions on the right of the screen.  Click on the ellipsis **(...)** to the right of the most recent version, and select **Open in Viewer**.  This brings you into view mode of the same page. You will need to scroll down to get back to these instructions.\n",
    "4. Click on the **Output** tab on the right of the screen.  Then, click on the file you would like to submit, and click on the **Submit** button to submit your results to the leaderboard.\n",
    "\n",
    "You have now successfully submitted to the competition!\n",
    "\n",
    "If you want to keep working to improve your performance, select the **Edit** button in the top right of the screen. Then you can change your code and repeat the process. There's a lot of room to improve, and you will climb up the leaderboard as you work.\n",
    "\n",
    "\n",
    "# Continue Your Progress\n",
    "There are many ways to improve your model, and **experimenting is a great way to learn at this point.**\n",
    "\n",
    "The best way to improve your model is to add features.  To add more features to the data, revisit the first code cell, and change this line of code to include more column names:\n",
    "```python\n",
    "features = ['LotArea', 'YearBuilt', '1stFlrSF', '2ndFlrSF', 'FullBath', 'BedroomAbvGr', 'TotRmsAbvGrd']\n",
    "```\n",
    "\n",
    "Some features will cause errors because of issues like missing values or non-numeric data types.  Here is a complete list of potential columns that you might like to use, and that won't throw errors:\n",
    "- 'MSSubClass'\n",
    "- 'LotArea'\n",
    "- 'OverallQual' \n",
    "- 'OverallCond' \n",
    "- 'YearBuilt'\n",
    "- 'YearRemodAdd' \n",
    "- '1stFlrSF'\n",
    "- '2ndFlrSF' \n",
    "- 'LowQualFinSF' \n",
    "- 'GrLivArea'\n",
    "- 'FullBath'\n",
    "- 'HalfBath'\n",
    "- 'BedroomAbvGr' \n",
    "- 'KitchenAbvGr' \n",
    "- 'TotRmsAbvGrd' \n",
    "- 'Fireplaces' \n",
    "- 'WoodDeckSF' \n",
    "- 'OpenPorchSF'\n",
    "- 'EnclosedPorch' \n",
    "- '3SsnPorch' \n",
    "- 'ScreenPorch' \n",
    "- 'PoolArea' \n",
    "- 'MiscVal' \n",
    "- 'MoSold' \n",
    "- 'YrSold'\n",
    "\n",
    "Look at the list of columns and think about what might affect home prices.  To learn more about each of these features, take a look at the data description on the **[competition page](https://www.kaggle.com/c/home-data-for-ml-course/data)**.\n",
    "\n",
    "After updating the code cell above that defines the features, re-run all of the code cells to evaluate the model and generate a new submission file.  \n",
    "\n",
    "\n",
    "# What's next?\n",
    "\n",
    "As mentioned above, some of the features will throw an error if you try to use them to train your model.  The **[Intermediate Machine Learning](https://www.kaggle.com/learn/intermediate-machine-learning)** course will teach you how to handle these types of features. You will also learn to use **xgboost**, a technique giving even better accuracy than Random Forest.\n",
    "\n",
    "The **[Pandas](https://kaggle.com/Learn/Pandas)** course will give you the data manipulation skills to quickly go from conceptual idea to implementation in your data science projects. \n",
    "\n",
    "You are also ready for the **[Deep Learning](https://kaggle.com/Learn/intro-to-Deep-Learning)** course, where you will build models with better-than-human level performance at computer vision tasks."
   ]
  },
  {
   "cell_type": "markdown",
   "id": "79f365a8",
   "metadata": {
    "papermill": {
     "duration": 0.012726,
     "end_time": "2022-05-25T15:29:20.702605",
     "exception": false,
     "start_time": "2022-05-25T15:29:20.689879",
     "status": "completed"
    },
    "tags": []
   },
   "source": [
    "---\n",
    "\n",
    "\n",
    "\n",
    "\n",
    "*Have questions or comments? Visit the [course discussion forum](https://www.kaggle.com/learn/intro-to-machine-learning/discussion) to chat with other learners.*"
   ]
  }
 ],
 "metadata": {
  "kernelspec": {
   "display_name": "Python 3",
   "language": "python",
   "name": "python3"
  },
  "language_info": {
   "codemirror_mode": {
    "name": "ipython",
    "version": 3
   },
   "file_extension": ".py",
   "mimetype": "text/x-python",
   "name": "python",
   "nbconvert_exporter": "python",
   "pygments_lexer": "ipython3",
   "version": "3.7.12"
  },
  "papermill": {
   "default_parameters": {},
   "duration": 31.83676,
   "end_time": "2022-05-25T15:29:21.435536",
   "environment_variables": {},
   "exception": null,
   "input_path": "__notebook__.ipynb",
   "output_path": "__notebook__.ipynb",
   "parameters": {},
   "start_time": "2022-05-25T15:28:49.598776",
   "version": "2.3.4"
  }
 },
 "nbformat": 4,
 "nbformat_minor": 5
}
