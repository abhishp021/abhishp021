{
 "cells": [
  {
   "cell_type": "markdown",
   "id": "f204c46f",
   "metadata": {
    "papermill": {
     "duration": 0.019264,
     "end_time": "2022-05-26T14:14:01.072840",
     "exception": false,
     "start_time": "2022-05-26T14:14:01.053576",
     "status": "completed"
    },
    "tags": []
   },
   "source": [
    "**This notebook is an exercise in the [Introduction to Machine Learning](https://www.kaggle.com/learn/intro-to-machine-learning) course.  You can reference the tutorial at [this link](https://www.kaggle.com/alexisbcook/machine-learning-competitions).**\n",
    "\n",
    "---\n"
   ]
  },
  {
   "cell_type": "markdown",
   "id": "74af7902",
   "metadata": {
    "papermill": {
     "duration": 0.017994,
     "end_time": "2022-05-26T14:14:01.108971",
     "exception": false,
     "start_time": "2022-05-26T14:14:01.090977",
     "status": "completed"
    },
    "tags": []
   },
   "source": [
    "# Introduction\n",
    "\n",
    "In this exercise, you will create and submit predictions for a Kaggle competition. You can then improve your model (e.g. by adding features) to apply what you've learned and move up the leaderboard.\n",
    "\n",
    "Begin by running the code cell below to set up code checking and the filepaths for the dataset."
   ]
  },
  {
   "cell_type": "code",
   "execution_count": 1,
   "id": "1aec2cd0",
   "metadata": {
    "execution": {
     "iopub.execute_input": "2022-05-26T14:14:01.147792Z",
     "iopub.status.busy": "2022-05-26T14:14:01.146934Z",
     "iopub.status.idle": "2022-05-26T14:14:01.196445Z",
     "shell.execute_reply": "2022-05-26T14:14:01.195607Z"
    },
    "papermill": {
     "duration": 0.071773,
     "end_time": "2022-05-26T14:14:01.198924",
     "exception": false,
     "start_time": "2022-05-26T14:14:01.127151",
     "status": "completed"
    },
    "tags": []
   },
   "outputs": [],
   "source": [
    "# Set up code checking\n",
    "from learntools.core import binder\n",
    "binder.bind(globals())\n",
    "from learntools.machine_learning.ex7 import *\n",
    "\n",
    "# Set up filepaths\n",
    "import os\n",
    "if not os.path.exists(\"../input/train.csv\"):\n",
    "    os.symlink(\"../input/home-data-for-ml-course/train.csv\", \"../input/train.csv\")  \n",
    "    os.symlink(\"../input/home-data-for-ml-course/test.csv\", \"../input/test.csv\") "
   ]
  },
  {
   "cell_type": "markdown",
   "id": "2a5a07fe",
   "metadata": {
    "papermill": {
     "duration": 0.01821,
     "end_time": "2022-05-26T14:14:01.236821",
     "exception": false,
     "start_time": "2022-05-26T14:14:01.218611",
     "status": "completed"
    },
    "tags": []
   },
   "source": [
    "Here's some of the code you've written so far. Start by running it again."
   ]
  },
  {
   "cell_type": "code",
   "execution_count": 2,
   "id": "f0396e9b",
   "metadata": {
    "execution": {
     "iopub.execute_input": "2022-05-26T14:14:01.274482Z",
     "iopub.status.busy": "2022-05-26T14:14:01.273768Z",
     "iopub.status.idle": "2022-05-26T14:14:02.832442Z",
     "shell.execute_reply": "2022-05-26T14:14:02.831352Z"
    },
    "papermill": {
     "duration": 1.580428,
     "end_time": "2022-05-26T14:14:02.835046",
     "exception": false,
     "start_time": "2022-05-26T14:14:01.254618",
     "status": "completed"
    },
    "tags": []
   },
   "outputs": [],
   "source": [
    "# Import helpful libraries\n",
    "import pandas as pd\n",
    "import numpy as np\n",
    "from sklearn.ensemble import RandomForestRegressor\n",
    "from sklearn.metrics import mean_absolute_error\n",
    "from sklearn.model_selection import train_test_split\n",
    "\n",
    "# Load the data, and separate the target\n",
    "iowa_file_path = '../input/train.csv'\n",
    "home_data = pd.read_csv(iowa_file_path)\n",
    "\n",
    "# Test Data Loading\n",
    "test_data_path = '../input/test.csv'\n",
    "\n",
    "# read test data file using pandas\n",
    "test_data = pd.read_csv(test_data_path)\n",
    "\n",
    "y = home_data.SalePrice\n"
   ]
  },
  {
   "cell_type": "markdown",
   "id": "a7626171",
   "metadata": {
    "papermill": {
     "duration": 0.017715,
     "end_time": "2022-05-26T14:14:02.871956",
     "exception": false,
     "start_time": "2022-05-26T14:14:02.854241",
     "status": "completed"
    },
    "tags": []
   },
   "source": [
    "# Exploration"
   ]
  },
  {
   "cell_type": "code",
   "execution_count": 3,
   "id": "51f38be3",
   "metadata": {
    "execution": {
     "iopub.execute_input": "2022-05-26T14:14:02.909971Z",
     "iopub.status.busy": "2022-05-26T14:14:02.909479Z",
     "iopub.status.idle": "2022-05-26T14:14:02.931980Z",
     "shell.execute_reply": "2022-05-26T14:14:02.931286Z"
    },
    "papermill": {
     "duration": 0.044887,
     "end_time": "2022-05-26T14:14:02.934771",
     "exception": false,
     "start_time": "2022-05-26T14:14:02.889884",
     "status": "completed"
    },
    "tags": []
   },
   "outputs": [
    {
     "name": "stdout",
     "output_type": "stream",
     "text": [
      "   Id  MSSubClass MSZoning  LotFrontage  LotArea Street Alley LotShape  \\\n",
      "0   1          60       RL         65.0     8450   Pave   NaN      Reg   \n",
      "1   2          20       RL         80.0     9600   Pave   NaN      Reg   \n",
      "2   3          60       RL         68.0    11250   Pave   NaN      IR1   \n",
      "3   4          70       RL         60.0     9550   Pave   NaN      IR1   \n",
      "4   5          60       RL         84.0    14260   Pave   NaN      IR1   \n",
      "\n",
      "  LandContour Utilities  ... PoolArea PoolQC Fence MiscFeature MiscVal MoSold  \\\n",
      "0         Lvl    AllPub  ...        0    NaN   NaN         NaN       0      2   \n",
      "1         Lvl    AllPub  ...        0    NaN   NaN         NaN       0      5   \n",
      "2         Lvl    AllPub  ...        0    NaN   NaN         NaN       0      9   \n",
      "3         Lvl    AllPub  ...        0    NaN   NaN         NaN       0      2   \n",
      "4         Lvl    AllPub  ...        0    NaN   NaN         NaN       0     12   \n",
      "\n",
      "  YrSold  SaleType  SaleCondition  SalePrice  \n",
      "0   2008        WD         Normal     208500  \n",
      "1   2007        WD         Normal     181500  \n",
      "2   2008        WD         Normal     223500  \n",
      "3   2006        WD        Abnorml     140000  \n",
      "4   2008        WD         Normal     250000  \n",
      "\n",
      "[5 rows x 81 columns]\n",
      "(1460, 81)\n"
     ]
    }
   ],
   "source": [
    "print(home_data.head())\n",
    "print(home_data.shape)"
   ]
  },
  {
   "cell_type": "markdown",
   "id": "76725031",
   "metadata": {
    "papermill": {
     "duration": 0.01796,
     "end_time": "2022-05-26T14:14:02.971663",
     "exception": false,
     "start_time": "2022-05-26T14:14:02.953703",
     "status": "completed"
    },
    "tags": []
   },
   "source": [
    "> This dataset has 81 columns "
   ]
  },
  {
   "cell_type": "code",
   "execution_count": 4,
   "id": "05ad9637",
   "metadata": {
    "execution": {
     "iopub.execute_input": "2022-05-26T14:14:03.009959Z",
     "iopub.status.busy": "2022-05-26T14:14:03.009099Z",
     "iopub.status.idle": "2022-05-26T14:14:03.056227Z",
     "shell.execute_reply": "2022-05-26T14:14:03.055024Z"
    },
    "papermill": {
     "duration": 0.068663,
     "end_time": "2022-05-26T14:14:03.058467",
     "exception": false,
     "start_time": "2022-05-26T14:14:02.989804",
     "status": "completed"
    },
    "tags": []
   },
   "outputs": [
    {
     "data": {
      "text/html": [
       "<div>\n",
       "<style scoped>\n",
       "    .dataframe tbody tr th:only-of-type {\n",
       "        vertical-align: middle;\n",
       "    }\n",
       "\n",
       "    .dataframe tbody tr th {\n",
       "        vertical-align: top;\n",
       "    }\n",
       "\n",
       "    .dataframe thead th {\n",
       "        text-align: right;\n",
       "    }\n",
       "</style>\n",
       "<table border=\"1\" class=\"dataframe\">\n",
       "  <thead>\n",
       "    <tr style=\"text-align: right;\">\n",
       "      <th></th>\n",
       "      <th>Id</th>\n",
       "      <th>MSSubClass</th>\n",
       "      <th>MSZoning</th>\n",
       "      <th>LotFrontage</th>\n",
       "      <th>LotArea</th>\n",
       "      <th>Street</th>\n",
       "      <th>Alley</th>\n",
       "      <th>LotShape</th>\n",
       "      <th>LandContour</th>\n",
       "      <th>Utilities</th>\n",
       "      <th>...</th>\n",
       "      <th>PoolArea</th>\n",
       "      <th>PoolQC</th>\n",
       "      <th>Fence</th>\n",
       "      <th>MiscFeature</th>\n",
       "      <th>MiscVal</th>\n",
       "      <th>MoSold</th>\n",
       "      <th>YrSold</th>\n",
       "      <th>SaleType</th>\n",
       "      <th>SaleCondition</th>\n",
       "      <th>SalePrice</th>\n",
       "    </tr>\n",
       "  </thead>\n",
       "  <tbody>\n",
       "  </tbody>\n",
       "</table>\n",
       "<p>0 rows × 81 columns</p>\n",
       "</div>"
      ],
      "text/plain": [
       "Empty DataFrame\n",
       "Columns: [Id, MSSubClass, MSZoning, LotFrontage, LotArea, Street, Alley, LotShape, LandContour, Utilities, LotConfig, LandSlope, Neighborhood, Condition1, Condition2, BldgType, HouseStyle, OverallQual, OverallCond, YearBuilt, YearRemodAdd, RoofStyle, RoofMatl, Exterior1st, Exterior2nd, MasVnrType, MasVnrArea, ExterQual, ExterCond, Foundation, BsmtQual, BsmtCond, BsmtExposure, BsmtFinType1, BsmtFinSF1, BsmtFinType2, BsmtFinSF2, BsmtUnfSF, TotalBsmtSF, Heating, HeatingQC, CentralAir, Electrical, 1stFlrSF, 2ndFlrSF, LowQualFinSF, GrLivArea, BsmtFullBath, BsmtHalfBath, FullBath, HalfBath, BedroomAbvGr, KitchenAbvGr, KitchenQual, TotRmsAbvGrd, Functional, Fireplaces, FireplaceQu, GarageType, GarageYrBlt, GarageFinish, GarageCars, GarageArea, GarageQual, GarageCond, PavedDrive, WoodDeckSF, OpenPorchSF, EnclosedPorch, 3SsnPorch, ScreenPorch, PoolArea, PoolQC, Fence, MiscFeature, MiscVal, MoSold, YrSold, SaleType, SaleCondition, SalePrice]\n",
       "Index: []\n",
       "\n",
       "[0 rows x 81 columns]"
      ]
     },
     "execution_count": 4,
     "metadata": {},
     "output_type": "execute_result"
    }
   ],
   "source": [
    "home_data[home_data.duplicated()]"
   ]
  },
  {
   "cell_type": "markdown",
   "id": "77d68201",
   "metadata": {
    "papermill": {
     "duration": 0.017881,
     "end_time": "2022-05-26T14:14:03.094703",
     "exception": false,
     "start_time": "2022-05-26T14:14:03.076822",
     "status": "completed"
    },
    "tags": []
   },
   "source": [
    "> No Duplicate rows.\n",
    "\n",
    "> Id has no effect on price of homes"
   ]
  },
  {
   "cell_type": "code",
   "execution_count": 5,
   "id": "93de7129",
   "metadata": {
    "execution": {
     "iopub.execute_input": "2022-05-26T14:14:03.133696Z",
     "iopub.status.busy": "2022-05-26T14:14:03.133185Z",
     "iopub.status.idle": "2022-05-26T14:14:03.138097Z",
     "shell.execute_reply": "2022-05-26T14:14:03.137120Z"
    },
    "papermill": {
     "duration": 0.026992,
     "end_time": "2022-05-26T14:14:03.140153",
     "exception": false,
     "start_time": "2022-05-26T14:14:03.113161",
     "status": "completed"
    },
    "tags": []
   },
   "outputs": [],
   "source": [
    "test_data_Id = test_data.Id     # for submission format"
   ]
  },
  {
   "cell_type": "markdown",
   "id": "9e896439",
   "metadata": {
    "papermill": {
     "duration": 0.017873,
     "end_time": "2022-05-26T14:14:03.176402",
     "exception": false,
     "start_time": "2022-05-26T14:14:03.158529",
     "status": "completed"
    },
    "tags": []
   },
   "source": [
    "> to be used while submitting"
   ]
  },
  {
   "cell_type": "code",
   "execution_count": 6,
   "id": "5d5fbbfb",
   "metadata": {
    "execution": {
     "iopub.execute_input": "2022-05-26T14:14:03.214826Z",
     "iopub.status.busy": "2022-05-26T14:14:03.214351Z",
     "iopub.status.idle": "2022-05-26T14:14:03.223961Z",
     "shell.execute_reply": "2022-05-26T14:14:03.223259Z"
    },
    "papermill": {
     "duration": 0.031264,
     "end_time": "2022-05-26T14:14:03.225866",
     "exception": false,
     "start_time": "2022-05-26T14:14:03.194602",
     "status": "completed"
    },
    "tags": []
   },
   "outputs": [],
   "source": [
    "home_data.drop(['Id','SalePrice'], inplace=True, axis=1)\n",
    "home_data.head()\n",
    "test_data.drop('Id', inplace=True, axis=1)"
   ]
  },
  {
   "cell_type": "code",
   "execution_count": 7,
   "id": "a80ceba5",
   "metadata": {
    "execution": {
     "iopub.execute_input": "2022-05-26T14:14:03.265794Z",
     "iopub.status.busy": "2022-05-26T14:14:03.264843Z",
     "iopub.status.idle": "2022-05-26T14:14:03.270941Z",
     "shell.execute_reply": "2022-05-26T14:14:03.269555Z"
    },
    "papermill": {
     "duration": 0.028204,
     "end_time": "2022-05-26T14:14:03.273190",
     "exception": false,
     "start_time": "2022-05-26T14:14:03.244986",
     "status": "completed"
    },
    "tags": []
   },
   "outputs": [
    {
     "name": "stdout",
     "output_type": "stream",
     "text": [
      "(1460, 79)\n",
      "(1459, 79)\n"
     ]
    }
   ],
   "source": [
    "print(home_data.shape)\n",
    "print(test_data.shape)"
   ]
  },
  {
   "cell_type": "markdown",
   "id": "5bf9e40d",
   "metadata": {
    "papermill": {
     "duration": 0.018641,
     "end_time": "2022-05-26T14:14:03.310488",
     "exception": false,
     "start_time": "2022-05-26T14:14:03.291847",
     "status": "completed"
    },
    "tags": []
   },
   "source": [
    "# Checking Null Values"
   ]
  },
  {
   "cell_type": "code",
   "execution_count": 8,
   "id": "364e98b2",
   "metadata": {
    "execution": {
     "iopub.execute_input": "2022-05-26T14:14:03.348925Z",
     "iopub.status.busy": "2022-05-26T14:14:03.348450Z",
     "iopub.status.idle": "2022-05-26T14:14:03.376813Z",
     "shell.execute_reply": "2022-05-26T14:14:03.375598Z"
    },
    "papermill": {
     "duration": 0.05009,
     "end_time": "2022-05-26T14:14:03.378918",
     "exception": false,
     "start_time": "2022-05-26T14:14:03.328828",
     "status": "completed"
    },
    "tags": []
   },
   "outputs": [
    {
     "name": "stdout",
     "output_type": "stream",
     "text": [
      "['LotFrontage', 'Alley', 'MasVnrType', 'MasVnrArea', 'BsmtQual', 'BsmtCond', 'BsmtExposure', 'BsmtFinType1', 'BsmtFinType2', 'Electrical', 'FireplaceQu', 'GarageType', 'GarageYrBlt', 'GarageFinish', 'GarageQual', 'GarageCond', 'PoolQC', 'Fence', 'MiscFeature']\n"
     ]
    }
   ],
   "source": [
    "cols_with_missing = [col for col in home_data.columns \n",
    "                                 if home_data[col].isnull().any()]  \n",
    "print(cols_with_missing)"
   ]
  },
  {
   "cell_type": "markdown",
   "id": "affb188d",
   "metadata": {
    "papermill": {
     "duration": 0.018098,
     "end_time": "2022-05-26T14:14:03.415568",
     "exception": false,
     "start_time": "2022-05-26T14:14:03.397470",
     "status": "completed"
    },
    "tags": []
   },
   "source": [
    "#### Column name with number of missing values"
   ]
  },
  {
   "cell_type": "code",
   "execution_count": 9,
   "id": "5db5586e",
   "metadata": {
    "execution": {
     "iopub.execute_input": "2022-05-26T14:14:03.453876Z",
     "iopub.status.busy": "2022-05-26T14:14:03.453424Z",
     "iopub.status.idle": "2022-05-26T14:14:03.467102Z",
     "shell.execute_reply": "2022-05-26T14:14:03.466076Z"
    },
    "papermill": {
     "duration": 0.035509,
     "end_time": "2022-05-26T14:14:03.469271",
     "exception": false,
     "start_time": "2022-05-26T14:14:03.433762",
     "status": "completed"
    },
    "tags": []
   },
   "outputs": [
    {
     "name": "stdout",
     "output_type": "stream",
     "text": [
      "LotFrontage          259\n",
      "Alley                1369\n",
      "MasVnrType           8\n",
      "MasVnrArea           8\n",
      "BsmtQual             37\n",
      "BsmtCond             37\n",
      "BsmtExposure         38\n",
      "BsmtFinType1         37\n",
      "BsmtFinType2         38\n",
      "Electrical           1\n",
      "FireplaceQu          690\n",
      "GarageType           81\n",
      "GarageYrBlt          81\n",
      "GarageFinish         81\n",
      "GarageQual           81\n",
      "GarageCond           81\n",
      "PoolQC               1453\n",
      "Fence                1179\n",
      "MiscFeature          1406\n"
     ]
    }
   ],
   "source": [
    "for col_name in cols_with_missing:\n",
    "    print('{:20s} {}'.format(col_name, home_data[col_name].isnull().sum()))"
   ]
  },
  {
   "cell_type": "markdown",
   "id": "233dcd49",
   "metadata": {
    "papermill": {
     "duration": 0.018043,
     "end_time": "2022-05-26T14:14:03.506598",
     "exception": false,
     "start_time": "2022-05-26T14:14:03.488555",
     "status": "completed"
    },
    "tags": []
   },
   "source": [
    "> PoolQC, MiscFeature, Fence, Alley has more than 1000 missing values out of 1460. We can drop them since the model will be highly biased by replacement of these null values"
   ]
  },
  {
   "cell_type": "markdown",
   "id": "37d67fed",
   "metadata": {
    "papermill": {
     "duration": 0.018082,
     "end_time": "2022-05-26T14:14:03.543080",
     "exception": false,
     "start_time": "2022-05-26T14:14:03.524998",
     "status": "completed"
    },
    "tags": []
   },
   "source": [
    "# Removing Highly biased Columns"
   ]
  },
  {
   "cell_type": "code",
   "execution_count": 10,
   "id": "710c7eb3",
   "metadata": {
    "execution": {
     "iopub.execute_input": "2022-05-26T14:14:03.581731Z",
     "iopub.status.busy": "2022-05-26T14:14:03.581242Z",
     "iopub.status.idle": "2022-05-26T14:14:03.586257Z",
     "shell.execute_reply": "2022-05-26T14:14:03.585335Z"
    },
    "papermill": {
     "duration": 0.026873,
     "end_time": "2022-05-26T14:14:03.588449",
     "exception": false,
     "start_time": "2022-05-26T14:14:03.561576",
     "status": "completed"
    },
    "tags": []
   },
   "outputs": [
    {
     "name": "stdout",
     "output_type": "stream",
     "text": [
      "(1460, 79)\n"
     ]
    }
   ],
   "source": [
    "print(home_data.shape)"
   ]
  },
  {
   "cell_type": "code",
   "execution_count": 11,
   "id": "5d7d548e",
   "metadata": {
    "execution": {
     "iopub.execute_input": "2022-05-26T14:14:03.627837Z",
     "iopub.status.busy": "2022-05-26T14:14:03.627382Z",
     "iopub.status.idle": "2022-05-26T14:14:03.637786Z",
     "shell.execute_reply": "2022-05-26T14:14:03.636833Z"
    },
    "papermill": {
     "duration": 0.032786,
     "end_time": "2022-05-26T14:14:03.640013",
     "exception": false,
     "start_time": "2022-05-26T14:14:03.607227",
     "status": "completed"
    },
    "tags": []
   },
   "outputs": [
    {
     "name": "stdout",
     "output_type": "stream",
     "text": [
      "(1460, 76)\n",
      "(1459, 76)\n"
     ]
    }
   ],
   "source": [
    "home_data.drop(['Alley', 'PoolQC', 'MiscFeature'], inplace = True, axis = 1)\n",
    "print(home_data.shape)\n",
    "test_data.drop(['Alley', 'PoolQC', 'MiscFeature'], inplace = True, axis = 1)\n",
    "print(test_data.shape)"
   ]
  },
  {
   "cell_type": "markdown",
   "id": "ae3083ee",
   "metadata": {
    "papermill": {
     "duration": 0.018688,
     "end_time": "2022-05-26T14:14:03.677740",
     "exception": false,
     "start_time": "2022-05-26T14:14:03.659052",
     "status": "completed"
    },
    "tags": []
   },
   "source": [
    "# Checking dtypes"
   ]
  },
  {
   "cell_type": "code",
   "execution_count": 12,
   "id": "d66dbecb",
   "metadata": {
    "execution": {
     "iopub.execute_input": "2022-05-26T14:14:03.717019Z",
     "iopub.status.busy": "2022-05-26T14:14:03.716594Z",
     "iopub.status.idle": "2022-05-26T14:14:03.727790Z",
     "shell.execute_reply": "2022-05-26T14:14:03.726810Z"
    },
    "papermill": {
     "duration": 0.033406,
     "end_time": "2022-05-26T14:14:03.729818",
     "exception": false,
     "start_time": "2022-05-26T14:14:03.696412",
     "status": "completed"
    },
    "tags": []
   },
   "outputs": [
    {
     "name": "stdout",
     "output_type": "stream",
     "text": [
      "Home Data\n",
      "object     40\n",
      "int64      33\n",
      "float64     3\n",
      "dtype: int64\n",
      "--------------------------------------\n",
      "Test Data\n",
      "object     40\n",
      "int64      25\n",
      "float64    11\n",
      "dtype: int64\n"
     ]
    }
   ],
   "source": [
    "print(\"Home Data\")\n",
    "print(home_data.dtypes.value_counts())\n",
    "print(\"--------------------------------------\")\n",
    "print('Test Data')\n",
    "print(test_data.dtypes.value_counts())"
   ]
  },
  {
   "cell_type": "markdown",
   "id": "e0f56a41",
   "metadata": {
    "papermill": {
     "duration": 0.018351,
     "end_time": "2022-05-26T14:14:03.767052",
     "exception": false,
     "start_time": "2022-05-26T14:14:03.748701",
     "status": "completed"
    },
    "tags": []
   },
   "source": [
    "> Now we need to see which object type variables can we convert to other datatypes"
   ]
  },
  {
   "cell_type": "code",
   "execution_count": 13,
   "id": "39c1cd6a",
   "metadata": {
    "execution": {
     "iopub.execute_input": "2022-05-26T14:14:03.806737Z",
     "iopub.status.busy": "2022-05-26T14:14:03.806221Z",
     "iopub.status.idle": "2022-05-26T14:14:03.821677Z",
     "shell.execute_reply": "2022-05-26T14:14:03.820544Z"
    },
    "papermill": {
     "duration": 0.03806,
     "end_time": "2022-05-26T14:14:03.823822",
     "exception": false,
     "start_time": "2022-05-26T14:14:03.785762",
     "status": "completed"
    },
    "tags": []
   },
   "outputs": [
    {
     "name": "stdout",
     "output_type": "stream",
     "text": [
      "['MSZoning', 'Street', 'LotShape', 'LandContour', 'Utilities', 'LotConfig', 'LandSlope', 'Neighborhood', 'Condition1', 'Condition2', 'BldgType', 'HouseStyle', 'RoofStyle', 'RoofMatl', 'Exterior1st', 'Exterior2nd', 'MasVnrType', 'ExterQual', 'ExterCond', 'Foundation', 'BsmtQual', 'BsmtCond', 'BsmtExposure', 'BsmtFinType1', 'BsmtFinType2', 'Heating', 'HeatingQC', 'CentralAir', 'Electrical', 'KitchenQual', 'Functional', 'FireplaceQu', 'GarageType', 'GarageFinish', 'GarageQual', 'GarageCond', 'PavedDrive', 'Fence', 'SaleType', 'SaleCondition']\n",
      "-------------------------------------------------------------------------------------------\n",
      "['MSZoning', 'Street', 'LotShape', 'LandContour', 'Utilities', 'LotConfig', 'LandSlope', 'Neighborhood', 'Condition1', 'Condition2', 'BldgType', 'HouseStyle', 'RoofStyle', 'RoofMatl', 'Exterior1st', 'Exterior2nd', 'MasVnrType', 'ExterQual', 'ExterCond', 'Foundation', 'BsmtQual', 'BsmtCond', 'BsmtExposure', 'BsmtFinType1', 'BsmtFinType2', 'Heating', 'HeatingQC', 'CentralAir', 'Electrical', 'KitchenQual', 'Functional', 'FireplaceQu', 'GarageType', 'GarageFinish', 'GarageQual', 'GarageCond', 'PavedDrive', 'Fence', 'SaleType', 'SaleCondition']\n"
     ]
    }
   ],
   "source": [
    "cols_with_obj_dtype_HD = [col for col in home_data.columns \n",
    "                                 if home_data[col].dtype =='object']  \n",
    "print(cols_with_obj_dtype_HD)\n",
    "print('-------------------------------------------------------------------------------------------')\n",
    "cols_with_obj_dtype_TD = [col for col in test_data.columns \n",
    "                                 if test_data[col].dtype =='object']  \n",
    "print(cols_with_obj_dtype_TD)"
   ]
  },
  {
   "cell_type": "code",
   "execution_count": 14,
   "id": "1ced8862",
   "metadata": {
    "execution": {
     "iopub.execute_input": "2022-05-26T14:14:03.863900Z",
     "iopub.status.busy": "2022-05-26T14:14:03.863470Z",
     "iopub.status.idle": "2022-05-26T14:14:03.868342Z",
     "shell.execute_reply": "2022-05-26T14:14:03.867563Z"
    },
    "papermill": {
     "duration": 0.028128,
     "end_time": "2022-05-26T14:14:03.871071",
     "exception": false,
     "start_time": "2022-05-26T14:14:03.842943",
     "status": "completed"
    },
    "tags": []
   },
   "outputs": [
    {
     "name": "stdout",
     "output_type": "stream",
     "text": [
      "True\n"
     ]
    }
   ],
   "source": [
    "print(np.array_equal(cols_with_obj_dtype_HD,cols_with_obj_dtype_TD))"
   ]
  },
  {
   "cell_type": "markdown",
   "id": "9787e6e5",
   "metadata": {
    "papermill": {
     "duration": 0.018905,
     "end_time": "2022-05-26T14:14:03.910007",
     "exception": false,
     "start_time": "2022-05-26T14:14:03.891102",
     "status": "completed"
    },
    "tags": []
   },
   "source": [
    "> So both arrays have same columns as 'object datatype'"
   ]
  },
  {
   "cell_type": "markdown",
   "id": "0a9e4613",
   "metadata": {
    "papermill": {
     "duration": 0.018625,
     "end_time": "2022-05-26T14:14:03.947494",
     "exception": false,
     "start_time": "2022-05-26T14:14:03.928869",
     "status": "completed"
    },
    "tags": []
   },
   "source": [
    "Now Exploring these object dtypes"
   ]
  },
  {
   "cell_type": "code",
   "execution_count": 15,
   "id": "2d2281ec",
   "metadata": {
    "execution": {
     "iopub.execute_input": "2022-05-26T14:14:03.987849Z",
     "iopub.status.busy": "2022-05-26T14:14:03.987415Z",
     "iopub.status.idle": "2022-05-26T14:14:04.009144Z",
     "shell.execute_reply": "2022-05-26T14:14:04.008341Z"
    },
    "papermill": {
     "duration": 0.045378,
     "end_time": "2022-05-26T14:14:04.011786",
     "exception": false,
     "start_time": "2022-05-26T14:14:03.966408",
     "status": "completed"
    },
    "tags": []
   },
   "outputs": [
    {
     "name": "stdout",
     "output_type": "stream",
     "text": [
      "Column Name     Categories in home_data        Categories in test_data\n",
      "MSZoning                      5                         5\n",
      "Street                        2                         2\n",
      "LotShape                      4                         4\n",
      "LandContour                   4                         4\n",
      "Utilities                     2                         1\n",
      "LotConfig                     5                         5\n",
      "LandSlope                     3                         3\n",
      "Neighborhood                 25                        25\n",
      "Condition1                    9                         9\n",
      "Condition2                    8                         5\n",
      "BldgType                      5                         5\n",
      "HouseStyle                    8                         7\n",
      "RoofStyle                     6                         6\n",
      "RoofMatl                      8                         4\n",
      "Exterior1st                  15                        13\n",
      "Exterior2nd                  16                        15\n",
      "MasVnrType                    4                         4\n",
      "ExterQual                     4                         4\n",
      "ExterCond                     5                         5\n",
      "Foundation                    6                         6\n",
      "BsmtQual                      4                         4\n",
      "BsmtCond                      4                         4\n",
      "BsmtExposure                  4                         4\n",
      "BsmtFinType1                  6                         6\n",
      "BsmtFinType2                  6                         6\n",
      "Heating                       6                         4\n",
      "HeatingQC                     5                         5\n",
      "CentralAir                    2                         2\n",
      "Electrical                    5                         4\n",
      "KitchenQual                   4                         4\n",
      "Functional                    7                         7\n",
      "FireplaceQu                   5                         5\n",
      "GarageType                    6                         6\n",
      "GarageFinish                  3                         3\n",
      "GarageQual                    5                         4\n",
      "GarageCond                    5                         5\n",
      "PavedDrive                    3                         3\n",
      "Fence                         4                         4\n",
      "SaleType                      9                         9\n",
      "SaleCondition                 6                         6\n"
     ]
    }
   ],
   "source": [
    "print('{:15s} {:30s} {}'.format('Column Name', 'Categories in home_data', 'Categories in test_data'))\n",
    "for col_name in cols_with_obj_dtype_HD:\n",
    "    print('{:20s} {:10d} {:25d}'.format(col_name, home_data[col_name].nunique(), test_data[col_name].nunique()))\n"
   ]
  },
  {
   "cell_type": "markdown",
   "id": "4bbdbff7",
   "metadata": {
    "papermill": {
     "duration": 0.019238,
     "end_time": "2022-05-26T14:14:04.050817",
     "exception": false,
     "start_time": "2022-05-26T14:14:04.031579",
     "status": "completed"
    },
    "tags": []
   },
   "source": [
    "## Set with null values columns removed"
   ]
  },
  {
   "cell_type": "code",
   "execution_count": 16,
   "id": "38201187",
   "metadata": {
    "execution": {
     "iopub.execute_input": "2022-05-26T14:14:04.090944Z",
     "iopub.status.busy": "2022-05-26T14:14:04.090202Z",
     "iopub.status.idle": "2022-05-26T14:14:04.113852Z",
     "shell.execute_reply": "2022-05-26T14:14:04.112872Z"
    },
    "papermill": {
     "duration": 0.046063,
     "end_time": "2022-05-26T14:14:04.115971",
     "exception": false,
     "start_time": "2022-05-26T14:14:04.069908",
     "status": "completed"
    },
    "tags": []
   },
   "outputs": [
    {
     "name": "stdout",
     "output_type": "stream",
     "text": [
      "['LotFrontage', 'MasVnrType', 'MasVnrArea', 'BsmtQual', 'BsmtCond', 'BsmtExposure', 'BsmtFinType1', 'BsmtFinType2', 'Electrical', 'FireplaceQu', 'GarageType', 'GarageYrBlt', 'GarageFinish', 'GarageQual', 'GarageCond', 'Fence']\n"
     ]
    }
   ],
   "source": [
    "cols_with_missing = [col for col in home_data.columns \n",
    "                                 if home_data[col].isnull().any()]  \n",
    "print(cols_with_missing)"
   ]
  },
  {
   "cell_type": "code",
   "execution_count": 17,
   "id": "96626f2a",
   "metadata": {
    "execution": {
     "iopub.execute_input": "2022-05-26T14:14:04.156099Z",
     "iopub.status.busy": "2022-05-26T14:14:04.155663Z",
     "iopub.status.idle": "2022-05-26T14:14:04.165334Z",
     "shell.execute_reply": "2022-05-26T14:14:04.164261Z"
    },
    "papermill": {
     "duration": 0.033025,
     "end_time": "2022-05-26T14:14:04.168210",
     "exception": false,
     "start_time": "2022-05-26T14:14:04.135185",
     "status": "completed"
    },
    "tags": []
   },
   "outputs": [
    {
     "name": "stdout",
     "output_type": "stream",
     "text": [
      "(1460, 60)\n",
      "(1459, 60)\n"
     ]
    }
   ],
   "source": [
    "new_home_data = home_data.drop(cols_with_missing, axis=1)  \n",
    "print(new_home_data.shape)\n",
    "new_test_data = test_data.drop(cols_with_missing, axis=1)\n",
    "print(new_test_data.shape)"
   ]
  },
  {
   "cell_type": "markdown",
   "id": "43b9a16d",
   "metadata": {
    "papermill": {
     "duration": 0.019057,
     "end_time": "2022-05-26T14:14:04.207550",
     "exception": false,
     "start_time": "2022-05-26T14:14:04.188493",
     "status": "completed"
    },
    "tags": []
   },
   "source": [
    "> In this we are simply removing the columns with missing values. Might not be a good strategy. Therefore new dataset created."
   ]
  },
  {
   "cell_type": "markdown",
   "id": "67deebe6",
   "metadata": {
    "papermill": {
     "duration": 0.019038,
     "end_time": "2022-05-26T14:14:04.246627",
     "exception": false,
     "start_time": "2022-05-26T14:14:04.227589",
     "status": "completed"
    },
    "tags": []
   },
   "source": [
    "# Replacing null values by mode"
   ]
  },
  {
   "cell_type": "code",
   "execution_count": 18,
   "id": "a9cb34e3",
   "metadata": {
    "execution": {
     "iopub.execute_input": "2022-05-26T14:14:04.287080Z",
     "iopub.status.busy": "2022-05-26T14:14:04.286218Z",
     "iopub.status.idle": "2022-05-26T14:14:04.356421Z",
     "shell.execute_reply": "2022-05-26T14:14:04.355346Z"
    },
    "papermill": {
     "duration": 0.093234,
     "end_time": "2022-05-26T14:14:04.359017",
     "exception": false,
     "start_time": "2022-05-26T14:14:04.265783",
     "status": "completed"
    },
    "tags": []
   },
   "outputs": [],
   "source": [
    "for col_name in cols_with_missing:\n",
    "    if home_data[col_name].dtype == 'object':\n",
    "        home_data[col_name] = home_data[col_name].fillna(home_data[col_name].mode()[0])\n",
    "    elif home_data[col_name].dtype in ['int64','float64']:\n",
    "        home_data[col_name] = home_data[col_name].fillna(home_data[col_name].median())        \n",
    "        \n",
    "for col_name in test_data.columns:\n",
    "    if test_data[col_name].isnull().sum().any():\n",
    "        if test_data[col_name].dtype == 'object':\n",
    "            test_data[col_name] = test_data[col_name].fillna(test_data[col_name].mode()[0])\n",
    "        elif test_data[col_name].dtype in ['int64','float64']:\n",
    "            test_data[col_name] = test_data[col_name].fillna(test_data[col_name].median()) "
   ]
  },
  {
   "cell_type": "code",
   "execution_count": 19,
   "id": "23f18fa7",
   "metadata": {
    "execution": {
     "iopub.execute_input": "2022-05-26T14:14:04.399750Z",
     "iopub.status.busy": "2022-05-26T14:14:04.398948Z",
     "iopub.status.idle": "2022-05-26T14:14:04.422932Z",
     "shell.execute_reply": "2022-05-26T14:14:04.421670Z"
    },
    "papermill": {
     "duration": 0.047138,
     "end_time": "2022-05-26T14:14:04.425493",
     "exception": false,
     "start_time": "2022-05-26T14:14:04.378355",
     "status": "completed"
    },
    "tags": []
   },
   "outputs": [
    {
     "name": "stdout",
     "output_type": "stream",
     "text": [
      "False\n",
      "False\n"
     ]
    }
   ],
   "source": [
    "print(home_data.isnull().sum().any())\n",
    "print(test_data.isnull().sum().any())"
   ]
  },
  {
   "cell_type": "markdown",
   "id": "3a431d6d",
   "metadata": {
    "papermill": {
     "duration": 0.019011,
     "end_time": "2022-05-26T14:14:04.463966",
     "exception": false,
     "start_time": "2022-05-26T14:14:04.444955",
     "status": "completed"
    },
    "tags": []
   },
   "source": [
    "> No null values remaining in our dataset"
   ]
  },
  {
   "cell_type": "markdown",
   "id": "6c641b7d",
   "metadata": {
    "papermill": {
     "duration": 0.018613,
     "end_time": "2022-05-26T14:14:04.501727",
     "exception": false,
     "start_time": "2022-05-26T14:14:04.483114",
     "status": "completed"
    },
    "tags": []
   },
   "source": [
    "# Columns to be considered for encoding"
   ]
  },
  {
   "cell_type": "code",
   "execution_count": 20,
   "id": "24013647",
   "metadata": {
    "execution": {
     "iopub.execute_input": "2022-05-26T14:14:04.542711Z",
     "iopub.status.busy": "2022-05-26T14:14:04.541471Z",
     "iopub.status.idle": "2022-05-26T14:14:04.546673Z",
     "shell.execute_reply": "2022-05-26T14:14:04.545740Z"
    },
    "papermill": {
     "duration": 0.027803,
     "end_time": "2022-05-26T14:14:04.548549",
     "exception": false,
     "start_time": "2022-05-26T14:14:04.520746",
     "status": "completed"
    },
    "tags": []
   },
   "outputs": [],
   "source": [
    "#low_cardinality_cols = [cname for cname in home_data.columns if \n",
    "#                                home_data[cname].nunique() < 10 and\n",
    "#                                home_data[cname].dtype == \"object\"]\n",
    "#print(low_cardinality_cols)\n",
    "\n",
    "#for col in low_cardinality_cols:\n",
    "#    print(col)\n",
    "#    print(home_data[col].value_counts())\n",
    "\n",
    "#numeric_cols = [cname for cname in home_data.columns if \n",
    "#                                home_data[cname].dtype in ['int64', 'float64']]\n",
    "#my_cols = low_cardinality_cols + numeric_cols       # my_cols represents the columns you will use in model for predictions\n",
    "#train_predictors = home_data[my_cols]\n",
    "#print('-------------------------------------------')\n",
    "#print(train_predictors.shape)"
   ]
  },
  {
   "cell_type": "code",
   "execution_count": 21,
   "id": "6ee07155",
   "metadata": {
    "execution": {
     "iopub.execute_input": "2022-05-26T14:14:04.588865Z",
     "iopub.status.busy": "2022-05-26T14:14:04.587947Z",
     "iopub.status.idle": "2022-05-26T14:14:04.593676Z",
     "shell.execute_reply": "2022-05-26T14:14:04.592691Z"
    },
    "papermill": {
     "duration": 0.028574,
     "end_time": "2022-05-26T14:14:04.596210",
     "exception": false,
     "start_time": "2022-05-26T14:14:04.567636",
     "status": "completed"
    },
    "tags": []
   },
   "outputs": [
    {
     "name": "stdout",
     "output_type": "stream",
     "text": [
      "(1459, 76)\n",
      "-------------------------------------------\n",
      "(1459, 76)\n"
     ]
    }
   ],
   "source": [
    "print(test_data.shape)\n",
    "train_predictors = home_data\n",
    "test_predictors = test_data\n",
    "print('-------------------------------------------')\n",
    "print(test_predictors.shape)"
   ]
  },
  {
   "cell_type": "markdown",
   "id": "2ff0b50b",
   "metadata": {
    "papermill": {
     "duration": 0.019072,
     "end_time": "2022-05-26T14:14:04.635820",
     "exception": false,
     "start_time": "2022-05-26T14:14:04.616748",
     "status": "completed"
    },
    "tags": []
   },
   "source": [
    "# Encoding with Column Transformer"
   ]
  },
  {
   "cell_type": "code",
   "execution_count": 22,
   "id": "89b2c6b2",
   "metadata": {
    "execution": {
     "iopub.execute_input": "2022-05-26T14:14:04.676663Z",
     "iopub.status.busy": "2022-05-26T14:14:04.676202Z",
     "iopub.status.idle": "2022-05-26T14:14:04.686016Z",
     "shell.execute_reply": "2022-05-26T14:14:04.685169Z"
    },
    "papermill": {
     "duration": 0.032752,
     "end_time": "2022-05-26T14:14:04.688173",
     "exception": false,
     "start_time": "2022-05-26T14:14:04.655421",
     "status": "completed"
    },
    "tags": []
   },
   "outputs": [
    {
     "data": {
      "text/plain": [
       "Index(['MSZoning', 'Street', 'LotShape', 'LandContour', 'Utilities',\n",
       "       'LotConfig', 'LandSlope', 'Neighborhood', 'Condition1', 'Condition2',\n",
       "       'BldgType', 'HouseStyle', 'RoofStyle', 'RoofMatl', 'Exterior1st',\n",
       "       'Exterior2nd', 'MasVnrType', 'ExterQual', 'ExterCond', 'Foundation',\n",
       "       'BsmtQual', 'BsmtCond', 'BsmtExposure', 'BsmtFinType1', 'BsmtFinType2',\n",
       "       'Heating', 'HeatingQC', 'CentralAir', 'Electrical', 'KitchenQual',\n",
       "       'Functional', 'FireplaceQu', 'GarageType', 'GarageFinish', 'GarageQual',\n",
       "       'GarageCond', 'PavedDrive', 'Fence', 'SaleType', 'SaleCondition'],\n",
       "      dtype='object')"
      ]
     },
     "execution_count": 22,
     "metadata": {},
     "output_type": "execute_result"
    }
   ],
   "source": [
    "# checking features\n",
    "cat = train_predictors.select_dtypes(include='O').keys()\n",
    "# display variabels\n",
    "cat"
   ]
  },
  {
   "cell_type": "markdown",
   "id": "e9d99225",
   "metadata": {
    "papermill": {
     "duration": 0.019152,
     "end_time": "2022-05-26T14:14:04.726872",
     "exception": false,
     "start_time": "2022-05-26T14:14:04.707720",
     "status": "completed"
    },
    "tags": []
   },
   "source": [
    "> Features to be encoded"
   ]
  },
  {
   "cell_type": "code",
   "execution_count": 23,
   "id": "553d2a9d",
   "metadata": {
    "execution": {
     "iopub.execute_input": "2022-05-26T14:14:04.769427Z",
     "iopub.status.busy": "2022-05-26T14:14:04.768923Z",
     "iopub.status.idle": "2022-05-26T14:14:04.878319Z",
     "shell.execute_reply": "2022-05-26T14:14:04.876896Z"
    },
    "papermill": {
     "duration": 0.133509,
     "end_time": "2022-05-26T14:14:04.880991",
     "exception": false,
     "start_time": "2022-05-26T14:14:04.747482",
     "status": "completed"
    },
    "tags": []
   },
   "outputs": [
    {
     "name": "stdout",
     "output_type": "stream",
     "text": [
      "(1460, 76)\n",
      "(1460, 239)\n",
      "(1459, 239)\n"
     ]
    }
   ],
   "source": [
    "print(train_predictors.shape)\n",
    "from sklearn.compose import ColumnTransformer\n",
    "from sklearn.preprocessing import OneHotEncoder\n",
    "transformer = ColumnTransformer(transformers=[('cat', OneHotEncoder(categories = \"auto\", handle_unknown = 'ignore', drop='first', sparse=False), cat)], remainder='passthrough')\n",
    "train_encoded = transformer.fit_transform(train_predictors)\n",
    "print(train_encoded.shape)\n",
    "test_encoded = transformer.transform(test_predictors)\n",
    "print(test_encoded.shape)"
   ]
  },
  {
   "cell_type": "markdown",
   "id": "79433ba1",
   "metadata": {
    "papermill": {
     "duration": 0.019559,
     "end_time": "2022-05-26T14:14:04.921523",
     "exception": false,
     "start_time": "2022-05-26T14:14:04.901964",
     "status": "completed"
    },
    "tags": []
   },
   "source": [
    "### For New table"
   ]
  },
  {
   "cell_type": "code",
   "execution_count": 24,
   "id": "f2e48568",
   "metadata": {
    "execution": {
     "iopub.execute_input": "2022-05-26T14:14:04.963438Z",
     "iopub.status.busy": "2022-05-26T14:14:04.962965Z",
     "iopub.status.idle": "2022-05-26T14:14:04.971227Z",
     "shell.execute_reply": "2022-05-26T14:14:04.970498Z"
    },
    "papermill": {
     "duration": 0.032162,
     "end_time": "2022-05-26T14:14:04.973298",
     "exception": false,
     "start_time": "2022-05-26T14:14:04.941136",
     "status": "completed"
    },
    "tags": []
   },
   "outputs": [
    {
     "name": "stdout",
     "output_type": "stream",
     "text": [
      "Index(['MSZoning', 'Street', 'LotShape', 'LandContour', 'Utilities',\n",
      "       'LotConfig', 'LandSlope', 'Neighborhood', 'Condition1', 'Condition2',\n",
      "       'BldgType', 'HouseStyle', 'RoofStyle', 'RoofMatl', 'Exterior1st',\n",
      "       'Exterior2nd', 'ExterQual', 'ExterCond', 'Foundation', 'Heating',\n",
      "       'HeatingQC', 'CentralAir', 'KitchenQual', 'Functional', 'PavedDrive',\n",
      "       'SaleType', 'SaleCondition'],\n",
      "      dtype='object')\n"
     ]
    }
   ],
   "source": [
    "cat_n = new_home_data.select_dtypes(include='O').keys()\n",
    "print(cat_n)"
   ]
  },
  {
   "cell_type": "code",
   "execution_count": 25,
   "id": "f77694a2",
   "metadata": {
    "execution": {
     "iopub.execute_input": "2022-05-26T14:14:05.015803Z",
     "iopub.status.busy": "2022-05-26T14:14:05.015299Z",
     "iopub.status.idle": "2022-05-26T14:14:05.020067Z",
     "shell.execute_reply": "2022-05-26T14:14:05.018930Z"
    },
    "papermill": {
     "duration": 0.028305,
     "end_time": "2022-05-26T14:14:05.022199",
     "exception": false,
     "start_time": "2022-05-26T14:14:04.993894",
     "status": "completed"
    },
    "tags": []
   },
   "outputs": [],
   "source": [
    "#print(new_home_data.shape)\n",
    "#new_ct = ColumnTransformer(transformers=[('cat', OneHotEncoder(categories = \"auto\", handle_unknown = 'ignore', drop='first', sparse=False), cat_n)], remainder='passthrough')\n",
    "#new_train_encoded = transformer.fit_transform(new_home_data)\n",
    "#print(new_train_encoded.shape)\n",
    "#new_test_encoded = transformer.transform(new_test_data)\n",
    "#print(new_test_encoded.shape)"
   ]
  },
  {
   "cell_type": "markdown",
   "id": "6106fc3e",
   "metadata": {
    "papermill": {
     "duration": 0.019667,
     "end_time": "2022-05-26T14:14:05.062233",
     "exception": false,
     "start_time": "2022-05-26T14:14:05.042566",
     "status": "completed"
    },
    "tags": []
   },
   "source": [
    "# Feature Scaling"
   ]
  },
  {
   "cell_type": "markdown",
   "id": "1567cafe",
   "metadata": {
    "papermill": {
     "duration": 0.0194,
     "end_time": "2022-05-26T14:14:05.101508",
     "exception": false,
     "start_time": "2022-05-26T14:14:05.082108",
     "status": "completed"
    },
    "tags": []
   },
   "source": [
    "> Scaling not required for Random Forest Algorithm"
   ]
  },
  {
   "cell_type": "markdown",
   "id": "81e6e136",
   "metadata": {
    "papermill": {
     "duration": 0.019358,
     "end_time": "2022-05-26T14:14:05.140521",
     "exception": false,
     "start_time": "2022-05-26T14:14:05.121163",
     "status": "completed"
    },
    "tags": []
   },
   "source": [
    "# Splitting Datasets"
   ]
  },
  {
   "cell_type": "code",
   "execution_count": 26,
   "id": "8d6757a6",
   "metadata": {
    "execution": {
     "iopub.execute_input": "2022-05-26T14:14:05.182026Z",
     "iopub.status.busy": "2022-05-26T14:14:05.181212Z",
     "iopub.status.idle": "2022-05-26T14:14:05.189077Z",
     "shell.execute_reply": "2022-05-26T14:14:05.188077Z"
    },
    "papermill": {
     "duration": 0.031068,
     "end_time": "2022-05-26T14:14:05.191194",
     "exception": false,
     "start_time": "2022-05-26T14:14:05.160126",
     "status": "completed"
    },
    "tags": []
   },
   "outputs": [],
   "source": [
    "train_X, test_X, train_y, test_y = train_test_split(train_encoded, y, random_state=1)\n",
    "#train_Xn, test_Xn, train_yn, test_yn = train_test_split(new_train_encoded, y, random_state=1)"
   ]
  },
  {
   "cell_type": "markdown",
   "id": "60294cfe",
   "metadata": {
    "papermill": {
     "duration": 0.019652,
     "end_time": "2022-05-26T14:14:05.230639",
     "exception": false,
     "start_time": "2022-05-26T14:14:05.210987",
     "status": "completed"
    },
    "tags": []
   },
   "source": [
    "# Training model"
   ]
  },
  {
   "cell_type": "markdown",
   "id": "eda4e4da",
   "metadata": {
    "papermill": {
     "duration": 0.019172,
     "end_time": "2022-05-26T14:14:05.269362",
     "exception": false,
     "start_time": "2022-05-26T14:14:05.250190",
     "status": "completed"
    },
    "tags": []
   },
   "source": [
    "# Null values removed dataset"
   ]
  },
  {
   "cell_type": "code",
   "execution_count": 27,
   "id": "49ee50df",
   "metadata": {
    "execution": {
     "iopub.execute_input": "2022-05-26T14:14:05.310210Z",
     "iopub.status.busy": "2022-05-26T14:14:05.309776Z",
     "iopub.status.idle": "2022-05-26T14:14:05.313864Z",
     "shell.execute_reply": "2022-05-26T14:14:05.313119Z"
    },
    "papermill": {
     "duration": 0.026904,
     "end_time": "2022-05-26T14:14:05.315710",
     "exception": false,
     "start_time": "2022-05-26T14:14:05.288806",
     "status": "completed"
    },
    "tags": []
   },
   "outputs": [],
   "source": [
    "#reg_n = RandomForestRegressor(random_state=1)\n",
    "#reg_n.fit(train_Xn, train_yn)\n",
    "#reg_n_predictions = reg_n.predict(test_Xn)\n",
    "#reg_n_val_mae = mean_absolute_error(reg_n_predictions, test_yn)\n",
    "\n",
    "#print(\"Validation MAE for Random Forest Model when null columns removed: {:,.0f}\".format(reg_n_val_mae))"
   ]
  },
  {
   "cell_type": "markdown",
   "id": "aefd6daf",
   "metadata": {
    "papermill": {
     "duration": 0.019187,
     "end_time": "2022-05-26T14:14:05.354542",
     "exception": false,
     "start_time": "2022-05-26T14:14:05.335355",
     "status": "completed"
    },
    "tags": []
   },
   "source": [
    "# Null values replaced Dataset"
   ]
  },
  {
   "cell_type": "code",
   "execution_count": 28,
   "id": "8e90dbd6",
   "metadata": {
    "execution": {
     "iopub.execute_input": "2022-05-26T14:14:05.395131Z",
     "iopub.status.busy": "2022-05-26T14:14:05.394665Z",
     "iopub.status.idle": "2022-05-26T14:14:07.617745Z",
     "shell.execute_reply": "2022-05-26T14:14:07.616310Z"
    },
    "papermill": {
     "duration": 2.247477,
     "end_time": "2022-05-26T14:14:07.621449",
     "exception": false,
     "start_time": "2022-05-26T14:14:05.373972",
     "status": "completed"
    },
    "tags": []
   },
   "outputs": [
    {
     "name": "stdout",
     "output_type": "stream",
     "text": [
      "Validation MAE for Random Forest Model: 16,660\n"
     ]
    }
   ],
   "source": [
    "reg = RandomForestRegressor(random_state=1)\n",
    "reg.fit(train_X, train_y)\n",
    "reg_predictions = reg.predict(test_X)\n",
    "reg_val_mae = mean_absolute_error(reg_predictions, test_y)\n",
    "\n",
    "print(\"Validation MAE for Random Forest Model: {:,.0f}\".format(reg_val_mae))"
   ]
  },
  {
   "cell_type": "markdown",
   "id": "bb3cfbd2",
   "metadata": {
    "papermill": {
     "duration": 0.019336,
     "end_time": "2022-05-26T14:14:07.661459",
     "exception": false,
     "start_time": "2022-05-26T14:14:07.642123",
     "status": "completed"
    },
    "tags": []
   },
   "source": [
    "# For null removed Dataset"
   ]
  },
  {
   "cell_type": "code",
   "execution_count": 29,
   "id": "eb7f4a10",
   "metadata": {
    "execution": {
     "iopub.execute_input": "2022-05-26T14:14:07.702749Z",
     "iopub.status.busy": "2022-05-26T14:14:07.702299Z",
     "iopub.status.idle": "2022-05-26T14:14:07.706774Z",
     "shell.execute_reply": "2022-05-26T14:14:07.705769Z"
    },
    "jupyter": {
     "source_hidden": true
    },
    "papermill": {
     "duration": 0.027474,
     "end_time": "2022-05-26T14:14:07.708707",
     "exception": false,
     "start_time": "2022-05-26T14:14:07.681233",
     "status": "completed"
    },
    "tags": []
   },
   "outputs": [],
   "source": [
    "# To improve accuracy, create a new Random Forest model which you will train on all training data\n",
    "#rf_new_on_full_data = RandomForestRegressor(random_state = 1)\n",
    "\n",
    "# fit rf_model_on_full_data on all data from the training data\n",
    "#rf_new_on_full_data.fit(new_train_encoded,y)\n",
    "\n",
    "#new_test_preds = rf_new_on_full_data.predict(new_test_encoded)"
   ]
  },
  {
   "cell_type": "markdown",
   "id": "9a055674",
   "metadata": {
    "papermill": {
     "duration": 0.019838,
     "end_time": "2022-05-26T14:14:07.748455",
     "exception": false,
     "start_time": "2022-05-26T14:14:07.728617",
     "status": "completed"
    },
    "tags": []
   },
   "source": [
    "# Decision Tree"
   ]
  },
  {
   "cell_type": "code",
   "execution_count": 30,
   "id": "0df52284",
   "metadata": {
    "execution": {
     "iopub.execute_input": "2022-05-26T14:14:07.790594Z",
     "iopub.status.busy": "2022-05-26T14:14:07.789430Z",
     "iopub.status.idle": "2022-05-26T14:14:07.833898Z",
     "shell.execute_reply": "2022-05-26T14:14:07.832631Z"
    },
    "papermill": {
     "duration": 0.069262,
     "end_time": "2022-05-26T14:14:07.837667",
     "exception": false,
     "start_time": "2022-05-26T14:14:07.768405",
     "status": "completed"
    },
    "tags": []
   },
   "outputs": [
    {
     "name": "stdout",
     "output_type": "stream",
     "text": [
      "Validation MAE for Decision Tree Model: 26,772\n"
     ]
    }
   ],
   "source": [
    "from sklearn.tree import DecisionTreeRegressor\n",
    "dt_reg = DecisionTreeRegressor(random_state=1 )\n",
    "dt_reg.fit(train_X, train_y)\n",
    "dt_reg_predictions = dt_reg.predict(test_X)\n",
    "dt_reg_val_mae = mean_absolute_error(dt_reg_predictions, test_y)\n",
    "\n",
    "print(\"Validation MAE for Decision Tree Model: {:,.0f}\".format(dt_reg_val_mae))"
   ]
  },
  {
   "cell_type": "markdown",
   "id": "ec6c3f9a",
   "metadata": {
    "papermill": {
     "duration": 0.020449,
     "end_time": "2022-05-26T14:14:07.879091",
     "exception": false,
     "start_time": "2022-05-26T14:14:07.858642",
     "status": "completed"
    },
    "tags": []
   },
   "source": [
    "# Bagging"
   ]
  },
  {
   "cell_type": "code",
   "execution_count": 31,
   "id": "814ba58f",
   "metadata": {
    "execution": {
     "iopub.execute_input": "2022-05-26T14:14:07.921392Z",
     "iopub.status.busy": "2022-05-26T14:14:07.920952Z",
     "iopub.status.idle": "2022-05-26T14:14:08.179556Z",
     "shell.execute_reply": "2022-05-26T14:14:08.178042Z"
    },
    "papermill": {
     "duration": 0.282885,
     "end_time": "2022-05-26T14:14:08.182664",
     "exception": false,
     "start_time": "2022-05-26T14:14:07.899779",
     "status": "completed"
    },
    "tags": []
   },
   "outputs": [
    {
     "name": "stdout",
     "output_type": "stream",
     "text": [
      "Validation MAE for Bagging Model: 17,644\n"
     ]
    }
   ],
   "source": [
    "from sklearn.ensemble import BaggingRegressor\n",
    "bag_reg = BaggingRegressor(random_state=1 )\n",
    "bag_reg.fit(train_X, train_y)\n",
    "bag_reg_predictions = bag_reg.predict(test_X)\n",
    "bag_reg_val_mae = mean_absolute_error(bag_reg_predictions, test_y)\n",
    "\n",
    "print(\"Validation MAE for Bagging Model: {:,.0f}\".format(bag_reg_val_mae))"
   ]
  },
  {
   "cell_type": "markdown",
   "id": "af7259b7",
   "metadata": {
    "papermill": {
     "duration": 0.019942,
     "end_time": "2022-05-26T14:14:08.223011",
     "exception": false,
     "start_time": "2022-05-26T14:14:08.203069",
     "status": "completed"
    },
    "tags": []
   },
   "source": [
    "# AdaBoost Regressor"
   ]
  },
  {
   "cell_type": "code",
   "execution_count": 32,
   "id": "aaf2964b",
   "metadata": {
    "execution": {
     "iopub.execute_input": "2022-05-26T14:14:08.266392Z",
     "iopub.status.busy": "2022-05-26T14:14:08.265511Z",
     "iopub.status.idle": "2022-05-26T14:14:08.718373Z",
     "shell.execute_reply": "2022-05-26T14:14:08.717255Z"
    },
    "papermill": {
     "duration": 0.47641,
     "end_time": "2022-05-26T14:14:08.720460",
     "exception": false,
     "start_time": "2022-05-26T14:14:08.244050",
     "status": "completed"
    },
    "tags": []
   },
   "outputs": [
    {
     "name": "stdout",
     "output_type": "stream",
     "text": [
      "Validation MAE for AdaBoost Regressor Model: 21,346\n"
     ]
    }
   ],
   "source": [
    "from sklearn.ensemble import AdaBoostRegressor\n",
    "ada_reg = AdaBoostRegressor(random_state=1 )\n",
    "ada_reg.fit(train_X, train_y)\n",
    "ada_reg_predictions = ada_reg.predict(test_X)\n",
    "ada_reg_val_mae = mean_absolute_error(ada_reg_predictions, test_y)\n",
    "\n",
    "print(\"Validation MAE for AdaBoost Regressor Model: {:,.0f}\".format(ada_reg_val_mae))"
   ]
  },
  {
   "cell_type": "markdown",
   "id": "26c72323",
   "metadata": {
    "papermill": {
     "duration": 0.01961,
     "end_time": "2022-05-26T14:14:08.760052",
     "exception": false,
     "start_time": "2022-05-26T14:14:08.740442",
     "status": "completed"
    },
    "tags": []
   },
   "source": [
    "# Gradient Boosting"
   ]
  },
  {
   "cell_type": "code",
   "execution_count": 33,
   "id": "aa880bda",
   "metadata": {
    "execution": {
     "iopub.execute_input": "2022-05-26T14:14:08.801647Z",
     "iopub.status.busy": "2022-05-26T14:14:08.800925Z",
     "iopub.status.idle": "2022-05-26T14:14:09.588512Z",
     "shell.execute_reply": "2022-05-26T14:14:09.587084Z"
    },
    "papermill": {
     "duration": 0.810918,
     "end_time": "2022-05-26T14:14:09.590767",
     "exception": false,
     "start_time": "2022-05-26T14:14:08.779849",
     "status": "completed"
    },
    "tags": []
   },
   "outputs": [
    {
     "name": "stdout",
     "output_type": "stream",
     "text": [
      "Validation MAE for GradientBoosting Regressor Model: 14,422\n"
     ]
    }
   ],
   "source": [
    "from sklearn.ensemble import GradientBoostingRegressor\n",
    "gradb_reg = GradientBoostingRegressor(random_state=1 )\n",
    "gradb_reg.fit(train_X, train_y)\n",
    "gradb_reg_predictions = gradb_reg.predict(test_X)\n",
    "gradb_reg_val_mae = mean_absolute_error(gradb_reg_predictions, test_y)\n",
    "\n",
    "print(\"Validation MAE for GradientBoosting Regressor Model: {:,.0f}\".format(gradb_reg_val_mae))"
   ]
  },
  {
   "cell_type": "markdown",
   "id": "5ad0e27d",
   "metadata": {
    "papermill": {
     "duration": 0.019807,
     "end_time": "2022-05-26T14:14:09.630651",
     "exception": false,
     "start_time": "2022-05-26T14:14:09.610844",
     "status": "completed"
    },
    "tags": []
   },
   "source": [
    "# XGBOOST"
   ]
  },
  {
   "cell_type": "code",
   "execution_count": 34,
   "id": "32667b00",
   "metadata": {
    "execution": {
     "iopub.execute_input": "2022-05-26T14:14:09.672580Z",
     "iopub.status.busy": "2022-05-26T14:14:09.671879Z",
     "iopub.status.idle": "2022-05-26T14:14:10.846718Z",
     "shell.execute_reply": "2022-05-26T14:14:10.845862Z"
    },
    "papermill": {
     "duration": 1.198598,
     "end_time": "2022-05-26T14:14:10.849266",
     "exception": false,
     "start_time": "2022-05-26T14:14:09.650668",
     "status": "completed"
    },
    "tags": []
   },
   "outputs": [
    {
     "name": "stdout",
     "output_type": "stream",
     "text": [
      "Validation MAE for XGBOOST Model: 15,654\n"
     ]
    }
   ],
   "source": [
    "from xgboost import XGBRegressor\n",
    "xg_reg = XGBRegressor(random_state=1 )\n",
    "xg_reg.fit(train_X, train_y)\n",
    "xg_reg_predictions = xg_reg.predict(test_X)\n",
    "xg_reg_val_mae = mean_absolute_error(xg_reg_predictions, test_y)\n",
    "\n",
    "print(\"Validation MAE for XGBOOST Model: {:,.0f}\".format(xg_reg_val_mae))"
   ]
  },
  {
   "cell_type": "code",
   "execution_count": 35,
   "id": "ec58b470",
   "metadata": {
    "execution": {
     "iopub.execute_input": "2022-05-26T14:14:10.893530Z",
     "iopub.status.busy": "2022-05-26T14:14:10.892972Z",
     "iopub.status.idle": "2022-05-26T14:14:10.905614Z",
     "shell.execute_reply": "2022-05-26T14:14:10.904546Z"
    },
    "papermill": {
     "duration": 0.036554,
     "end_time": "2022-05-26T14:14:10.907717",
     "exception": false,
     "start_time": "2022-05-26T14:14:10.871163",
     "status": "completed"
    },
    "tags": []
   },
   "outputs": [
    {
     "data": {
      "text/plain": [
       "<bound method XGBModel.get_params of XGBRegressor(base_score=0.5, booster='gbtree', callbacks=None,\n",
       "             colsample_bylevel=1, colsample_bynode=1, colsample_bytree=1,\n",
       "             early_stopping_rounds=None, enable_categorical=False,\n",
       "             eval_metric=None, gamma=0, gpu_id=-1, grow_policy='depthwise',\n",
       "             importance_type=None, interaction_constraints='',\n",
       "             learning_rate=0.300000012, max_bin=256, max_cat_to_onehot=4,\n",
       "             max_delta_step=0, max_depth=6, max_leaves=0, min_child_weight=1,\n",
       "             missing=nan, monotone_constraints='()', n_estimators=100, n_jobs=0,\n",
       "             num_parallel_tree=1, predictor='auto', random_state=1, reg_alpha=0,\n",
       "             reg_lambda=1, ...)>"
      ]
     },
     "execution_count": 35,
     "metadata": {},
     "output_type": "execute_result"
    }
   ],
   "source": [
    "xg_reg.get_params"
   ]
  },
  {
   "cell_type": "markdown",
   "id": "b00077cc",
   "metadata": {
    "papermill": {
     "duration": 0.020154,
     "end_time": "2022-05-26T14:14:10.948546",
     "exception": false,
     "start_time": "2022-05-26T14:14:10.928392",
     "status": "completed"
    },
    "tags": []
   },
   "source": [
    "# CATBOOST"
   ]
  },
  {
   "cell_type": "code",
   "execution_count": 36,
   "id": "061582dc",
   "metadata": {
    "execution": {
     "iopub.execute_input": "2022-05-26T14:14:10.991856Z",
     "iopub.status.busy": "2022-05-26T14:14:10.991412Z",
     "iopub.status.idle": "2022-05-26T14:14:15.968616Z",
     "shell.execute_reply": "2022-05-26T14:14:15.967378Z"
    },
    "papermill": {
     "duration": 5.001357,
     "end_time": "2022-05-26T14:14:15.970848",
     "exception": false,
     "start_time": "2022-05-26T14:14:10.969491",
     "status": "completed"
    },
    "tags": []
   },
   "outputs": [
    {
     "name": "stdout",
     "output_type": "stream",
     "text": [
      "Validation MAE for CATBOOST Model: 13,684\n"
     ]
    }
   ],
   "source": [
    "from catboost import CatBoostRegressor\n",
    "cat_reg = CatBoostRegressor(random_state=1, verbose=False )    # iterations and loss will not come in output if silent=true\n",
    "cat_reg.fit(train_X, train_y)\n",
    "cat_reg_predictions = cat_reg.predict(test_X)\n",
    "cat_reg_val_mae = mean_absolute_error(cat_reg_predictions, test_y)\n",
    "\n",
    "print(\"Validation MAE for CATBOOST Model: {:,.0f}\".format(cat_reg_val_mae))"
   ]
  },
  {
   "cell_type": "markdown",
   "id": "70ae2966",
   "metadata": {
    "papermill": {
     "duration": 0.020079,
     "end_time": "2022-05-26T14:14:16.011607",
     "exception": false,
     "start_time": "2022-05-26T14:14:15.991528",
     "status": "completed"
    },
    "tags": []
   },
   "source": [
    "> silent=true makes sure the output is clean and no iterations are there in output.\n",
    "  Similarly verbose = False"
   ]
  },
  {
   "cell_type": "markdown",
   "id": "94ac9e8d",
   "metadata": {
    "papermill": {
     "duration": 0.020134,
     "end_time": "2022-05-26T14:14:16.052260",
     "exception": false,
     "start_time": "2022-05-26T14:14:16.032126",
     "status": "completed"
    },
    "tags": []
   },
   "source": [
    "# Train a model for the competition\n",
    "\n",
    "The code cell above trains a Random Forest model on **`train_X`** and **`train_y`**.  \n",
    "\n",
    "Use the code cell below to build a Random Forest model and train it on all of **`X`** and **`y`**."
   ]
  },
  {
   "cell_type": "code",
   "execution_count": 37,
   "id": "06566ba9",
   "metadata": {
    "execution": {
     "iopub.execute_input": "2022-05-26T14:14:16.096190Z",
     "iopub.status.busy": "2022-05-26T14:14:16.095337Z",
     "iopub.status.idle": "2022-05-26T14:14:20.883140Z",
     "shell.execute_reply": "2022-05-26T14:14:20.881840Z"
    },
    "papermill": {
     "duration": 4.812663,
     "end_time": "2022-05-26T14:14:20.885781",
     "exception": false,
     "start_time": "2022-05-26T14:14:16.073118",
     "status": "completed"
    },
    "tags": []
   },
   "outputs": [
    {
     "data": {
      "text/plain": [
       "<catboost.core.CatBoostRegressor at 0x7f37b87627d0>"
      ]
     },
     "execution_count": 37,
     "metadata": {},
     "output_type": "execute_result"
    }
   ],
   "source": [
    "# To improve accuracy, create a new Random Forest model which you will train on all training data\n",
    "rf_model_on_full_data = CatBoostRegressor(random_state = 1, verbose=False)\n",
    "\n",
    "# fit rf_model_on_full_data on all data from the training data\n",
    "rf_model_on_full_data.fit(train_encoded,y)"
   ]
  },
  {
   "cell_type": "markdown",
   "id": "48aa17b9",
   "metadata": {
    "papermill": {
     "duration": 0.027942,
     "end_time": "2022-05-26T14:14:20.940069",
     "exception": false,
     "start_time": "2022-05-26T14:14:20.912127",
     "status": "completed"
    },
    "tags": []
   },
   "source": [
    "Now, read the file of \"test\" data, and apply your model to make predictions."
   ]
  },
  {
   "cell_type": "code",
   "execution_count": 38,
   "id": "b6bfd5af",
   "metadata": {
    "execution": {
     "iopub.execute_input": "2022-05-26T14:14:20.983397Z",
     "iopub.status.busy": "2022-05-26T14:14:20.982930Z",
     "iopub.status.idle": "2022-05-26T14:14:21.138365Z",
     "shell.execute_reply": "2022-05-26T14:14:21.137215Z"
    },
    "papermill": {
     "duration": 0.179814,
     "end_time": "2022-05-26T14:14:21.140822",
     "exception": false,
     "start_time": "2022-05-26T14:14:20.961008",
     "status": "completed"
    },
    "tags": []
   },
   "outputs": [],
   "source": [
    "# make predictions which we will submit. \n",
    "test_preds = rf_model_on_full_data.predict(test_encoded)"
   ]
  },
  {
   "cell_type": "markdown",
   "id": "196875f0",
   "metadata": {
    "papermill": {
     "duration": 0.02055,
     "end_time": "2022-05-26T14:14:21.182470",
     "exception": false,
     "start_time": "2022-05-26T14:14:21.161920",
     "status": "completed"
    },
    "tags": []
   },
   "source": [
    "Before submitting, run a check to make sure your `test_preds` have the right format."
   ]
  },
  {
   "cell_type": "code",
   "execution_count": 39,
   "id": "d52048ea",
   "metadata": {
    "execution": {
     "iopub.execute_input": "2022-05-26T14:14:21.225815Z",
     "iopub.status.busy": "2022-05-26T14:14:21.225361Z",
     "iopub.status.idle": "2022-05-26T14:14:21.235211Z",
     "shell.execute_reply": "2022-05-26T14:14:21.234240Z"
    },
    "papermill": {
     "duration": 0.034224,
     "end_time": "2022-05-26T14:14:21.237688",
     "exception": false,
     "start_time": "2022-05-26T14:14:21.203464",
     "status": "completed"
    },
    "tags": []
   },
   "outputs": [
    {
     "data": {
      "application/javascript": [
       "parent.postMessage({\"jupyterEvent\": \"custom.exercise_interaction\", \"data\": {\"outcomeType\": 1, \"valueTowardsCompletion\": 1.0, \"interactionType\": 1, \"questionType\": 2, \"questionId\": \"1_CheckSubmittablePreds\", \"learnToolsVersion\": \"0.3.4\", \"failureMessage\": \"\", \"exceptionClass\": \"\", \"trace\": \"\"}}, \"*\")"
      ],
      "text/plain": [
       "<IPython.core.display.Javascript object>"
      ]
     },
     "metadata": {},
     "output_type": "display_data"
    },
    {
     "data": {
      "text/markdown": [
       "<span style=\"color:#33cc33\">Correct</span>"
      ],
      "text/plain": [
       "Correct"
      ]
     },
     "metadata": {},
     "output_type": "display_data"
    }
   ],
   "source": [
    "# Check your answer (To get credit for completing the exercise, you must get a \"Correct\" result!)\n",
    "step_1.check()\n",
    "# step_1.solution()"
   ]
  },
  {
   "cell_type": "markdown",
   "id": "377ac891",
   "metadata": {
    "papermill": {
     "duration": 0.02047,
     "end_time": "2022-05-26T14:14:21.280012",
     "exception": false,
     "start_time": "2022-05-26T14:14:21.259542",
     "status": "completed"
    },
    "tags": []
   },
   "source": [
    "# Generate a submission\n",
    "\n",
    "Run the code cell below to generate a CSV file with your predictions that you can use to submit to the competition."
   ]
  },
  {
   "cell_type": "code",
   "execution_count": 40,
   "id": "af5c276f",
   "metadata": {
    "execution": {
     "iopub.execute_input": "2022-05-26T14:14:21.323939Z",
     "iopub.status.busy": "2022-05-26T14:14:21.323469Z",
     "iopub.status.idle": "2022-05-26T14:14:21.338920Z",
     "shell.execute_reply": "2022-05-26T14:14:21.337708Z"
    },
    "papermill": {
     "duration": 0.040322,
     "end_time": "2022-05-26T14:14:21.341430",
     "exception": false,
     "start_time": "2022-05-26T14:14:21.301108",
     "status": "completed"
    },
    "tags": []
   },
   "outputs": [],
   "source": [
    "# Run the code to save predictions in the format used for competition scoring\n",
    "\n",
    "output = pd.DataFrame({'Id': test_data_Id,\n",
    "                       'SalePrice': test_preds})\n",
    "output.to_csv('submission.csv', index=False)"
   ]
  },
  {
   "cell_type": "markdown",
   "id": "39c90432",
   "metadata": {
    "papermill": {
     "duration": 0.02042,
     "end_time": "2022-05-26T14:14:21.383007",
     "exception": false,
     "start_time": "2022-05-26T14:14:21.362587",
     "status": "completed"
    },
    "tags": []
   },
   "source": [
    "# Submit to the competition\n",
    "\n",
    "To test your results, you'll need to join the competition (if you haven't already).  So open a new window by clicking on **[this link](https://www.kaggle.com/c/home-data-for-ml-course)**.  Then click on the **Join Competition** button.\n",
    "\n",
    "![join competition image](https://i.imgur.com/axBzctl.png)\n",
    "\n",
    "Next, follow the instructions below:\n",
    "1. Begin by clicking on the **Save Version** button in the top right corner of the window.  This will generate a pop-up window.  \n",
    "2. Ensure that the **Save and Run All** option is selected, and then click on the **Save** button.\n",
    "3. This generates a window in the bottom left corner of the notebook.  After it has finished running, click on the number to the right of the **Save Version** button.  This pulls up a list of versions on the right of the screen.  Click on the ellipsis **(...)** to the right of the most recent version, and select **Open in Viewer**.  This brings you into view mode of the same page. You will need to scroll down to get back to these instructions.\n",
    "4. Click on the **Output** tab on the right of the screen.  Then, click on the file you would like to submit, and click on the **Submit** button to submit your results to the leaderboard.\n",
    "\n",
    "You have now successfully submitted to the competition!\n",
    "\n",
    "If you want to keep working to improve your performance, select the **Edit** button in the top right of the screen. Then you can change your code and repeat the process. There's a lot of room to improve, and you will climb up the leaderboard as you work.\n",
    "\n",
    "\n",
    "# Continue Your Progress\n",
    "There are many ways to improve your model, and **experimenting is a great way to learn at this point.**\n",
    "\n",
    "The best way to improve your model is to add features.  To add more features to the data, revisit the first code cell, and change this line of code to include more column names:\n",
    "```python\n",
    "features = ['LotArea', 'YearBuilt', '1stFlrSF', '2ndFlrSF', 'FullBath', 'BedroomAbvGr', 'TotRmsAbvGrd']\n",
    "```\n",
    "\n",
    "Some features will cause errors because of issues like missing values or non-numeric data types.  Here is a complete list of potential columns that you might like to use, and that won't throw errors:\n",
    "- 'MSSubClass'\n",
    "- 'LotArea'\n",
    "- 'OverallQual' \n",
    "- 'OverallCond' \n",
    "- 'YearBuilt'\n",
    "- 'YearRemodAdd' \n",
    "- '1stFlrSF'\n",
    "- '2ndFlrSF' \n",
    "- 'LowQualFinSF' \n",
    "- 'GrLivArea'\n",
    "- 'FullBath'\n",
    "- 'HalfBath'\n",
    "- 'BedroomAbvGr' \n",
    "- 'KitchenAbvGr' \n",
    "- 'TotRmsAbvGrd' \n",
    "- 'Fireplaces' \n",
    "- 'WoodDeckSF' \n",
    "- 'OpenPorchSF'\n",
    "- 'EnclosedPorch' \n",
    "- '3SsnPorch' \n",
    "- 'ScreenPorch' \n",
    "- 'PoolArea' \n",
    "- 'MiscVal' \n",
    "- 'MoSold' \n",
    "- 'YrSold'\n",
    "\n",
    "Look at the list of columns and think about what might affect home prices.  To learn more about each of these features, take a look at the data description on the **[competition page](https://www.kaggle.com/c/home-data-for-ml-course/data)**.\n",
    "\n",
    "After updating the code cell above that defines the features, re-run all of the code cells to evaluate the model and generate a new submission file.  \n",
    "\n",
    "\n",
    "# What's next?\n",
    "\n",
    "As mentioned above, some of the features will throw an error if you try to use them to train your model.  The **[Intermediate Machine Learning](https://www.kaggle.com/learn/intermediate-machine-learning)** course will teach you how to handle these types of features. You will also learn to use **xgboost**, a technique giving even better accuracy than Random Forest.\n",
    "\n",
    "The **[Pandas](https://kaggle.com/Learn/Pandas)** course will give you the data manipulation skills to quickly go from conceptual idea to implementation in your data science projects. \n",
    "\n",
    "You are also ready for the **[Deep Learning](https://kaggle.com/Learn/intro-to-Deep-Learning)** course, where you will build models with better-than-human level performance at computer vision tasks."
   ]
  },
  {
   "cell_type": "markdown",
   "id": "8880a9f1",
   "metadata": {
    "papermill": {
     "duration": 0.020506,
     "end_time": "2022-05-26T14:14:21.424395",
     "exception": false,
     "start_time": "2022-05-26T14:14:21.403889",
     "status": "completed"
    },
    "tags": []
   },
   "source": [
    "---\n",
    "\n",
    "\n",
    "\n",
    "\n",
    "*Have questions or comments? Visit the [course discussion forum](https://www.kaggle.com/learn/intro-to-machine-learning/discussion) to chat with other learners.*"
   ]
  }
 ],
 "metadata": {
  "kernelspec": {
   "display_name": "Python 3",
   "language": "python",
   "name": "python3"
  },
  "language_info": {
   "codemirror_mode": {
    "name": "ipython",
    "version": 3
   },
   "file_extension": ".py",
   "mimetype": "text/x-python",
   "name": "python",
   "nbconvert_exporter": "python",
   "pygments_lexer": "ipython3",
   "version": "3.7.12"
  },
  "papermill": {
   "default_parameters": {},
   "duration": 31.953827,
   "end_time": "2022-05-26T14:14:22.468802",
   "environment_variables": {},
   "exception": null,
   "input_path": "__notebook__.ipynb",
   "output_path": "__notebook__.ipynb",
   "parameters": {},
   "start_time": "2022-05-26T14:13:50.514975",
   "version": "2.3.4"
  }
 },
 "nbformat": 4,
 "nbformat_minor": 5
}
